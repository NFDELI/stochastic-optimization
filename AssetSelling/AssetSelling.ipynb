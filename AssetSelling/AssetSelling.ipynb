{
 "cells": [
  {
   "cell_type": "markdown",
   "metadata": {},
   "source": [
    "# An Asset Selling Model\n",
    "In this notebook you will optimize some simple parametric policies for the asset selling problem.\n",
    "\n",
    "We start by creating an instance of the model and an instance of a policy. Let's start with the Sell-Low-policy. First, we instantiatie a model and specify the initial value for the state (price) and the length of the time horizon T in the constructor. It would also be possible to exert more control on the exogenous information process by specifying parameters for it, that are used inside the process."
   ]
  },
  {
   "cell_type": "code",
   "execution_count": 1,
   "metadata": {},
   "outputs": [],
   "source": [
    "import sys\n",
    "sys.path.append(\"../\")\n",
    "import numpy as np\n",
    "import pandas as pd\n",
    "import plotly.express as px\n",
    "import AssetSellingModel as asm\n",
    "import AssetSellingPolicies as asp\n",
    "from BaseClasses import Util as util\n",
    "\n",
    "model = asm.AssetSellingModel(S0={\"price\": 20}, T=30)"
   ]
  },
  {
   "cell_type": "markdown",
   "metadata": {},
   "source": [
    "Next, we create a policy for this model. The high-low-policy has two tunable parameters, namely `theta_low` and `theta_high`.\n",
    "Then, we run the policy for 100 iterations/episodes. The `run_policy` method returns the average objective function value over all episodes."
   ]
  },
  {
   "cell_type": "code",
   "execution_count": 2,
   "metadata": {},
   "outputs": [
    {
     "data": {
      "text/plain": [
       "20.404837312953806"
      ]
     },
     "execution_count": 2,
     "metadata": {},
     "output_type": "execute_result"
    }
   ],
   "source": [
    "high_low_policy = asp.HighLowPolicy(model=model, theta_low=10, theta_high=30)\n",
    "high_low_policy.run_policy(n_iterations=100)"
   ]
  },
  {
   "cell_type": "markdown",
   "metadata": {},
   "source": [
    "## Exercise 1\n",
    "Execute the cell several times. How do you explain that the result is different every time? Do you notice any difference in this behavior if you change the number of iteration to 10, 1000, 10000?\n",
    "\n",
    "---"
   ]
  },
  {
   "cell_type": "markdown",
   "metadata": {},
   "source": [
    "We investigate the results in more detail. The results of a policy run are stored in an in a DataFrame called results. Every row corresponds to one timestep of one iteration/episode."
   ]
  },
  {
   "cell_type": "code",
   "execution_count": 3,
   "metadata": {},
   "outputs": [
    {
     "data": {
      "text/html": [
       "<div>\n",
       "<style scoped>\n",
       "    .dataframe tbody tr th:only-of-type {\n",
       "        vertical-align: middle;\n",
       "    }\n",
       "\n",
       "    .dataframe tbody tr th {\n",
       "        vertical-align: top;\n",
       "    }\n",
       "\n",
       "    .dataframe thead th {\n",
       "        text-align: right;\n",
       "    }\n",
       "</style>\n",
       "<table border=\"1\" class=\"dataframe\">\n",
       "  <thead>\n",
       "    <tr style=\"text-align: right;\">\n",
       "      <th></th>\n",
       "      <th>N</th>\n",
       "      <th>t</th>\n",
       "      <th>C_t sum</th>\n",
       "      <th>price</th>\n",
       "      <th>bias</th>\n",
       "      <th>price_smoothed</th>\n",
       "      <th>resource</th>\n",
       "      <th>sell</th>\n",
       "      <th>t_end</th>\n",
       "      <th>C_t</th>\n",
       "    </tr>\n",
       "  </thead>\n",
       "  <tbody>\n",
       "    <tr>\n",
       "      <th>0</th>\n",
       "      <td>0</td>\n",
       "      <td>0</td>\n",
       "      <td>0.000000</td>\n",
       "      <td>20.000000</td>\n",
       "      <td>Neutral</td>\n",
       "      <td>20.000000</td>\n",
       "      <td>1</td>\n",
       "      <td>0.0</td>\n",
       "      <td>22</td>\n",
       "      <td>0.000000</td>\n",
       "    </tr>\n",
       "    <tr>\n",
       "      <th>1</th>\n",
       "      <td>0</td>\n",
       "      <td>1</td>\n",
       "      <td>0.000000</td>\n",
       "      <td>17.776240</td>\n",
       "      <td>Neutral</td>\n",
       "      <td>18.443368</td>\n",
       "      <td>1</td>\n",
       "      <td>0.0</td>\n",
       "      <td>22</td>\n",
       "      <td>0.000000</td>\n",
       "    </tr>\n",
       "    <tr>\n",
       "      <th>2</th>\n",
       "      <td>0</td>\n",
       "      <td>2</td>\n",
       "      <td>0.000000</td>\n",
       "      <td>19.414044</td>\n",
       "      <td>Up</td>\n",
       "      <td>19.122841</td>\n",
       "      <td>1</td>\n",
       "      <td>0.0</td>\n",
       "      <td>22</td>\n",
       "      <td>0.000000</td>\n",
       "    </tr>\n",
       "    <tr>\n",
       "      <th>3</th>\n",
       "      <td>0</td>\n",
       "      <td>3</td>\n",
       "      <td>0.000000</td>\n",
       "      <td>20.972127</td>\n",
       "      <td>Up</td>\n",
       "      <td>20.417341</td>\n",
       "      <td>1</td>\n",
       "      <td>0.0</td>\n",
       "      <td>22</td>\n",
       "      <td>0.000000</td>\n",
       "    </tr>\n",
       "    <tr>\n",
       "      <th>4</th>\n",
       "      <td>0</td>\n",
       "      <td>4</td>\n",
       "      <td>0.000000</td>\n",
       "      <td>23.993157</td>\n",
       "      <td>Up</td>\n",
       "      <td>22.920412</td>\n",
       "      <td>1</td>\n",
       "      <td>0.0</td>\n",
       "      <td>22</td>\n",
       "      <td>0.000000</td>\n",
       "    </tr>\n",
       "    <tr>\n",
       "      <th>...</th>\n",
       "      <td>...</td>\n",
       "      <td>...</td>\n",
       "      <td>...</td>\n",
       "      <td>...</td>\n",
       "      <td>...</td>\n",
       "      <td>...</td>\n",
       "      <td>...</td>\n",
       "      <td>...</td>\n",
       "      <td>...</td>\n",
       "      <td>...</td>\n",
       "    </tr>\n",
       "    <tr>\n",
       "      <th>1732</th>\n",
       "      <td>99</td>\n",
       "      <td>8</td>\n",
       "      <td>0.000000</td>\n",
       "      <td>15.706782</td>\n",
       "      <td>Neutral</td>\n",
       "      <td>16.503775</td>\n",
       "      <td>1</td>\n",
       "      <td>0.0</td>\n",
       "      <td>12</td>\n",
       "      <td>0.000000</td>\n",
       "    </tr>\n",
       "    <tr>\n",
       "      <th>1733</th>\n",
       "      <td>99</td>\n",
       "      <td>9</td>\n",
       "      <td>0.000000</td>\n",
       "      <td>12.204026</td>\n",
       "      <td>Down</td>\n",
       "      <td>13.493951</td>\n",
       "      <td>1</td>\n",
       "      <td>0.0</td>\n",
       "      <td>12</td>\n",
       "      <td>0.000000</td>\n",
       "    </tr>\n",
       "    <tr>\n",
       "      <th>1734</th>\n",
       "      <td>99</td>\n",
       "      <td>10</td>\n",
       "      <td>0.000000</td>\n",
       "      <td>10.267158</td>\n",
       "      <td>Down</td>\n",
       "      <td>11.235196</td>\n",
       "      <td>1</td>\n",
       "      <td>0.0</td>\n",
       "      <td>12</td>\n",
       "      <td>0.000000</td>\n",
       "    </tr>\n",
       "    <tr>\n",
       "      <th>1735</th>\n",
       "      <td>99</td>\n",
       "      <td>11</td>\n",
       "      <td>0.000000</td>\n",
       "      <td>6.957769</td>\n",
       "      <td>Down</td>\n",
       "      <td>8.240997</td>\n",
       "      <td>1</td>\n",
       "      <td>1.0</td>\n",
       "      <td>12</td>\n",
       "      <td>6.957769</td>\n",
       "    </tr>\n",
       "    <tr>\n",
       "      <th>1736</th>\n",
       "      <td>99</td>\n",
       "      <td>12</td>\n",
       "      <td>6.957769</td>\n",
       "      <td>4.766967</td>\n",
       "      <td>Neutral</td>\n",
       "      <td>5.809176</td>\n",
       "      <td>0</td>\n",
       "      <td>NaN</td>\n",
       "      <td>12</td>\n",
       "      <td>NaN</td>\n",
       "    </tr>\n",
       "  </tbody>\n",
       "</table>\n",
       "<p>1737 rows × 10 columns</p>\n",
       "</div>"
      ],
      "text/plain": [
       "       N   t   C_t sum      price     bias  price_smoothed  resource  sell  \\\n",
       "0      0   0  0.000000  20.000000  Neutral       20.000000         1   0.0   \n",
       "1      0   1  0.000000  17.776240  Neutral       18.443368         1   0.0   \n",
       "2      0   2  0.000000  19.414044       Up       19.122841         1   0.0   \n",
       "3      0   3  0.000000  20.972127       Up       20.417341         1   0.0   \n",
       "4      0   4  0.000000  23.993157       Up       22.920412         1   0.0   \n",
       "...   ..  ..       ...        ...      ...             ...       ...   ...   \n",
       "1732  99   8  0.000000  15.706782  Neutral       16.503775         1   0.0   \n",
       "1733  99   9  0.000000  12.204026     Down       13.493951         1   0.0   \n",
       "1734  99  10  0.000000  10.267158     Down       11.235196         1   0.0   \n",
       "1735  99  11  0.000000   6.957769     Down        8.240997         1   1.0   \n",
       "1736  99  12  6.957769   4.766967  Neutral        5.809176         0   NaN   \n",
       "\n",
       "      t_end       C_t  \n",
       "0        22  0.000000  \n",
       "1        22  0.000000  \n",
       "2        22  0.000000  \n",
       "3        22  0.000000  \n",
       "4        22  0.000000  \n",
       "...     ...       ...  \n",
       "1732     12  0.000000  \n",
       "1733     12  0.000000  \n",
       "1734     12  0.000000  \n",
       "1735     12  6.957769  \n",
       "1736     12       NaN  \n",
       "\n",
       "[1737 rows x 10 columns]"
      ]
     },
     "execution_count": 3,
     "metadata": {},
     "output_type": "execute_result"
    }
   ],
   "source": [
    "high_low_policy.results"
   ]
  },
  {
   "cell_type": "markdown",
   "metadata": {},
   "source": [
    "Next we plot a few of the 100 paths using plotly. We notice that if the price never drops below `theta_low` the asset is sold at the end of the time horizon."
   ]
  },
  {
   "cell_type": "code",
   "execution_count": 6,
   "metadata": {},
   "outputs": [
    {
     "data": {
      "application/vnd.plotly.v1+json": {
       "config": {
        "plotlyServerURL": "https://plot.ly"
       },
       "data": [
        {
         "hovertemplate": "N=27<br>t=%{x}<br>price=%{y}<extra></extra>",
         "legendgroup": "",
         "line": {
          "color": "#636efa",
          "dash": "solid"
         },
         "marker": {
          "symbol": "circle"
         },
         "mode": "lines",
         "name": "",
         "orientation": "v",
         "showlegend": false,
         "type": "scatter",
         "x": [
          0,
          1,
          2,
          3,
          4,
          5,
          6,
          7
         ],
         "xaxis": "x5",
         "y": [
          20,
          21.83965502029533,
          21.4673789472356,
          17.10373829696914,
          12.586540296980846,
          10.98581932080359,
          8.37624548748294,
          3.5088888852678197
         ],
         "yaxis": "y5"
        },
        {
         "hovertemplate": "N=30<br>t=%{x}<br>price=%{y}<extra></extra>",
         "legendgroup": "",
         "line": {
          "color": "#636efa",
          "dash": "solid"
         },
         "marker": {
          "symbol": "circle"
         },
         "mode": "lines",
         "name": "",
         "orientation": "v",
         "showlegend": false,
         "type": "scatter",
         "x": [
          0,
          1,
          2,
          3,
          4,
          5,
          6,
          7
         ],
         "xaxis": "x4",
         "y": [
          20,
          17.502906030084947,
          15.988225429227258,
          15.306407833131548,
          16.28985168403145,
          10.328234026511282,
          9.587787542224259,
          13.235537149798684
         ],
         "yaxis": "y4"
        },
        {
         "hovertemplate": "N=38<br>t=%{x}<br>price=%{y}<extra></extra>",
         "legendgroup": "",
         "line": {
          "color": "#636efa",
          "dash": "solid"
         },
         "marker": {
          "symbol": "circle"
         },
         "mode": "lines",
         "name": "",
         "orientation": "v",
         "showlegend": false,
         "type": "scatter",
         "x": [
          0,
          1,
          2,
          3,
          4,
          5,
          6,
          7,
          8
         ],
         "xaxis": "x3",
         "y": [
          20,
          21.297848421013992,
          18.513855746637972,
          21.20801376660804,
          24.653015596381803,
          26.378326840884142,
          29.975803848771736,
          30.322042289412433,
          30.22014606048158
         ],
         "yaxis": "y3"
        },
        {
         "hovertemplate": "N=70<br>t=%{x}<br>price=%{y}<extra></extra>",
         "legendgroup": "",
         "line": {
          "color": "#636efa",
          "dash": "solid"
         },
         "marker": {
          "symbol": "circle"
         },
         "mode": "lines",
         "name": "",
         "orientation": "v",
         "showlegend": false,
         "type": "scatter",
         "x": [
          0,
          1,
          2,
          3,
          4,
          5,
          6
         ],
         "xaxis": "x2",
         "y": [
          20,
          16.889225965815026,
          18.006195052875675,
          16.129975404388485,
          15.409529343920957,
          8.744490202368539,
          7.778271634853506
         ],
         "yaxis": "y2"
        },
        {
         "hovertemplate": "N=78<br>t=%{x}<br>price=%{y}<extra></extra>",
         "legendgroup": "",
         "line": {
          "color": "#636efa",
          "dash": "solid"
         },
         "marker": {
          "symbol": "circle"
         },
         "mode": "lines",
         "name": "",
         "orientation": "v",
         "showlegend": false,
         "type": "scatter",
         "x": [
          0,
          1,
          2,
          3,
          4,
          5,
          6,
          7,
          8,
          9,
          10,
          11,
          12,
          13,
          14,
          15,
          16,
          17,
          18,
          19,
          20,
          21
         ],
         "xaxis": "x",
         "y": [
          20,
          20.848323647711805,
          18.77640535689322,
          18.856453820127065,
          19.97286791401488,
          20.84798815842441,
          15.065439296376113,
          13.915687419963133,
          11.490699034346658,
          14.379539810654041,
          13.258961827870817,
          13.168552167155578,
          12.554967012583965,
          14.194256001538564,
          17.83270236813801,
          16.91257516256739,
          16.39984925662243,
          18.17336538888474,
          14.93908273513172,
          11.914892963536566,
          9.616109576049077,
          10.160299153999656
         ],
         "yaxis": "y"
        }
       ],
       "layout": {
        "annotations": [
         {
          "font": {},
          "showarrow": false,
          "text": "N=78",
          "textangle": 90,
          "x": 0.98,
          "xanchor": "left",
          "xref": "paper",
          "y": 0.08800000000000001,
          "yanchor": "middle",
          "yref": "paper"
         },
         {
          "font": {},
          "showarrow": false,
          "text": "N=70",
          "textangle": 90,
          "x": 0.98,
          "xanchor": "left",
          "xref": "paper",
          "y": 0.29400000000000004,
          "yanchor": "middle",
          "yref": "paper"
         },
         {
          "font": {},
          "showarrow": false,
          "text": "N=38",
          "textangle": 90,
          "x": 0.98,
          "xanchor": "left",
          "xref": "paper",
          "y": 0.5,
          "yanchor": "middle",
          "yref": "paper"
         },
         {
          "font": {},
          "showarrow": false,
          "text": "N=30",
          "textangle": 90,
          "x": 0.98,
          "xanchor": "left",
          "xref": "paper",
          "y": 0.706,
          "yanchor": "middle",
          "yref": "paper"
         },
         {
          "font": {},
          "showarrow": false,
          "text": "N=27",
          "textangle": 90,
          "x": 0.98,
          "xanchor": "left",
          "xref": "paper",
          "y": 0.912,
          "yanchor": "middle",
          "yref": "paper"
         }
        ],
        "height": 800,
        "legend": {
         "tracegroupgap": 0
        },
        "margin": {
         "t": 60
        },
        "template": {
         "data": {
          "bar": [
           {
            "error_x": {
             "color": "#2a3f5f"
            },
            "error_y": {
             "color": "#2a3f5f"
            },
            "marker": {
             "line": {
              "color": "#E5ECF6",
              "width": 0.5
             },
             "pattern": {
              "fillmode": "overlay",
              "size": 10,
              "solidity": 0.2
             }
            },
            "type": "bar"
           }
          ],
          "barpolar": [
           {
            "marker": {
             "line": {
              "color": "#E5ECF6",
              "width": 0.5
             },
             "pattern": {
              "fillmode": "overlay",
              "size": 10,
              "solidity": 0.2
             }
            },
            "type": "barpolar"
           }
          ],
          "carpet": [
           {
            "aaxis": {
             "endlinecolor": "#2a3f5f",
             "gridcolor": "white",
             "linecolor": "white",
             "minorgridcolor": "white",
             "startlinecolor": "#2a3f5f"
            },
            "baxis": {
             "endlinecolor": "#2a3f5f",
             "gridcolor": "white",
             "linecolor": "white",
             "minorgridcolor": "white",
             "startlinecolor": "#2a3f5f"
            },
            "type": "carpet"
           }
          ],
          "choropleth": [
           {
            "colorbar": {
             "outlinewidth": 0,
             "ticks": ""
            },
            "type": "choropleth"
           }
          ],
          "contour": [
           {
            "colorbar": {
             "outlinewidth": 0,
             "ticks": ""
            },
            "colorscale": [
             [
              0,
              "#0d0887"
             ],
             [
              0.1111111111111111,
              "#46039f"
             ],
             [
              0.2222222222222222,
              "#7201a8"
             ],
             [
              0.3333333333333333,
              "#9c179e"
             ],
             [
              0.4444444444444444,
              "#bd3786"
             ],
             [
              0.5555555555555556,
              "#d8576b"
             ],
             [
              0.6666666666666666,
              "#ed7953"
             ],
             [
              0.7777777777777778,
              "#fb9f3a"
             ],
             [
              0.8888888888888888,
              "#fdca26"
             ],
             [
              1,
              "#f0f921"
             ]
            ],
            "type": "contour"
           }
          ],
          "contourcarpet": [
           {
            "colorbar": {
             "outlinewidth": 0,
             "ticks": ""
            },
            "type": "contourcarpet"
           }
          ],
          "heatmap": [
           {
            "colorbar": {
             "outlinewidth": 0,
             "ticks": ""
            },
            "colorscale": [
             [
              0,
              "#0d0887"
             ],
             [
              0.1111111111111111,
              "#46039f"
             ],
             [
              0.2222222222222222,
              "#7201a8"
             ],
             [
              0.3333333333333333,
              "#9c179e"
             ],
             [
              0.4444444444444444,
              "#bd3786"
             ],
             [
              0.5555555555555556,
              "#d8576b"
             ],
             [
              0.6666666666666666,
              "#ed7953"
             ],
             [
              0.7777777777777778,
              "#fb9f3a"
             ],
             [
              0.8888888888888888,
              "#fdca26"
             ],
             [
              1,
              "#f0f921"
             ]
            ],
            "type": "heatmap"
           }
          ],
          "heatmapgl": [
           {
            "colorbar": {
             "outlinewidth": 0,
             "ticks": ""
            },
            "colorscale": [
             [
              0,
              "#0d0887"
             ],
             [
              0.1111111111111111,
              "#46039f"
             ],
             [
              0.2222222222222222,
              "#7201a8"
             ],
             [
              0.3333333333333333,
              "#9c179e"
             ],
             [
              0.4444444444444444,
              "#bd3786"
             ],
             [
              0.5555555555555556,
              "#d8576b"
             ],
             [
              0.6666666666666666,
              "#ed7953"
             ],
             [
              0.7777777777777778,
              "#fb9f3a"
             ],
             [
              0.8888888888888888,
              "#fdca26"
             ],
             [
              1,
              "#f0f921"
             ]
            ],
            "type": "heatmapgl"
           }
          ],
          "histogram": [
           {
            "marker": {
             "pattern": {
              "fillmode": "overlay",
              "size": 10,
              "solidity": 0.2
             }
            },
            "type": "histogram"
           }
          ],
          "histogram2d": [
           {
            "colorbar": {
             "outlinewidth": 0,
             "ticks": ""
            },
            "colorscale": [
             [
              0,
              "#0d0887"
             ],
             [
              0.1111111111111111,
              "#46039f"
             ],
             [
              0.2222222222222222,
              "#7201a8"
             ],
             [
              0.3333333333333333,
              "#9c179e"
             ],
             [
              0.4444444444444444,
              "#bd3786"
             ],
             [
              0.5555555555555556,
              "#d8576b"
             ],
             [
              0.6666666666666666,
              "#ed7953"
             ],
             [
              0.7777777777777778,
              "#fb9f3a"
             ],
             [
              0.8888888888888888,
              "#fdca26"
             ],
             [
              1,
              "#f0f921"
             ]
            ],
            "type": "histogram2d"
           }
          ],
          "histogram2dcontour": [
           {
            "colorbar": {
             "outlinewidth": 0,
             "ticks": ""
            },
            "colorscale": [
             [
              0,
              "#0d0887"
             ],
             [
              0.1111111111111111,
              "#46039f"
             ],
             [
              0.2222222222222222,
              "#7201a8"
             ],
             [
              0.3333333333333333,
              "#9c179e"
             ],
             [
              0.4444444444444444,
              "#bd3786"
             ],
             [
              0.5555555555555556,
              "#d8576b"
             ],
             [
              0.6666666666666666,
              "#ed7953"
             ],
             [
              0.7777777777777778,
              "#fb9f3a"
             ],
             [
              0.8888888888888888,
              "#fdca26"
             ],
             [
              1,
              "#f0f921"
             ]
            ],
            "type": "histogram2dcontour"
           }
          ],
          "mesh3d": [
           {
            "colorbar": {
             "outlinewidth": 0,
             "ticks": ""
            },
            "type": "mesh3d"
           }
          ],
          "parcoords": [
           {
            "line": {
             "colorbar": {
              "outlinewidth": 0,
              "ticks": ""
             }
            },
            "type": "parcoords"
           }
          ],
          "pie": [
           {
            "automargin": true,
            "type": "pie"
           }
          ],
          "scatter": [
           {
            "fillpattern": {
             "fillmode": "overlay",
             "size": 10,
             "solidity": 0.2
            },
            "type": "scatter"
           }
          ],
          "scatter3d": [
           {
            "line": {
             "colorbar": {
              "outlinewidth": 0,
              "ticks": ""
             }
            },
            "marker": {
             "colorbar": {
              "outlinewidth": 0,
              "ticks": ""
             }
            },
            "type": "scatter3d"
           }
          ],
          "scattercarpet": [
           {
            "marker": {
             "colorbar": {
              "outlinewidth": 0,
              "ticks": ""
             }
            },
            "type": "scattercarpet"
           }
          ],
          "scattergeo": [
           {
            "marker": {
             "colorbar": {
              "outlinewidth": 0,
              "ticks": ""
             }
            },
            "type": "scattergeo"
           }
          ],
          "scattergl": [
           {
            "marker": {
             "colorbar": {
              "outlinewidth": 0,
              "ticks": ""
             }
            },
            "type": "scattergl"
           }
          ],
          "scattermapbox": [
           {
            "marker": {
             "colorbar": {
              "outlinewidth": 0,
              "ticks": ""
             }
            },
            "type": "scattermapbox"
           }
          ],
          "scatterpolar": [
           {
            "marker": {
             "colorbar": {
              "outlinewidth": 0,
              "ticks": ""
             }
            },
            "type": "scatterpolar"
           }
          ],
          "scatterpolargl": [
           {
            "marker": {
             "colorbar": {
              "outlinewidth": 0,
              "ticks": ""
             }
            },
            "type": "scatterpolargl"
           }
          ],
          "scatterternary": [
           {
            "marker": {
             "colorbar": {
              "outlinewidth": 0,
              "ticks": ""
             }
            },
            "type": "scatterternary"
           }
          ],
          "surface": [
           {
            "colorbar": {
             "outlinewidth": 0,
             "ticks": ""
            },
            "colorscale": [
             [
              0,
              "#0d0887"
             ],
             [
              0.1111111111111111,
              "#46039f"
             ],
             [
              0.2222222222222222,
              "#7201a8"
             ],
             [
              0.3333333333333333,
              "#9c179e"
             ],
             [
              0.4444444444444444,
              "#bd3786"
             ],
             [
              0.5555555555555556,
              "#d8576b"
             ],
             [
              0.6666666666666666,
              "#ed7953"
             ],
             [
              0.7777777777777778,
              "#fb9f3a"
             ],
             [
              0.8888888888888888,
              "#fdca26"
             ],
             [
              1,
              "#f0f921"
             ]
            ],
            "type": "surface"
           }
          ],
          "table": [
           {
            "cells": {
             "fill": {
              "color": "#EBF0F8"
             },
             "line": {
              "color": "white"
             }
            },
            "header": {
             "fill": {
              "color": "#C8D4E3"
             },
             "line": {
              "color": "white"
             }
            },
            "type": "table"
           }
          ]
         },
         "layout": {
          "annotationdefaults": {
           "arrowcolor": "#2a3f5f",
           "arrowhead": 0,
           "arrowwidth": 1
          },
          "autotypenumbers": "strict",
          "coloraxis": {
           "colorbar": {
            "outlinewidth": 0,
            "ticks": ""
           }
          },
          "colorscale": {
           "diverging": [
            [
             0,
             "#8e0152"
            ],
            [
             0.1,
             "#c51b7d"
            ],
            [
             0.2,
             "#de77ae"
            ],
            [
             0.3,
             "#f1b6da"
            ],
            [
             0.4,
             "#fde0ef"
            ],
            [
             0.5,
             "#f7f7f7"
            ],
            [
             0.6,
             "#e6f5d0"
            ],
            [
             0.7,
             "#b8e186"
            ],
            [
             0.8,
             "#7fbc41"
            ],
            [
             0.9,
             "#4d9221"
            ],
            [
             1,
             "#276419"
            ]
           ],
           "sequential": [
            [
             0,
             "#0d0887"
            ],
            [
             0.1111111111111111,
             "#46039f"
            ],
            [
             0.2222222222222222,
             "#7201a8"
            ],
            [
             0.3333333333333333,
             "#9c179e"
            ],
            [
             0.4444444444444444,
             "#bd3786"
            ],
            [
             0.5555555555555556,
             "#d8576b"
            ],
            [
             0.6666666666666666,
             "#ed7953"
            ],
            [
             0.7777777777777778,
             "#fb9f3a"
            ],
            [
             0.8888888888888888,
             "#fdca26"
            ],
            [
             1,
             "#f0f921"
            ]
           ],
           "sequentialminus": [
            [
             0,
             "#0d0887"
            ],
            [
             0.1111111111111111,
             "#46039f"
            ],
            [
             0.2222222222222222,
             "#7201a8"
            ],
            [
             0.3333333333333333,
             "#9c179e"
            ],
            [
             0.4444444444444444,
             "#bd3786"
            ],
            [
             0.5555555555555556,
             "#d8576b"
            ],
            [
             0.6666666666666666,
             "#ed7953"
            ],
            [
             0.7777777777777778,
             "#fb9f3a"
            ],
            [
             0.8888888888888888,
             "#fdca26"
            ],
            [
             1,
             "#f0f921"
            ]
           ]
          },
          "colorway": [
           "#636efa",
           "#EF553B",
           "#00cc96",
           "#ab63fa",
           "#FFA15A",
           "#19d3f3",
           "#FF6692",
           "#B6E880",
           "#FF97FF",
           "#FECB52"
          ],
          "font": {
           "color": "#2a3f5f"
          },
          "geo": {
           "bgcolor": "white",
           "lakecolor": "white",
           "landcolor": "#E5ECF6",
           "showlakes": true,
           "showland": true,
           "subunitcolor": "white"
          },
          "hoverlabel": {
           "align": "left"
          },
          "hovermode": "closest",
          "mapbox": {
           "style": "light"
          },
          "paper_bgcolor": "white",
          "plot_bgcolor": "#E5ECF6",
          "polar": {
           "angularaxis": {
            "gridcolor": "white",
            "linecolor": "white",
            "ticks": ""
           },
           "bgcolor": "#E5ECF6",
           "radialaxis": {
            "gridcolor": "white",
            "linecolor": "white",
            "ticks": ""
           }
          },
          "scene": {
           "xaxis": {
            "backgroundcolor": "#E5ECF6",
            "gridcolor": "white",
            "gridwidth": 2,
            "linecolor": "white",
            "showbackground": true,
            "ticks": "",
            "zerolinecolor": "white"
           },
           "yaxis": {
            "backgroundcolor": "#E5ECF6",
            "gridcolor": "white",
            "gridwidth": 2,
            "linecolor": "white",
            "showbackground": true,
            "ticks": "",
            "zerolinecolor": "white"
           },
           "zaxis": {
            "backgroundcolor": "#E5ECF6",
            "gridcolor": "white",
            "gridwidth": 2,
            "linecolor": "white",
            "showbackground": true,
            "ticks": "",
            "zerolinecolor": "white"
           }
          },
          "shapedefaults": {
           "line": {
            "color": "#2a3f5f"
           }
          },
          "ternary": {
           "aaxis": {
            "gridcolor": "white",
            "linecolor": "white",
            "ticks": ""
           },
           "baxis": {
            "gridcolor": "white",
            "linecolor": "white",
            "ticks": ""
           },
           "bgcolor": "#E5ECF6",
           "caxis": {
            "gridcolor": "white",
            "linecolor": "white",
            "ticks": ""
           }
          },
          "title": {
           "x": 0.05
          },
          "xaxis": {
           "automargin": true,
           "gridcolor": "white",
           "linecolor": "white",
           "ticks": "",
           "title": {
            "standoff": 15
           },
           "zerolinecolor": "white",
           "zerolinewidth": 2
          },
          "yaxis": {
           "automargin": true,
           "gridcolor": "white",
           "linecolor": "white",
           "ticks": "",
           "title": {
            "standoff": 15
           },
           "zerolinecolor": "white",
           "zerolinewidth": 2
          }
         }
        },
        "xaxis": {
         "anchor": "y",
         "domain": [
          0,
          0.98
         ],
         "title": {
          "text": "t"
         }
        },
        "xaxis2": {
         "anchor": "y2",
         "domain": [
          0,
          0.98
         ],
         "matches": "x",
         "showticklabels": false
        },
        "xaxis3": {
         "anchor": "y3",
         "domain": [
          0,
          0.98
         ],
         "matches": "x",
         "showticklabels": false
        },
        "xaxis4": {
         "anchor": "y4",
         "domain": [
          0,
          0.98
         ],
         "matches": "x",
         "showticklabels": false
        },
        "xaxis5": {
         "anchor": "y5",
         "domain": [
          0,
          0.98
         ],
         "matches": "x",
         "showticklabels": false
        },
        "yaxis": {
         "anchor": "x",
         "domain": [
          0,
          0.17600000000000002
         ],
         "title": {
          "text": "price"
         }
        },
        "yaxis2": {
         "anchor": "x2",
         "domain": [
          0.20600000000000002,
          0.382
         ],
         "matches": "y",
         "title": {
          "text": "price"
         }
        },
        "yaxis3": {
         "anchor": "x3",
         "domain": [
          0.41200000000000003,
          0.5880000000000001
         ],
         "matches": "y",
         "title": {
          "text": "price"
         }
        },
        "yaxis4": {
         "anchor": "x4",
         "domain": [
          0.618,
          0.794
         ],
         "matches": "y",
         "title": {
          "text": "price"
         }
        },
        "yaxis5": {
         "anchor": "x5",
         "domain": [
          0.8240000000000001,
          1
         ],
         "matches": "y",
         "title": {
          "text": "price"
         }
        }
       }
      }
     },
     "metadata": {},
     "output_type": "display_data"
    }
   ],
   "source": [
    "sample_paths = np.random.choice(100, size=5, replace=False)\n",
    "df = high_low_policy.results.loc[high_low_policy.results.N.isin(sample_paths), :]\n",
    "px.line(data_frame=df, x=\"t\", y=\"price\", facet_row=\"N\", height=800)"
   ]
  },
  {
   "cell_type": "markdown",
   "metadata": {},
   "source": [
    "The average amount of money that we make selling the asset depends of course on the values of `theta_low` and `theta_high`. If we for example  set `theta_low` to a higher value, it seems that the average profit is higher (note that it will be slightly different every time we execute the cell)."
   ]
  },
  {
   "cell_type": "code",
   "execution_count": 5,
   "metadata": {},
   "outputs": [
    {
     "data": {
      "text/plain": [
       "21.07238599239833"
      ]
     },
     "execution_count": 5,
     "metadata": {},
     "output_type": "execute_result"
    }
   ],
   "source": [
    "high_low_policy.theta_low = 19\n",
    "high_low_policy.run_policy(n_iterations=100)"
   ]
  },
  {
   "cell_type": "markdown",
   "metadata": {},
   "source": [
    "Next, we will try to find the best value for `theta_low` and `theta_high`. This is called *parameter tuning*. To do this, we just systematically try out different combinations of values for both. This strategy is called a *grid search* and there is a simple convenience method to automate this."
   ]
  },
  {
   "cell_type": "code",
   "execution_count": 6,
   "metadata": {},
   "outputs": [
    {
     "name": "stdout",
     "output_type": "stream",
     "text": [
      "Best parameters: {'theta_low': 10.0, 'theta_high': 30.0} with an objective of 22.35168604182948.\n"
     ]
    }
   ],
   "source": [
    "# Define a grid for combinations of theta_low and theta_high.\n",
    "# theta_low should not be larger than the starting price (20) and theta_high should not be smaller than the starting price.\n",
    "grid = {\"theta_low\": np.linspace(10, 20, 11), \"theta_high\": np.linspace(20, 30, 11)}\n",
    "result = util.grid_search(grid, high_low_policy, n_iterations=10, ordered=True)\n",
    "\n",
    "print(f\"Best parameters: {result['best_parameters']} with an objective of {result['best_performance']}.\")"
   ]
  },
  {
   "cell_type": "markdown",
   "metadata": {},
   "source": [
    "The result object gives us the best parameters and the corresponding performance but it gives also information about all the runs. We transform them into matrix form and visualize them with a heatmap."
   ]
  },
  {
   "cell_type": "code",
   "execution_count": 10,
   "metadata": {},
   "outputs": [
    {
     "data": {
      "application/vnd.plotly.v1+json": {
       "config": {
        "plotlyServerURL": "https://plot.ly"
       },
       "data": [
        {
         "coloraxis": "coloraxis",
         "hovertemplate": "theta_high: %{x}<br>theta_low: %{y}<br>color: %{z}<extra></extra>",
         "name": "0",
         "type": "heatmap",
         "x": [
          20,
          21,
          22,
          23,
          24,
          25,
          26,
          27,
          28,
          29,
          30
         ],
         "xaxis": "x",
         "y": [
          10,
          11,
          12,
          13,
          14,
          15,
          16,
          17,
          18,
          19,
          20
         ],
         "yaxis": "y",
         "z": [
          [
           17.854352896607516,
           17.854352896607516,
           20.148068986333822,
           21.27191282195187,
           21.159697132758303,
           21.65814977515131,
           22.010693205033363,
           22.656777344534856,
           22.108804067215807,
           20.219023539623528,
           17.700020389735677
          ],
          [
           18.167316358664984,
           18.167316358664984,
           20.265427655588624,
           21.27191282195187,
           21.159697132758303,
           22.061218762645897,
           22.367276551762917,
           22.65084937295297,
           22.108804067215807,
           20.716402691958507,
           20.145889681905945
          ],
          [
           19.721819662943574,
           19.424811971206434,
           20.706540590685595,
           22.112642455500545,
           21.294962128649765,
           21.792908317856817,
           22.92921434571813,
           21.58387033380938,
           20.29896583722942,
           20.451261699384283,
           18.331368070984638
          ],
          [
           19.721819662943574,
           19.424811971206434,
           19.813882512644362,
           21.145424628764886,
           19.569263158436282,
           21.129590894646757,
           21.405281609246444,
           22.226508168526934,
           20.270468534028236,
           20.875002336674697,
           17.544427844819403
          ],
          [
           19.721819662943574,
           19.143355747016397,
           19.813882512644362,
           21.145424628764886,
           20.961147302383008,
           21.052895785118988,
           21.693999389999135,
           22.515225949279625,
           21.07927822317692,
           21.278071324169282,
           18.26548734683348
          ],
          [
           18.035183301060222,
           18.901838129892404,
           19.307397615107497,
           20.578128491793425,
           20.534589605933085,
           20.672767136911823,
           22.166418890796447,
           22.517124312105242,
           21.551697723974232,
           22.081289502857647,
           20.521998172379174
          ],
          [
           18.818307325112116,
           19.191919807280794,
           19.00577554155543,
           17.723050478299104,
           19.39078713055424,
           20.006039474357873,
           20.006039474357873,
           20.774888827415364,
           21.044122674931597,
           20.900383401092448,
           21.35651491821281
          ],
          [
           20.650018889317487,
           20.25494532553847,
           20.85969298635269,
           19.08603032560578,
           19.51411952478049,
           18.76073246414398,
           18.76073246414398,
           18.76073246414398,
           18.801217659388872,
           19.01967471968947,
           19.07007356234156
          ],
          [
           20.185568618577335,
           20.33265127070932,
           20.443597686561823,
           19.61281646050006,
           19.802615002012303,
           19.04922794137579,
           19.04922794137579,
           19.04922794137579,
           19.306507668869035,
           19.24285645909837,
           18.23903707444817
          ],
          [
           20.361358019226905,
           20.567750935645154,
           20.623413257079115,
           20.19837485789029,
           20.364807346565478,
           19.61142028592897,
           19.61142028592897,
           19.61142028592897,
           19.662859156002487,
           19.736914859606053,
           17.925070050241175
          ],
          [
           null,
           20.657170049375924,
           19.772082603117052,
           19.772082603117052,
           19.85239827935414,
           19.85239827935414,
           20.58033078455437,
           20.11270259752454,
           21.053028894139846,
           21.167505940601426,
           20.048458849632244
          ]
         ]
        }
       ],
       "layout": {
        "coloraxis": {
         "colorscale": [
          [
           0,
           "#0d0887"
          ],
          [
           0.1111111111111111,
           "#46039f"
          ],
          [
           0.2222222222222222,
           "#7201a8"
          ],
          [
           0.3333333333333333,
           "#9c179e"
          ],
          [
           0.4444444444444444,
           "#bd3786"
          ],
          [
           0.5555555555555556,
           "#d8576b"
          ],
          [
           0.6666666666666666,
           "#ed7953"
          ],
          [
           0.7777777777777778,
           "#fb9f3a"
          ],
          [
           0.8888888888888888,
           "#fdca26"
          ],
          [
           1,
           "#f0f921"
          ]
         ]
        },
        "margin": {
         "t": 60
        },
        "template": {
         "data": {
          "bar": [
           {
            "error_x": {
             "color": "#2a3f5f"
            },
            "error_y": {
             "color": "#2a3f5f"
            },
            "marker": {
             "line": {
              "color": "#E5ECF6",
              "width": 0.5
             },
             "pattern": {
              "fillmode": "overlay",
              "size": 10,
              "solidity": 0.2
             }
            },
            "type": "bar"
           }
          ],
          "barpolar": [
           {
            "marker": {
             "line": {
              "color": "#E5ECF6",
              "width": 0.5
             },
             "pattern": {
              "fillmode": "overlay",
              "size": 10,
              "solidity": 0.2
             }
            },
            "type": "barpolar"
           }
          ],
          "carpet": [
           {
            "aaxis": {
             "endlinecolor": "#2a3f5f",
             "gridcolor": "white",
             "linecolor": "white",
             "minorgridcolor": "white",
             "startlinecolor": "#2a3f5f"
            },
            "baxis": {
             "endlinecolor": "#2a3f5f",
             "gridcolor": "white",
             "linecolor": "white",
             "minorgridcolor": "white",
             "startlinecolor": "#2a3f5f"
            },
            "type": "carpet"
           }
          ],
          "choropleth": [
           {
            "colorbar": {
             "outlinewidth": 0,
             "ticks": ""
            },
            "type": "choropleth"
           }
          ],
          "contour": [
           {
            "colorbar": {
             "outlinewidth": 0,
             "ticks": ""
            },
            "colorscale": [
             [
              0,
              "#0d0887"
             ],
             [
              0.1111111111111111,
              "#46039f"
             ],
             [
              0.2222222222222222,
              "#7201a8"
             ],
             [
              0.3333333333333333,
              "#9c179e"
             ],
             [
              0.4444444444444444,
              "#bd3786"
             ],
             [
              0.5555555555555556,
              "#d8576b"
             ],
             [
              0.6666666666666666,
              "#ed7953"
             ],
             [
              0.7777777777777778,
              "#fb9f3a"
             ],
             [
              0.8888888888888888,
              "#fdca26"
             ],
             [
              1,
              "#f0f921"
             ]
            ],
            "type": "contour"
           }
          ],
          "contourcarpet": [
           {
            "colorbar": {
             "outlinewidth": 0,
             "ticks": ""
            },
            "type": "contourcarpet"
           }
          ],
          "heatmap": [
           {
            "colorbar": {
             "outlinewidth": 0,
             "ticks": ""
            },
            "colorscale": [
             [
              0,
              "#0d0887"
             ],
             [
              0.1111111111111111,
              "#46039f"
             ],
             [
              0.2222222222222222,
              "#7201a8"
             ],
             [
              0.3333333333333333,
              "#9c179e"
             ],
             [
              0.4444444444444444,
              "#bd3786"
             ],
             [
              0.5555555555555556,
              "#d8576b"
             ],
             [
              0.6666666666666666,
              "#ed7953"
             ],
             [
              0.7777777777777778,
              "#fb9f3a"
             ],
             [
              0.8888888888888888,
              "#fdca26"
             ],
             [
              1,
              "#f0f921"
             ]
            ],
            "type": "heatmap"
           }
          ],
          "heatmapgl": [
           {
            "colorbar": {
             "outlinewidth": 0,
             "ticks": ""
            },
            "colorscale": [
             [
              0,
              "#0d0887"
             ],
             [
              0.1111111111111111,
              "#46039f"
             ],
             [
              0.2222222222222222,
              "#7201a8"
             ],
             [
              0.3333333333333333,
              "#9c179e"
             ],
             [
              0.4444444444444444,
              "#bd3786"
             ],
             [
              0.5555555555555556,
              "#d8576b"
             ],
             [
              0.6666666666666666,
              "#ed7953"
             ],
             [
              0.7777777777777778,
              "#fb9f3a"
             ],
             [
              0.8888888888888888,
              "#fdca26"
             ],
             [
              1,
              "#f0f921"
             ]
            ],
            "type": "heatmapgl"
           }
          ],
          "histogram": [
           {
            "marker": {
             "pattern": {
              "fillmode": "overlay",
              "size": 10,
              "solidity": 0.2
             }
            },
            "type": "histogram"
           }
          ],
          "histogram2d": [
           {
            "colorbar": {
             "outlinewidth": 0,
             "ticks": ""
            },
            "colorscale": [
             [
              0,
              "#0d0887"
             ],
             [
              0.1111111111111111,
              "#46039f"
             ],
             [
              0.2222222222222222,
              "#7201a8"
             ],
             [
              0.3333333333333333,
              "#9c179e"
             ],
             [
              0.4444444444444444,
              "#bd3786"
             ],
             [
              0.5555555555555556,
              "#d8576b"
             ],
             [
              0.6666666666666666,
              "#ed7953"
             ],
             [
              0.7777777777777778,
              "#fb9f3a"
             ],
             [
              0.8888888888888888,
              "#fdca26"
             ],
             [
              1,
              "#f0f921"
             ]
            ],
            "type": "histogram2d"
           }
          ],
          "histogram2dcontour": [
           {
            "colorbar": {
             "outlinewidth": 0,
             "ticks": ""
            },
            "colorscale": [
             [
              0,
              "#0d0887"
             ],
             [
              0.1111111111111111,
              "#46039f"
             ],
             [
              0.2222222222222222,
              "#7201a8"
             ],
             [
              0.3333333333333333,
              "#9c179e"
             ],
             [
              0.4444444444444444,
              "#bd3786"
             ],
             [
              0.5555555555555556,
              "#d8576b"
             ],
             [
              0.6666666666666666,
              "#ed7953"
             ],
             [
              0.7777777777777778,
              "#fb9f3a"
             ],
             [
              0.8888888888888888,
              "#fdca26"
             ],
             [
              1,
              "#f0f921"
             ]
            ],
            "type": "histogram2dcontour"
           }
          ],
          "mesh3d": [
           {
            "colorbar": {
             "outlinewidth": 0,
             "ticks": ""
            },
            "type": "mesh3d"
           }
          ],
          "parcoords": [
           {
            "line": {
             "colorbar": {
              "outlinewidth": 0,
              "ticks": ""
             }
            },
            "type": "parcoords"
           }
          ],
          "pie": [
           {
            "automargin": true,
            "type": "pie"
           }
          ],
          "scatter": [
           {
            "fillpattern": {
             "fillmode": "overlay",
             "size": 10,
             "solidity": 0.2
            },
            "type": "scatter"
           }
          ],
          "scatter3d": [
           {
            "line": {
             "colorbar": {
              "outlinewidth": 0,
              "ticks": ""
             }
            },
            "marker": {
             "colorbar": {
              "outlinewidth": 0,
              "ticks": ""
             }
            },
            "type": "scatter3d"
           }
          ],
          "scattercarpet": [
           {
            "marker": {
             "colorbar": {
              "outlinewidth": 0,
              "ticks": ""
             }
            },
            "type": "scattercarpet"
           }
          ],
          "scattergeo": [
           {
            "marker": {
             "colorbar": {
              "outlinewidth": 0,
              "ticks": ""
             }
            },
            "type": "scattergeo"
           }
          ],
          "scattergl": [
           {
            "marker": {
             "colorbar": {
              "outlinewidth": 0,
              "ticks": ""
             }
            },
            "type": "scattergl"
           }
          ],
          "scattermapbox": [
           {
            "marker": {
             "colorbar": {
              "outlinewidth": 0,
              "ticks": ""
             }
            },
            "type": "scattermapbox"
           }
          ],
          "scatterpolar": [
           {
            "marker": {
             "colorbar": {
              "outlinewidth": 0,
              "ticks": ""
             }
            },
            "type": "scatterpolar"
           }
          ],
          "scatterpolargl": [
           {
            "marker": {
             "colorbar": {
              "outlinewidth": 0,
              "ticks": ""
             }
            },
            "type": "scatterpolargl"
           }
          ],
          "scatterternary": [
           {
            "marker": {
             "colorbar": {
              "outlinewidth": 0,
              "ticks": ""
             }
            },
            "type": "scatterternary"
           }
          ],
          "surface": [
           {
            "colorbar": {
             "outlinewidth": 0,
             "ticks": ""
            },
            "colorscale": [
             [
              0,
              "#0d0887"
             ],
             [
              0.1111111111111111,
              "#46039f"
             ],
             [
              0.2222222222222222,
              "#7201a8"
             ],
             [
              0.3333333333333333,
              "#9c179e"
             ],
             [
              0.4444444444444444,
              "#bd3786"
             ],
             [
              0.5555555555555556,
              "#d8576b"
             ],
             [
              0.6666666666666666,
              "#ed7953"
             ],
             [
              0.7777777777777778,
              "#fb9f3a"
             ],
             [
              0.8888888888888888,
              "#fdca26"
             ],
             [
              1,
              "#f0f921"
             ]
            ],
            "type": "surface"
           }
          ],
          "table": [
           {
            "cells": {
             "fill": {
              "color": "#EBF0F8"
             },
             "line": {
              "color": "white"
             }
            },
            "header": {
             "fill": {
              "color": "#C8D4E3"
             },
             "line": {
              "color": "white"
             }
            },
            "type": "table"
           }
          ]
         },
         "layout": {
          "annotationdefaults": {
           "arrowcolor": "#2a3f5f",
           "arrowhead": 0,
           "arrowwidth": 1
          },
          "autotypenumbers": "strict",
          "coloraxis": {
           "colorbar": {
            "outlinewidth": 0,
            "ticks": ""
           }
          },
          "colorscale": {
           "diverging": [
            [
             0,
             "#8e0152"
            ],
            [
             0.1,
             "#c51b7d"
            ],
            [
             0.2,
             "#de77ae"
            ],
            [
             0.3,
             "#f1b6da"
            ],
            [
             0.4,
             "#fde0ef"
            ],
            [
             0.5,
             "#f7f7f7"
            ],
            [
             0.6,
             "#e6f5d0"
            ],
            [
             0.7,
             "#b8e186"
            ],
            [
             0.8,
             "#7fbc41"
            ],
            [
             0.9,
             "#4d9221"
            ],
            [
             1,
             "#276419"
            ]
           ],
           "sequential": [
            [
             0,
             "#0d0887"
            ],
            [
             0.1111111111111111,
             "#46039f"
            ],
            [
             0.2222222222222222,
             "#7201a8"
            ],
            [
             0.3333333333333333,
             "#9c179e"
            ],
            [
             0.4444444444444444,
             "#bd3786"
            ],
            [
             0.5555555555555556,
             "#d8576b"
            ],
            [
             0.6666666666666666,
             "#ed7953"
            ],
            [
             0.7777777777777778,
             "#fb9f3a"
            ],
            [
             0.8888888888888888,
             "#fdca26"
            ],
            [
             1,
             "#f0f921"
            ]
           ],
           "sequentialminus": [
            [
             0,
             "#0d0887"
            ],
            [
             0.1111111111111111,
             "#46039f"
            ],
            [
             0.2222222222222222,
             "#7201a8"
            ],
            [
             0.3333333333333333,
             "#9c179e"
            ],
            [
             0.4444444444444444,
             "#bd3786"
            ],
            [
             0.5555555555555556,
             "#d8576b"
            ],
            [
             0.6666666666666666,
             "#ed7953"
            ],
            [
             0.7777777777777778,
             "#fb9f3a"
            ],
            [
             0.8888888888888888,
             "#fdca26"
            ],
            [
             1,
             "#f0f921"
            ]
           ]
          },
          "colorway": [
           "#636efa",
           "#EF553B",
           "#00cc96",
           "#ab63fa",
           "#FFA15A",
           "#19d3f3",
           "#FF6692",
           "#B6E880",
           "#FF97FF",
           "#FECB52"
          ],
          "font": {
           "color": "#2a3f5f"
          },
          "geo": {
           "bgcolor": "white",
           "lakecolor": "white",
           "landcolor": "#E5ECF6",
           "showlakes": true,
           "showland": true,
           "subunitcolor": "white"
          },
          "hoverlabel": {
           "align": "left"
          },
          "hovermode": "closest",
          "mapbox": {
           "style": "light"
          },
          "paper_bgcolor": "white",
          "plot_bgcolor": "#E5ECF6",
          "polar": {
           "angularaxis": {
            "gridcolor": "white",
            "linecolor": "white",
            "ticks": ""
           },
           "bgcolor": "#E5ECF6",
           "radialaxis": {
            "gridcolor": "white",
            "linecolor": "white",
            "ticks": ""
           }
          },
          "scene": {
           "xaxis": {
            "backgroundcolor": "#E5ECF6",
            "gridcolor": "white",
            "gridwidth": 2,
            "linecolor": "white",
            "showbackground": true,
            "ticks": "",
            "zerolinecolor": "white"
           },
           "yaxis": {
            "backgroundcolor": "#E5ECF6",
            "gridcolor": "white",
            "gridwidth": 2,
            "linecolor": "white",
            "showbackground": true,
            "ticks": "",
            "zerolinecolor": "white"
           },
           "zaxis": {
            "backgroundcolor": "#E5ECF6",
            "gridcolor": "white",
            "gridwidth": 2,
            "linecolor": "white",
            "showbackground": true,
            "ticks": "",
            "zerolinecolor": "white"
           }
          },
          "shapedefaults": {
           "line": {
            "color": "#2a3f5f"
           }
          },
          "ternary": {
           "aaxis": {
            "gridcolor": "white",
            "linecolor": "white",
            "ticks": ""
           },
           "baxis": {
            "gridcolor": "white",
            "linecolor": "white",
            "ticks": ""
           },
           "bgcolor": "#E5ECF6",
           "caxis": {
            "gridcolor": "white",
            "linecolor": "white",
            "ticks": ""
           }
          },
          "title": {
           "x": 0.05
          },
          "xaxis": {
           "automargin": true,
           "gridcolor": "white",
           "linecolor": "white",
           "ticks": "",
           "title": {
            "standoff": 15
           },
           "zerolinecolor": "white",
           "zerolinewidth": 2
          },
          "yaxis": {
           "automargin": true,
           "gridcolor": "white",
           "linecolor": "white",
           "ticks": "",
           "title": {
            "standoff": 15
           },
           "zerolinecolor": "white",
           "zerolinewidth": 2
          }
         }
        },
        "xaxis": {
         "anchor": "y",
         "constrain": "domain",
         "domain": [
          0,
          1
         ],
         "scaleanchor": "y",
         "title": {
          "text": "theta_high"
         }
        },
        "yaxis": {
         "anchor": "x",
         "autorange": "reversed",
         "constrain": "domain",
         "domain": [
          0,
          1
         ],
         "title": {
          "text": "theta_low"
         }
        }
       }
      }
     },
     "metadata": {},
     "output_type": "display_data"
    }
   ],
   "source": [
    "res_grid = result[\"all_runs\"].pivot(index=\"theta_low\", columns=\"theta_high\", values=\"performance\")\n",
    "px.imshow(res_grid)"
   ]
  },
  {
   "cell_type": "markdown",
   "metadata": {},
   "source": [
    "Apparently, with the given uncertainty model and the high-low policy, the best profit is only slightly above the start price."
   ]
  },
  {
   "cell_type": "markdown",
   "metadata": {},
   "source": [
    "## Exercise 2\n",
    "1. Create an instance of the tracking policy that is implemented in the class `TrackPolicy` in the module `AssetSellingPolicies` and run the policy for 100 iterations. Describe in your own words how this policy makes a decision. \n",
    "2. The policy has one tunable parameter `theta`. Run a grid search to find the best value for `theta`. Is the tracking policy better than the high-low policy?"
   ]
  },
  {
   "cell_type": "markdown",
   "metadata": {},
   "source": [
    "---"
   ]
  },
  {
   "cell_type": "markdown",
   "metadata": {},
   "source": [
    "In the first version of our sequential decision model we used a stochastic model to generate observations. We now introduce a new version, where we draw sample obervations $W_{t+1}$ from historical data. Consider the following version of our problem:\n",
    "\n",
    "*You own a share of a company at the beginning of the month. Every day, you need to decide if you sell it (for the closing price of this day) or not. If by the end of the month the stock is still in your posession, it is sold at the closing price of the last day of the month.*\n",
    "\n",
    "To generate different observations for one month, we will use 10 years of historical data where we scale the data so each month starts at zero. This gives us 120 observations in total that we will use to tune our policy.\n",
    " \n",
    "As an example, we download data of the SAP stock using the package `yfinance` and reshape it to match our needs."
   ]
  },
  {
   "cell_type": "code",
   "execution_count": 7,
   "metadata": {},
   "outputs": [],
   "source": [
    "import yfinance as yf\n",
    "\n",
    "def get_historical_monthly_paths(stock_name, start=\"2014-01-01\", end=\"2023-12-31\"):\n",
    "    stock = yf.Ticker(stock_name)\n",
    "\n",
    "    # Get historical market data (this makes an API call to Yahoo Finance)\n",
    "    hist = stock.history(start=start, end=end, interval=\"1d\")\n",
    "\n",
    "    # We just keep the \"Close\" column\"\n",
    "    hist = hist.drop([\"Open\", \"High\", \"Low\", \"Volume\", \"Dividends\", \"Stock Splits\"], axis=1)\n",
    "\n",
    "    # Enumerate the months from the start and store as a separate column\n",
    "    hist[\"N\"] = hist.index.tz_convert(None).to_period('M')\n",
    "    hist[\"N\"] = hist[\"N\"].apply(lambda x: x.ordinal) - hist[\"N\"].iloc[0].ordinal\n",
    "\n",
    "    # Get the Close price at the beginning of every month and subtract from the Close value \n",
    "    hist_month_start = hist.groupby(\"N\").head(1).rename({\"Close\": \"Close_Month_Start\"}, axis=1)\n",
    "    hist_month_start = pd.merge(hist, hist_month_start, on=\"N\")\n",
    "    hist_month_start[\"price\"] = (hist_month_start[\"Close\"] - hist_month_start[\"Close_Month_Start\"])\n",
    "    \n",
    "    return hist_month_start.drop([\"Close\", \"Close_Month_Start\"], axis=1)\n",
    "\n",
    "hist_prices = get_historical_monthly_paths(stock_name=\"SAP\")"
   ]
  },
  {
   "cell_type": "markdown",
   "metadata": {},
   "source": [
    "Let's have a look at our historical sample paths $W_{t+1}$:"
   ]
  },
  {
   "cell_type": "code",
   "execution_count": 8,
   "metadata": {},
   "outputs": [
    {
     "data": {
      "text/html": [
       "<div>\n",
       "<style scoped>\n",
       "    .dataframe tbody tr th:only-of-type {\n",
       "        vertical-align: middle;\n",
       "    }\n",
       "\n",
       "    .dataframe tbody tr th {\n",
       "        vertical-align: top;\n",
       "    }\n",
       "\n",
       "    .dataframe thead th {\n",
       "        text-align: right;\n",
       "    }\n",
       "</style>\n",
       "<table border=\"1\" class=\"dataframe\">\n",
       "  <thead>\n",
       "    <tr style=\"text-align: right;\">\n",
       "      <th></th>\n",
       "      <th>N</th>\n",
       "      <th>price</th>\n",
       "    </tr>\n",
       "  </thead>\n",
       "  <tbody>\n",
       "    <tr>\n",
       "      <th>0</th>\n",
       "      <td>0</td>\n",
       "      <td>0.000000</td>\n",
       "    </tr>\n",
       "    <tr>\n",
       "      <th>1</th>\n",
       "      <td>0</td>\n",
       "      <td>-0.484001</td>\n",
       "    </tr>\n",
       "    <tr>\n",
       "      <th>2</th>\n",
       "      <td>0</td>\n",
       "      <td>-0.408905</td>\n",
       "    </tr>\n",
       "    <tr>\n",
       "      <th>3</th>\n",
       "      <td>0</td>\n",
       "      <td>-0.609184</td>\n",
       "    </tr>\n",
       "    <tr>\n",
       "      <th>4</th>\n",
       "      <td>0</td>\n",
       "      <td>0.450645</td>\n",
       "    </tr>\n",
       "    <tr>\n",
       "      <th>...</th>\n",
       "      <td>...</td>\n",
       "      <td>...</td>\n",
       "    </tr>\n",
       "    <tr>\n",
       "      <th>2511</th>\n",
       "      <td>119</td>\n",
       "      <td>-7.298416</td>\n",
       "    </tr>\n",
       "    <tr>\n",
       "      <th>2512</th>\n",
       "      <td>119</td>\n",
       "      <td>-6.824371</td>\n",
       "    </tr>\n",
       "    <tr>\n",
       "      <th>2513</th>\n",
       "      <td>119</td>\n",
       "      <td>-4.138077</td>\n",
       "    </tr>\n",
       "    <tr>\n",
       "      <th>2514</th>\n",
       "      <td>119</td>\n",
       "      <td>-5.688614</td>\n",
       "    </tr>\n",
       "    <tr>\n",
       "      <th>2515</th>\n",
       "      <td>119</td>\n",
       "      <td>-5.431839</td>\n",
       "    </tr>\n",
       "  </tbody>\n",
       "</table>\n",
       "<p>2516 rows × 2 columns</p>\n",
       "</div>"
      ],
      "text/plain": [
       "        N     price\n",
       "0       0  0.000000\n",
       "1       0 -0.484001\n",
       "2       0 -0.408905\n",
       "3       0 -0.609184\n",
       "4       0  0.450645\n",
       "...   ...       ...\n",
       "2511  119 -7.298416\n",
       "2512  119 -6.824371\n",
       "2513  119 -4.138077\n",
       "2514  119 -5.688614\n",
       "2515  119 -5.431839\n",
       "\n",
       "[2516 rows x 2 columns]"
      ]
     },
     "execution_count": 8,
     "metadata": {},
     "output_type": "execute_result"
    }
   ],
   "source": [
    "hist_prices"
   ]
  },
  {
   "cell_type": "markdown",
   "metadata": {},
   "source": [
    "We now create a new model where the exogenous information process is modified so that at each iteration, on month of the historical data is selected. We also create an instance of the high-low policy and run it for 120 iterations."
   ]
  },
  {
   "cell_type": "code",
   "execution_count": 9,
   "metadata": {},
   "outputs": [
    {
     "data": {
      "text/plain": [
       "0.5281286875406901"
      ]
     },
     "execution_count": 9,
     "metadata": {},
     "output_type": "execute_result"
    }
   ],
   "source": [
    "model_hist = asm.AssetSellingModelHistorical(hist_data=hist_prices)\n",
    "policy_hist = asp.HighLowPolicy(model=model_hist, theta_low=-10, theta_high=10)\n",
    "policy_hist.run_policy(n_iterations=120)"
   ]
  },
  {
   "cell_type": "markdown",
   "metadata": {},
   "source": [
    "Next, we need to optimize `theta_high` and  `theta_low`. To get a feeling for which values we might try, we first have a look at the distribution of monthly price deviations."
   ]
  },
  {
   "cell_type": "code",
   "execution_count": 10,
   "metadata": {},
   "outputs": [
    {
     "data": {
      "application/vnd.plotly.v1+json": {
       "config": {
        "plotlyServerURL": "https://plot.ly"
       },
       "data": [
        {
         "alignmentgroup": "True",
         "bingroup": "x",
         "hovertemplate": "price=%{x}<br>count=%{y}<extra></extra>",
         "legendgroup": "",
         "marker": {
          "color": "#636efa",
          "pattern": {
           "shape": ""
          }
         },
         "name": "",
         "offsetgroup": "",
         "orientation": "v",
         "showlegend": false,
         "type": "histogram",
         "x": [
          0,
          -0.48400115966796875,
          -0.408905029296875,
          -0.6091842651367188,
          0.45064544677734375,
          -0.24199676513671875,
          -1.1432723999023438,
          -1.5772323608398438,
          -1.7775039672851562,
          -1.5855636596679688,
          -1.7524795532226562,
          -2.1613922119140625,
          -2.9207839965820312,
          -4.0473785400390625,
          -4.389533996582031,
          -6.208763122558594,
          -5.966773986816406,
          -6.133674621582031,
          -6.667747497558594,
          -6.083595275878906,
          -7.085010528564453,
          0,
          0.19193267822265625,
          -0.050060272216796875,
          0.9930839538574219,
          1.3352394104003906,
          1.0181045532226562,
          2.4952011108398438,
          2.4367904663085938,
          3.404815673828125,
          4.222633361816406,
          4.306098937988281,
          3.7052383422851562,
          3.6301498413085938,
          3.4131546020507812,
          3.6801986694335938,
          3.9389114379882812,
          3.7052383422851562,
          3.8804855346679688,
          4.3394775390625,
          0,
          1.0181121826171875,
          0.458984375,
          1.2768096923828125,
          0.375518798828125,
          -0.3171234130859375,
          -0.2002716064453125,
          -0.7844390869140625,
          -2.3950462341308594,
          -2.0111770629882812,
          -0.45899200439453125,
          0.24200439453125,
          -0.35050201416015625,
          -0.6425857543945312,
          -0.3004302978515625,
          0.141876220703125,
          0.8011245727539062,
          1.3268661499023438,
          1.4770965576171875,
          2.2615280151367188,
          2.9792098999023438,
          0,
          -0.6509170532226562,
          -0.8261566162109375,
          -0.9930648803710938,
          -1.9193649291992188,
          -1.0931930541992188,
          -0.27538299560546875,
          -1.3602447509765625,
          -2.6537551879882812,
          -1.418670654296875,
          -1.477081298828125,
          -0.12517547607421875,
          -1.6690216064453125,
          -1.418670654296875,
          -1.71075439453125,
          -1.844268798828125,
          -2.2615280151367188,
          -3.246246337890625,
          -2.8957595825195312,
          -1.9277267456054688,
          -0.6509170532226562,
          0,
          -0.5173873901367188,
          -1.7775115966796875,
          -2.19476318359375,
          -1.9777908325195312,
          -3.563365936279297,
          -4.1558685302734375,
          -3.2045211791992188,
          -3.513294219970703,
          -3.2212142944335938,
          -4.047382354736328,
          -4.0223388671875,
          -4.347808837890625,
          -4.85687255859375,
          -4.256015777587891,
          -4.2169189453125,
          -3.9109458923339844,
          -2.7551116943359375,
          -2.44915771484375,
          -2.2876815795898438,
          -2.2706756591796875,
          0,
          0.48442840576171875,
          -0.33994293212890625,
          -0.02548980712890625,
          -0.44193267822265625,
          -0.6289024353027344,
          -0.6374092102050781,
          -0.7223930358886719,
          -0.36544036865234375,
          0.16147613525390625,
          0.9518814086914062,
          1.1728591918945312,
          2.0567245483398438,
          2.1502151489257812,
          1.6487884521484375,
          1.6062698364257812,
          1.4108123779296875,
          1.1643447875976562,
          0.713897705078125,
          0.9603729248046875,
          1.0368499755859375,
          0,
          0.08498382568359375,
          0.7224044799804688,
          1.3343048095703125,
          0.450439453125,
          0.9433822631835938,
          0.331451416015625,
          0.331451416015625,
          1.4193038940429688,
          0.6119155883789062,
          1.9037399291992188,
          2.7876205444335938,
          3.3400421142578125,
          3.2550582885742188,
          3.6884918212890625,
          4.1644287109375,
          3.7394866943359375,
          2.7876205444335938,
          2.617645263671875,
          2.4731521606445312,
          2.4731521606445312,
          0.926361083984375,
          0,
          -0.23797607421875,
          -0.09348297119140625,
          -0.30596160888671875,
          -0.705413818359375,
          -0.450439453125,
          0.19547271728515625,
          -0.27196502685546875,
          -0.29746246337890625,
          -0.2804718017578125,
          -0.9263763427734375,
          -0.1104888916015625,
          0.45893096923828125,
          -0.0084991455078125,
          0.46743011474609375,
          -0.15296173095703125,
          0.9008712768554688,
          1.1898345947265625,
          1.512786865234375,
          0.39943695068359375,
          0.4419403076171875,
          0,
          -0.6884002685546875,
          -0.9688644409179688,
          -0.5099258422851562,
          -0.2464599609375,
          -0.7903823852539062,
          -0.6629104614257812,
          -0.764892578125,
          -0.9433670043945312,
          -0.7733917236328125,
          -1.0113601684570312,
          -1.7167739868164062,
          -1.0113601684570312,
          -3.8839645385742188,
          -3.4250221252441406,
          -4.147430419921875,
          -3.9519577026367188,
          -5.252277374267578,
          -4.58087158203125,
          -5.175788879394531,
          -5.422252655029297,
          0,
          0.12747573852539062,
          -0.15298080444335938,
          0.0424957275390625,
          -0.7223968505859375,
          -1.7422752380371094,
          -1.9887313842773438,
          -2.107715606689453,
          -2.5581588745117188,
          -2.2522010803222656,
          -2.7366256713867188,
          -4.08795166015625,
          -1.9292488098144531,
          -4.7423553466796875,
          -4.410900115966797,
          -6.051170349121094,
          -4.334407806396484,
          -4.7423553466796875,
          -4.9718170166015625,
          -3.637500762939453,
          -4.3259124755859375,
          -4.198432922363281,
          -2.6601409912109375,
          0,
          -0.21246719360351562,
          0.042499542236328125,
          0.27197265625,
          -0.2719612121582031,
          0.09349822998046875,
          0.12749099731445312,
          -0.6119155883789062,
          -0.4589347839355469,
          -0.24646377563476562,
          0.29746246337890625,
          1.2153434753417969,
          1.3173332214355469,
          1.2323417663574219,
          1.8612480163574219,
          2.711132049560547,
          3.0850791931152344,
          3.3570480346679688,
          2.677135467529297,
          0,
          -0.4249382019042969,
          -0.9773674011230469,
          -1.4278030395507812,
          -0.9348640441894531,
          -0.8923606872558594,
          -0.815887451171875,
          -1.7932510375976562,
          -0.5354080200195312,
          -1.9972305297851562,
          -3.1020736694335938,
          -2.8131027221679688,
          -2.0822067260742188,
          -0.38243865966796875,
          -0.34844970703125,
          -0.13597488403320312,
          0.04250335693359375,
          0.5269393920898438,
          0.7224044799804688,
          0.399444580078125,
          -0.38243865966796875,
          -1.0198554992675781,
          0,
          -2.4136695861816406,
          -3.705486297607422,
          -4.2069244384765625,
          -3.323040008544922,
          -4.257915496826172,
          -1.9887275695800781,
          -2.6771278381347656,
          -2.6091384887695312,
          -2.6856307983398438,
          -2.490142822265625,
          -5.507240295410156,
          -5.065299987792969,
          -4.8358306884765625,
          -4.691352844238281,
          -3.3485336303710938,
          -3.8584671020507812,
          -4.971813201904297,
          -3.5865020751953125,
          -3.9774513244628906,
          0,
          1.2153396606445312,
          0.3739509582519531,
          1.4957962036132812,
          -0.2379608154296875,
          -0.5439300537109375,
          0.3229637145996094,
          -0.09348297119140625,
          1.8187446594238281,
          1.8187446594238281,
          1.8102531433105469,
          1.7082710266113281,
          1.6402816772460938,
          2.277698516845703,
          2.3201904296875,
          2.4816741943359375,
          2.7451248168945312,
          2.4646682739257812,
          2.7536277770996094,
          0,
          -0.5949058532714844,
          -1.0453567504882812,
          -0.9603614807128906,
          -2.235179901123047,
          -2.235179901123047,
          -3.569499969482422,
          -3.3315353393554688,
          -2.5666542053222656,
          -2.5751419067382812,
          -1.3853034973144531,
          -1.7847518920898438,
          -0.11897659301757812,
          -0.6799087524414062,
          1.402313232421875,
          1.7762527465820312,
          2.056720733642578,
          0.8498878479003906,
          0.5439224243164062,
          1.2153358459472656,
          1.3683128356933594,
          0.9008750915527344,
          0,
          0.2974700927734375,
          0.7819099426269531,
          0.45894622802734375,
          0.4419403076171875,
          0.4844398498535156,
          0.6544227600097656,
          0.3314628601074219,
          0.8073997497558594,
          0.8073997497558594,
          0.41644287109375,
          -0.5779151916503906,
          -0.07647705078125,
          1.470306396484375,
          1.7167778015136719,
          2.0482215881347656,
          2.35418701171875,
          3.382537841796875,
          3.5100250244140625,
          3.238067626953125,
          2.7876129150390625,
          0,
          -0.1614837646484375,
          -1.6402702331542969,
          -1.4278068542480469,
          -0.9263839721679688,
          -0.331451416015625,
          -0.7733917236328125,
          -0.9603691101074219,
          -0.5779266357421875,
          0.7393951416015625,
          0.365447998046875,
          0.3550872802734375,
          0.329193115234375,
          0.41550445556640625,
          0.5018310546875,
          -0.43907928466796875,
          -1.4836006164550781,
          -0.8879623413085938,
          -0.8275299072265625,
          -1.1383018493652344,
          0,
          0.707855224609375,
          1.5538253784179688,
          0.8459701538085938,
          -0.18990325927734375,
          -0.37982177734375,
          -0.9754409790039062,
          0.19854736328125,
          0.29349517822265625,
          -0.2675933837890625,
          -1.1998863220214844,
          -0.7769203186035156,
          -0.8373336791992188,
          -0.5179367065429688,
          -1.0358772277832031,
          0.8200836181640625,
          0.5352020263671875,
          -0.3021240234375,
          -0.3107643127441406,
          -0.7682685852050781,
          -2.745067596435547,
          -3.1335182189941406,
          0,
          -0.3539276123046875,
          -1.8214263916015625,
          -1.3207550048828125,
          -1.6315040588378906,
          -0.4834136962890625,
          1.6401329040527344,
          1.9249954223632812,
          2.4515724182128906,
          3.263011932373047,
          3.6514549255371094,
          3.2802696228027344,
          3.5306129455566406,
          2.0976524353027344,
          1.8904647827148438,
          2.6328468322753906,
          1.7782516479492188,
          1.1394538879394531,
          1.631500244140625,
          1.4847488403320312,
          1.0962982177734375,
          1.1222000122070312,
          0,
          0.2589607238769531,
          0.6301498413085938,
          0.552459716796875,
          0.3280220031738281,
          1.2603111267089844,
          0,
          -0.03453826904296875,
          -0.8114395141601562,
          -0.8632354736328125,
          -1.26031494140625,
          -1.6056060791015625,
          -1.2516860961914062,
          -3.0385780334472656,
          -3.3752479553222656,
          -5.308872222900391,
          -4.437004089355469,
          -4.1607818603515625,
          -3.1594314575195312,
          -3.591045379638672,
          -3.7636947631835938,
          0,
          0.4661407470703125,
          0.8459663391113281,
          -0.7423858642578125,
          0.6560592651367188,
          -0.45751953125,
          0.3366546630859375,
          0.4057159423828125,
          0.18128585815429688,
          1.1221923828125,
          1.1912574768066406,
          1.2775840759277344,
          -0.5438346862792969,
          -0.43161773681640625,
          -1.8904800415039062,
          -1.8214225769042969,
          -1.9077377319335938,
          -1.5020256042480469,
          -1.9163818359375,
          -1.4070663452148438,
          -0.6905860900878906,
          0,
          1.41571044921875,
          2.1667137145996094,
          2.7278175354003906,
          2.7882308959960938,
          2.934986114501953,
          3.642833709716797,
          3.703266143798828,
          7.026702880859375,
          7.441047668457031,
          8.580520629882812,
          9.650936126708984,
          9.150264739990234,
          9.754520416259766,
          10.367412567138672,
          11.101154327392578,
          11.36013412475586,
          11.411914825439453,
          11.118427276611328,
          11.973018646240234,
          12.050708770751953,
          12.560009002685547,
          0,
          0.32801055908203125,
          -0.6128997802734375,
          0.09493255615234375,
          -0.906402587890625,
          -0.8632354736328125,
          -1.3293914794921875,
          -0.43161773681640625,
          -0.6042709350585938,
          -1.622894287109375,
          -1.5624618530273438,
          -1.4674911499023438,
          -0.388458251953125,
          0.276214599609375,
          -0.06044769287109375,
          -0.6388015747070312,
          -1.035888671875,
          -0.725128173828125,
          -0.68194580078125,
          -0.725128173828125,
          0,
          -0.5092926025390625,
          -1.0617752075195312,
          -0.6387863159179688,
          -0.38845062255859375,
          -0.7164764404296875,
          -1.251678466796875,
          -1.1653518676757812,
          -2.166717529296875,
          -1.933624267578125,
          -1.26031494140625,
          -1.0703964233398438,
          -1.130828857421875,
          -1.38116455078125,
          -0.8977508544921875,
          -0.5351943969726562,
          0.07770538330078125,
          0.284881591796875,
          0.5093154907226562,
          1.027252197265625,
          0.37119293212890625,
          -0.5351943969726562,
          0,
          -0.1467437744140625,
          0.44025421142578125,
          0.06041717529296875,
          -0.20716094970703125,
          1.225799560546875,
          2.7796096801757812,
          1.1135787963867188,
          2.2271347045898438,
          -0.20716094970703125,
          1.0358734130859375,
          0.2848663330078125,
          0.7337570190429688,
          0.9754562377929688,
          1.0099868774414062,
          1.5538253784179688,
          1.5106582641601562,
          0.48340606689453125,
          2.2962112426757812,
          0,
          -1.7178268432617188,
          -0.5438385009765625,
          -1.268951416015625,
          -3.7119064331054688,
          -4.652824401855469,
          -4.160774230957031,
          -4.1003570556640625,
          -4.6700897216796875,
          -5.196651458740234,
          -3.4184036254882812,
          -2.5292739868164062,
          -2.5465240478515625,
          -1.786895751953125,
          -1.8127899169921875,
          -2.5206375122070312,
          -3.1680679321289062,
          -1.3984222412109375,
          -2.8313980102539062,
          -3.7636795043945312,
          0,
          -0.172637939453125,
          -1.070404052734375,
          -0.8373260498046875,
          -1.2516860961914062,
          -1.3552780151367188,
          -0.7682723999023438,
          -0.9063873291015625,
          0.6387939453125,
          0.7337493896484375,
          1.2171554565429688,
          1.8645782470703125,
          1.7005691528320312,
          1.726470947265625,
          1.4761276245117188,
          1.4243316650390625,
          1.3639068603515625,
          1.3207550048828125,
          2.0027084350585938,
          1.9767990112304688,
          2.3997802734375,
          2.1667098999023438,
          0,
          -0.1640167236328125,
          -1.6228713989257812,
          -0.46614837646484375,
          -2.12353515625,
          -2.6069564819335938,
          -2.44293212890625,
          -0.992706298828125,
          -1.208526611328125,
          -0.6042556762695312,
          -1.0531234741210938,
          -0.33664703369140625,
          0.7769088745117188,
          0.7078628540039062,
          0.33666229248046875,
          0.4057159423828125,
          0.18990325927734375,
          -0.19854736328125,
          1.113555908203125,
          -0.31075286865234375,
          -0.9581832885742188,
          0,
          -1.0617904663085938,
          -1.9681777954101562,
          -2.3134689331054688,
          -2.089019775390625,
          -1.2430572509765625,
          -0.7250823974609375,
          -1.365966796875,
          -1.0235671997070312,
          -1.216705322265625,
          -0.5143814086914062,
          -1.2781753540039062,
          -0.7865447998046875,
          -1.41864013671875,
          -0.6109542846679688,
          -0.4090423583984375,
          0.995635986328125,
          1.8384323120117188,
          2.452972412109375,
          2.2686233520507812,
          2.3300704956054688,
          0,
          -0.25458526611328125,
          -0.035125732421875,
          0.10535430908203125,
          0.6057662963867188,
          0.27216339111328125,
          -0.41262054443359375,
          -2.4318313598632812,
          -3.8803939819335938,
          -4.477363586425781,
          -4.7231903076171875,
          -4.3983612060546875,
          -3.7838211059570312,
          -2.739105224609375,
          -1.5714645385742188,
          -2.0894393920898438,
          -0.12290191650390625,
          -6.3824462890625,
          -8.068058013916016,
          -6.4614715576171875,
          -5.364067077636719,
          -5.434303283691406,
          0,
          -0.7111129760742188,
          -0.22824859619140625,
          -0.33359527587890625,
          1.4310073852539062,
          2.6776504516601562,
          2.9322509765625,
          2.739105224609375,
          3.7223663330078125,
          3.5116729736328125,
          4.0559844970703125,
          3.8189620971679688,
          7.673011779785156,
          8.103195190429688,
          8.322654724121094,
          8.533370971679688,
          9.095237731933594,
          9.81512451171875,
          10.157516479492188,
          10.90374755859375,
          0,
          -0.6584243774414062,
          -0.9920501708984375,
          -1.1500701904296875,
          -0.9393768310546875,
          -1.2378616333007812,
          0,
          0.342376708984375,
          0.38629150390625,
          0.21947479248046875,
          0.6320953369140625,
          0.40384674072265625,
          0.5091781616210938,
          0.6760025024414062,
          0.7901229858398438,
          0.24581146240234375,
          0.43895721435546875,
          0.07022857666015625,
          0.0965728759765625,
          -0.0087890625,
          -0.0702362060546875,
          1.2817535400390625,
          0.6057662963867188,
          0,
          1.0271377563476562,
          1.6943817138671875,
          2.0630950927734375,
          0.9393463134765625,
          -0.7286834716796875,
          0.2545928955078125,
          -0.28095245361328125,
          -0.1316986083984375,
          0.175567626953125,
          -1.4134597778320312,
          -0.33362579345703125,
          0.5003890991210938,
          1.6241378784179688,
          3.4150848388671875,
          2.6951980590820312,
          1.99285888671875,
          2.2737884521484375,
          3.1692733764648438,
          0.9393463134765625,
          2.5810699462890625,
          0,
          -0.28093719482421875,
          0.06143951416015625,
          0.03510284423828125,
          -1.1588668823242188,
          -0.7023391723632812,
          -2.0016632080078125,
          -3.2219619750976562,
          -3.2044143676757812,
          -4.178901672363281,
          -3.9857559204101562,
          -2.8356781005859375,
          -3.450225830078125,
          -3.1692886352539062,
          -1.8173065185546875,
          -2.2474746704101562,
          -2.2650299072265625,
          -2.747894287109375,
          -2.8356781005859375,
          -2.6337738037109375,
          -2.6776657104492188,
          0,
          -0.219482421875,
          -1.3958892822265625,
          -0.8340225219726562,
          0.3599395751953125,
          0.14046478271484375,
          -0.28971099853515625,
          -1.711944580078125,
          -2.7917633056640625,
          -4.117431640625,
          -3.9155197143554688,
          -3.5643539428710938,
          -3.3712081909179688,
          -2.7039794921875,
          -1.7997360229492188,
          -0.7901229858398438,
          -1.8963088989257812,
          -0.6057586669921875,
          -1.5275650024414062,
          -1.5626907348632812,
          -2.7039794921875,
          0,
          0.00876617431640625,
          1.0710525512695312,
          0.9481430053710938,
          2.4844894409179688,
          2.0455322265625,
          2.2123565673828125,
          2.2386856079101562,
          3.0990371704101562,
          2.6337432861328125,
          2.4318161010742188,
          2.7215423583984375,
          2.9497909545898438,
          3.6345672607421875,
          3.5467758178710938,
          3.3360824584960938,
          3.3185195922851562,
          3.4150924682617188,
          3.3097381591796875,
          4.038414001464844,
          3.9681854248046875,
          0,
          0.3160552978515625,
          1.3607635498046875,
          1.90509033203125,
          2.6864242553710938,
          2.0455398559570312,
          2.1860198974609375,
          2.7127609252929688,
          2.7566452026367188,
          2.9322280883789062,
          2.6776504516601562,
          2.572296142578125,
          2.7215423583984375,
          2.6337509155273438,
          2.9234619140625,
          4.3193511962890625,
          3.9681854248046875,
          4.2315673828125,
          4.415931701660156,
          4.573951721191406,
          0,
          1.0183792114257812,
          1.589019775390625,
          0.47406768798828125,
          1.0973968505859375,
          0.9481353759765625,
          0.8779067993164062,
          0.895477294921875,
          1.5978012084960938,
          1.5451278686523438,
          1.527557373046875,
          1.7909393310546875,
          1.5363388061523438,
          2.1421127319335938,
          2.8971176147460938,
          3.0112533569335938,
          2.3352508544921875,
          2.2035751342773438,
          2.1684494018554688,
          0,
          -0.0175628662109375,
          0.14046478271484375,
          -0.34239959716796875,
          -0.40384674072265625,
          -0.26337432861328125,
          0.079010009765625,
          0.6145401000976562,
          0.5618743896484375,
          0.193145751953125,
          1.3695526123046875,
          2.5108413696289062,
          2.5284042358398438,
          3.1868515014648438,
          2.22113037109375,
          2.782989501953125,
          2.97613525390625,
          2.9936981201171875,
          2.519622802734375,
          3.52044677734375,
          3.450225830078125,
          3.0112533569335938,
          3.2395095825195312,
          0,
          0.22826385498046875,
          -0.728668212890625,
          -0.8252487182617188,
          -0.6057662963867188,
          -0.7198867797851562,
          -1.009613037109375,
          -0.7637863159179688,
          -1.7821731567382812,
          -1.25543212890625,
          -1.0447158813476562,
          -1.01837158203125,
          -0.9305877685546875,
          -1.0622711181640625,
          2.7829971313476562,
          3.441436767578125,
          1.7909469604492188,
          2.1860198974609375,
          1.7294998168945312,
          0,
          0.37750244140625,
          -0.04388427734375,
          1.24664306640625,
          2.581085205078125,
          2.0806655883789062,
          2.3967132568359375,
          2.1508941650390625,
          2.2318267822265625,
          3.3168716430664062,
          3.441375732421875,
          4.4908294677734375,
          3.797119140625,
          3.814910888671875,
          4.8376922607421875,
          5.424652099609375,
          5.9049224853515625,
          6.180625915527344,
          6.37628173828125,
          5.922698974609375,
          6.207313537597656,
          7.043312072753906,
          0,
          1.3162612915039062,
          0.99609375,
          0.46247100830078125,
          0.3201751708984375,
          0.36464691162109375,
          -0.9427337646484375,
          -3.1483535766601562,
          -1.903228759765625,
          -1.5385971069335938,
          -2.5880508422851562,
          -1.1828460693359375,
          -0.444671630859375,
          -1.4141006469726562,
          -0.7292861938476562,
          -0.05336761474609375,
          0.3201751708984375,
          -0.062255859375,
          -0.8360061645507812,
          -0.1956634521484375,
          -2.8815460205078125,
          -2.1789474487304688,
          0,
          0.4802703857421875,
          -0.3646240234375,
          0.15119171142578125,
          1.0583572387695312,
          0.7559738159179688,
          1.565277099609375,
          0.9516372680664062,
          1.600860595703125,
          1.538604736328125,
          1.1917495727539062,
          2.1878433227539062,
          2.4368896484375,
          1.0672454833984375,
          0.5425262451171875,
          0.7026138305664062,
          1.9388275146484375,
          1.7787551879882812,
          2.6503143310546875,
          2.46356201171875,
          0,
          -0.6403350830078125,
          0.09783172607421875,
          0.266815185546875,
          -0.40909576416015625,
          -0.5869827270507812,
          -1.2184219360351562,
          -2.8904342651367188,
          -2.3123397827148438,
          -1.2095413208007812,
          -1.040557861328125,
          -0.8004074096679688,
          -2.2322998046875,
          -1.9921722412109375,
          -1.89434814453125,
          -1.4674453735351562,
          -1.33404541015625,
          -2.1789398193359375,
          -1.7253570556640625,
          -1.503021240234375,
          -2.0277557373046875,
          -2.250091552734375,
          -1.8765487670898438,
          0,
          -0.515838623046875,
          0.6492462158203125,
          2.3746185302734375,
          2.632537841796875,
          4.313438415527344,
          4.091102600097656,
          3.9665756225585938,
          3.4329757690429688,
          3.9132156372070312,
          4.197822570800781,
          4.437950134277344,
          4.0555267333984375,
          3.8153915405273438,
          4.384574890136719,
          3.2106246948242188,
          2.2945709228515625,
          2.347930908203125,
          3.07720947265625,
          3.8331832885742188,
          0,
          0.3379669189453125,
          -0.39130401611328125,
          0.3201751708984375,
          0.3646392822265625,
          1.556396484375,
          1.59197998046875,
          1.86767578125,
          1.8587875366210938,
          1.9210433959960938,
          1.138397216796875,
          0.6937026977539062,
          1.0761337280273438,
          2.5258102416992188,
          1.307373046875,
          1.5652847290039062,
          1.5475006103515625,
          1.9566192626953125,
          2.5258102416992188,
          3.192840576171875,
          2.881561279296875,
          3.2373046875,
          0,
          -0.6670455932617188,
          -1.2095413208007812,
          -1.1383895874023438,
          -1.8232040405273438,
          -1.4852523803710938,
          -3.2284011840820312,
          -3.2728729248046875,
          -3.4685287475585938,
          -2.8370895385742188,
          -3.0149612426757812,
          -2.0722274780273438,
          -2.2412109375,
          -1.9921722412109375,
          -0.8715744018554688,
          -2.1522674560546875,
          0.12451171875,
          -0.4713592529296875,
          -0.6670455932617188,
          -2.9349136352539062,
          -2.5969467163085938,
          0,
          -0.3023834228515625,
          -0.4268951416015625,
          0.37353515625,
          0.5692062377929688,
          0.684814453125,
          0.22234344482421875,
          0.7915420532226562,
          0.99609375,
          1.7965316772460938,
          2.2234268188476562,
          3.6819839477539062,
          3.0416336059570312,
          1.2273330688476562,
          0.978302001953125,
          0.7114944458007812,
          0.515838623046875,
          1.1739654541015625,
          0.5514144897460938,
          0.515838623046875,
          0,
          0.818206787109375,
          2.3657150268554688,
          3.50408935546875,
          2.14337158203125,
          1.5741806030273438,
          0.42688751220703125,
          -2.445770263671875,
          -2.009979248046875,
          -1.5208206176757812,
          -1.0672454833984375,
          -0.6403427124023438,
          0.7203826904296875,
          0.3468475341796875,
          1.6720046997070312,
          1.7609481811523438,
          0.40019989013671875,
          1.9121322631835938,
          1.02276611328125,
          -1.4051971435546875,
          0.7648468017578125,
          0,
          -2.223419189453125,
          -5.140541076660156,
          -2.9260177612304688,
          -5.834251403808594,
          -8.884780883789062,
          -8.591293334960938,
          -7.915367126464844,
          -7.8708953857421875,
          -5.798675537109375,
          -5.416252136230469,
          -6.00323486328125,
          -6.599098205566406,
          -7.470695495605469,
          -6.67913818359375,
          -6.00323486328125,
          -5.6385955810546875,
          -6.741416931152344,
          -6.358985900878906,
          0,
          0.6314544677734375,
          2.312347412109375,
          2.7392654418945312,
          5.256156921386719,
          5.638580322265625,
          6.332298278808594,
          6.2077789306640625,
          4.998252868652344,
          5.407356262207031,
          5.771995544433594,
          4.909309387207031,
          3.7709197998046875,
          2.57916259765625,
          2.7570343017578125,
          1.7253646850585938,
          0.4268951416015625,
          2.5169143676757812,
          0.916046142578125,
          1.7609481811523438,
          2.8104095458984375,
          0,
          0.3379669189453125,
          1.0494613647460938,
          1.9121475219726562,
          1.8409957885742188,
          3.45074462890625,
          3.9576950073242188,
          3.27288818359375,
          4.108879089355469,
          4.304542541503906,
          4.1444549560546875,
          5.469612121582031,
          5.0871734619140625,
          4.073310852050781,
          2.4101943969726562,
          2.3924179077148438,
          4.63360595703125,
          4.98046875,
          5.860939025878906,
          7.168296813964844,
          6.705841064453125,
          0,
          0.23123931884765625,
          1.2629013061523438,
          2.0455474853515625,
          2.0188674926757812,
          2.7392578125,
          2.9793777465820312,
          4.215599060058594,
          3.966583251953125,
          3.0861053466796875,
          1.7075881958007812,
          2.1700668334960938,
          2.5169143676757812,
          2.8934478759765625,
          3.3268890380859375,
          2.7760772705078125,
          3.24560546875,
          3.6068115234375,
          3.6068115234375,
          0.2296600341796875,
          2.1349563598632812,
          2.4871139526367188,
          0,
          0.7946319580078125,
          1.7517776489257812,
          2.853424072265625,
          2.8895416259765625,
          4.532951354980469,
          5.670722961425781,
          5.833251953125,
          6.113182067871094,
          6.907806396484375,
          6.727203369140625,
          5.183113098144531,
          4.316246032714844,
          4.388481140136719,
          3.8015594482421875,
          3.7022171020507812,
          2.2935714721679688,
          1.3364105224609375,
          1.0022964477539062,
          -0.4695587158203125,
          1.7427597045898438,
          0,
          -0.126434326171875,
          1.0203628540039062,
          1.6343917846679688,
          3.6660995483398438,
          3.9279632568359375,
          2.2574386596679688,
          3.7202835083007812,
          4.144683837890625,
          4.7406463623046875,
          5.706840515136719,
          5.995780944824219,
          1.8872299194335938,
          0.9752120971679688,
          1.3454360961914062,
          1.8601303100585938,
          3.5667724609375,
          3.955047607421875,
          3.3681182861328125,
          1.3093109130859375,
          0.6501388549804688,
          0,
          -0.34313201904296875,
          -0.216705322265625,
          -0.6411056518554688,
          -0.3250732421875,
          0.06320953369140625,
          -0.23476409912109375,
          -2.7901992797851562,
          -1.6705093383789062,
          -1.6072921752929688,
          -2.4651260375976562,
          0.11739349365234375,
          0.8578414916992188,
          1.5802230834960938,
          1.83306884765625,
          2.8263320922851562,
          3.015960693359375,
          4.469764709472656,
          5.6526641845703125,
          5.4901275634765625,
          5.508186340332031,
          4.767753601074219,
          3.4222946166992188,
          0,
          -2.6818389892578125,
          -2.7540817260742188,
          -1.679534912109375,
          -0.1083526611328125,
          0.82171630859375,
          2.4109649658203125,
          2.5193252563476562,
          2.7270050048828125,
          1.2732086181640625,
          1.7156753540039062,
          1.0023117065429688,
          1.5802154541015625,
          2.9437332153320312,
          3.3049163818359375,
          7.431541442871094,
          7.0342254638671875,
          6.3028106689453125,
          4.171775817871094,
          0,
          -0.9571533203125,
          -0.45147705078125,
          -1.09259033203125,
          -2.8714675903320312,
          -5.363685607910156,
          -3.5125808715820312,
          -9.264556884765625,
          -9.354866027832031,
          -7.892036437988281,
          -9.047859191894531,
          -5.2824249267578125,
          -6.7542877197265625,
          -14.682441711425781,
          -12.867469787597656,
          -13.228652954101562,
          -14.023277282714844,
          -17.96929931640625,
          -15.106857299804688,
          -16.127212524414062,
          -17.147598266601562,
          -15.964691162109375,
          -14.456695556640625,
          0,
          0.8668670654296875,
          0.8578338623046875,
          0.2076873779296875,
          2.5464096069335938,
          0.8488006591796875,
          1.4808883666992188,
          -4.7406463623046875,
          -2.654754638671875,
          -2.5644607543945312,
          -1.0745315551757812,
          -1.8691635131835938,
          -4.596168518066406,
          -6.0409393310546875,
          -4.659370422363281,
          -5.1289215087890625,
          -3.5487136840820312,
          -4.343330383300781,
          -1.5892410278320312,
          -2.4199905395507812,
          -2.6999053955078125,
          0,
          -2.1490936279296875,
          -3.4132614135742188,
          -4.126625061035156,
          -3.0611114501953125,
          -3.3681259155273438,
          -1.7608184814453125,
          -1.6524505615234375,
          -3.8828125,
          -5.119903564453125,
          -4.704521179199219,
          -4.67742919921875,
          -4.686470031738281,
          -8.262275695800781,
          -9.291671752929688,
          -6.239593505859375,
          -5.68878173828125,
          -5.4991607666015625,
          -5.183097839355469,
          0,
          -3.3590927124023438,
          -0.39731597900390625,
          0.47857666015625,
          1.8872299194335938,
          3.1333389282226562,
          3.7563934326171875,
          2.528350830078125,
          1.7427520751953125,
          2.9347000122070312,
          2.77215576171875,
          4.018257141113281,
          5.923553466796875,
          3.7473678588867188,
          4.442657470703125,
          5.616539001464844,
          6.1673583984375,
          7.007133483886719,
          3.169464111328125,
          3.0159530639648438,
          3.8286285400390625,
          0,
          0.23476409912109375,
          2.0949172973632812,
          1.191925048828125,
          -0.4424591064453125,
          0.072235107421875,
          0.12641143798828125,
          0.6140289306640625,
          1.1828994750976562,
          1.7969284057617188,
          2.591552734375,
          2.519317626953125,
          2.6276702880859375,
          2.7360382080078125,
          3.946014404296875,
          3.0520706176757812,
          3.2687835693359375,
          2.7631301879882812,
          2.8714675903320312,
          0,
          -0.9571533203125,
          -0.37021636962890625,
          -0.713348388671875,
          -1.8330535888671875,
          -0.37021636962890625,
          -0.5959625244140625,
          -0.3340911865234375,
          0.43344879150390625,
          1.0293960571289062,
          3.71124267578125,
          3.39520263671875,
          4.569091796875,
          5.553337097167969,
          5.4630279541015625,
          3.015960693359375,
          2.9076004028320312,
          5.0115509033203125,
          4.6774444580078125,
          5.264373779296875,
          6.3931121826171875,
          0,
          -0.00904083251953125,
          0.550811767578125,
          0.11737060546875,
          -1.0926055908203125,
          -0.8036651611328125,
          -4.921257019042969,
          -3.2055892944335938,
          -3.151397705078125,
          -3.1604461669921875,
          -2.7270050048828125,
          -4.171775817871094,
          -3.1694717407226562,
          -2.5735015869140625,
          -1.8330535888671875,
          -0.9210433959960938,
          11.973526000976562,
          11.946418762207031,
          10.528755187988281,
          11.946418762207031,
          11.774864196777344,
          0,
          -1.6975936889648438,
          -0.4153594970703125,
          -1.3002853393554688,
          -3.964080810546875,
          -3.214599609375,
          -3.1513900756835938,
          -1.9052810668945312,
          -4.171760559082031,
          -2.4019241333007812,
          -1.526031494140625,
          2.71722412109375,
          1.115478515625,
          -0.8706893920898438,
          0.7036056518554688,
          2.3419570922851562,
          0.41986083984375,
          1.2527694702148438,
          -0.12931060791015625,
          -1.7310562133789062,
          -1.1178131103515625,
          -2.8019332885742188,
          0,
          2.7367019653320312,
          3.130279541015625,
          3.3407821655273438,
          6.223930358886719,
          6.031707763671875,
          5.0706787109375,
          5.006599426269531,
          5.464241027832031,
          4.40252685546875,
          5.1439056396484375,
          8.173500061035156,
          8.237556457519531,
          10.580665588378906,
          10.534919738769531,
          11.065757751464844,
          9.308425903320312,
          10.242027282714844,
          10.836944580078125,
          12.777359008789062,
          0,
          0.9610443115234375,
          1.7207260131835938,
          -0.12815093994140625,
          0.16473388671875,
          -0.0183258056640625,
          -0.585784912109375,
          -0.8054656982421875,
          -1.400390625,
          -1.070892333984375,
          -2.9106216430664062,
          -3.7343521118164062,
          -9.958297729492188,
          -12.511947631835938,
          -12.328880310058594,
          -11.596664428710938,
          -9.784393310546875,
          -11.816322326660156,
          -10.35186767578125,
          -10.864433288574219,
          -14.003852844238281,
          -13.976402282714844,
          0,
          -1.272247314453125,
          -3.972320556640625,
          -4.9608306884765625,
          -2.3797378540039062,
          -1.4186859130859375,
          -3.0387344360351562,
          -3.6336746215820312,
          -1.958709716796875,
          -5.674751281738281,
          -5.409324645996094,
          -3.7435150146484375,
          -3.084503173828125,
          -4.6496429443359375,
          -1.6749801635742188,
          -3.2950210571289062,
          -5.079826354980469,
          -3.9082565307617188,
          -2.855682373046875,
          -4.265220642089844,
          -2.9197540283203125,
          -3.5879135131835938,
          0,
          2.05023193359375,
          4.567268371582031,
          3.322479248046875,
          2.9746627807617188,
          2.2607421875,
          1.4827499389648438,
          2.3522720336914062,
          0.5949325561523438,
          -0.73223876953125,
          1.5559844970703125,
          1.2539215087890625,
          1.3729171752929688,
          0.9976577758789062,
          0.540008544921875,
          0.33864593505859375,
          -0.9610519409179688,
          -0.5949249267578125,
          -0.796295166015625,
          -0.4027252197265625,
          0,
          -3.1943359375,
          -1.8671798706054688,
          -1.6292037963867188,
          -2.398040771484375,
          -3.88995361328125,
          -1.006805419921875,
          -1.7390365600585938,
          8.2833251953125,
          8.146034240722656,
          9.180313110351562,
          10.589836120605469,
          10.480010986328125,
          10.965103149414062,
          14.2418212890625,
          13.408920288085938,
          13.280769348144531,
          13.399757385253906,
          13.472984313964844,
          14.296745300292969,
          13.35400390625,
          14.717758178710938,
          14.122833251953125,
          0,
          0.7139129638671875,
          -0.11899566650390625,
          1.2996978759765625,
          1.272247314453125,
          2.51702880859375,
          2.8282241821289062,
          1.5376815795898438,
          0.558319091796875,
          0.6590118408203125,
          1.6383590698242188,
          1.3637619018554688,
          1.8763275146484375,
          1.199005126953125,
          1.5925827026367188,
          1.57427978515625,
          1.8763275146484375,
          1.5102081298828125,
          1.57427978515625,
          2.0685348510742188,
          0,
          0.7047882080078125,
          1.9129486083984375,
          1.2814102172851562,
          1.4186782836914062,
          1.2905426025390625,
          1.1441116333007812,
          1.3363265991210938,
          2.9746780395507812,
          4.6221923828125,
          5.436790466308594,
          0.5400161743164062,
          -0.05490875244140625,
          -0.338653564453125,
          0.8786849975585938,
          0.2928924560546875,
          0.1373138427734375,
          1.0342788696289062,
          1.4003829956054688,
          -0.05490875244140625,
          0.4942626953125,
          0,
          -2.5902633666992188,
          -2.3889083862304688,
          -2.9197769165039062,
          -1.5834426879882812,
          0.29288482666015625,
          0.15558624267578125,
          1.3912277221679688,
          0.4027099609375,
          -0.3752899169921875,
          0.43932342529296875,
          2.883148193359375,
          2.4987030029296875,
          2.5353469848632812,
          1.217315673828125,
          2.0593795776367188,
          -0.5125656127929688,
          -3.9814987182617188,
          -4.722877502441406,
          -5.3452606201171875,
          -5.5283203125,
          0,
          2.5994110107421875,
          4.375053405761719,
          3.5238418579101562,
          2.214996337890625,
          2.3705902099609375,
          3.578765869140625,
          5.0523681640625,
          4.402503967285156,
          4.39337158203125,
          4.686256408691406,
          6.4618988037109375,
          5.299507141113281,
          3.6519927978515625,
          -1.5742950439453125,
          -4.448280334472656,
          -5.25372314453125,
          -7.1666717529296875,
          -8.301620483398438,
          0,
          -2.4987258911132812,
          -0.796295166015625,
          -4.805244445800781,
          -4.613029479980469,
          -13.7567138671875,
          -7.8165283203125,
          -12.731590270996094,
          -22.96446990966797,
          -16.639862060546875,
          -26.579849243164062,
          -21.5732421875,
          -27.07410430908203,
          -29.655197143554688,
          -29.499595642089844,
          -25.820152282714844,
          -18.81824493408203,
          -18.424659729003906,
          -10.32440185546875,
          -14.87335205078125,
          -12.475318908691406,
          -14.6719970703125,
          0,
          -0.49425506591796875,
          -0.31119537353515625,
          5.9310455322265625,
          5.766288757324219,
          8.686042785644531,
          14.534706115722656,
          15.422523498535156,
          16.29205322265625,
          12.008522033691406,
          12.585151672363281,
          16.365280151367188,
          15.5872802734375,
          9.583015441894531,
          10.589836120605469,
          8.805038452148438,
          10.031509399414062,
          10.370162963867188,
          10.370162963867188,
          12.466163635253906,
          11.907844543457031,
          0,
          0.20136260986328125,
          -0.366119384765625,
          -3.4963836669921875,
          -1.6017532348632812,
          -0.20136260986328125,
          -1.5468368530273438,
          -2.333984375,
          -2.6451797485351562,
          -3.5147018432617188,
          -3.4414825439453125,
          0.466796875,
          0.23796844482421875,
          3.0478897094726562,
          0.82135009765625,
          0.709930419921875,
          5.72381591796875,
          7.1258544921875,
          7.7293701171875,
          11.8797607421875,
          0,
          1.8105850219726562,
          4.688911437988281,
          5.41314697265625,
          6.787315368652344,
          7.5208282470703125,
          7.641548156738281,
          7.492973327636719,
          0.9192123413085938,
          1.513458251953125,
          1.7734298706054688,
          4.6610565185546875,
          5.580268859863281,
          6.155937194824219,
          7.910804748535156,
          11.578361511230469,
          11.661933898925781,
          6.815185546875,
          8.495765686035156,
          7.678680419921875,
          9.210700988769531,
          10.668449401855469,
          0,
          2.5719451904296875,
          6.9451446533203125,
          3.6954193115234375,
          6.378753662109375,
          11.689773559570312,
          12.451156616210938,
          10.074172973632812,
          12.785400390625,
          15.348052978515625,
          13.964599609375,
          15.041641235351562,
          18.282119750976562,
          20.826187133789062,
          22.646041870117188,
          19.674835205078125,
          17.214340209960938,
          23.017425537109375,
          18.829910278320312,
          22.822479248046875,
          18.65350341796875,
          17.771453857421875,
          0,
          -1.7548675537109375,
          -0.4735260009765625,
          -0.1578369140625,
          -0.9099273681640625,
          -2.330535888671875,
          -2.785491943359375,
          0.4271087646484375,
          -1.20703125,
          -1.9127044677734375,
          -1.55059814453125,
          -0.343536376953125,
          -0.779937744140625,
          0.770660400390625,
          -1.70843505859375,
          1.6155853271484375,
          3.18475341796875,
          5.85882568359375,
          3.435455322265625,
          4.2432403564453125,
          3.0269012451171875,
          0,
          2.469818115234375,
          -4.1225128173828125,
          -6.434478759765625,
          -10.835556030273438,
          -3.6304168701171875,
          -6.8337249755859375,
          -6.3044891357421875,
          -5.2552947998046875,
          -5.28314208984375,
          -6.8615875244140625,
          -5.5059967041015625,
          -5.765960693359375,
          -9.730636596679688,
          -8.4771728515625,
          -13.231094360351562,
          -12.089035034179688,
          -13.277511596679688,
          -8.616424560546875,
          -9.089981079101562,
          -9.795639038085938,
          0,
          -2.34912109375,
          -0.2042694091796875,
          -2.5719451904296875,
          -2.3212432861328125,
          -0.64996337890625,
          0.2971038818359375,
          1.810577392578125,
          -0.2042694091796875,
          0.575653076171875,
          -2.8040618896484375,
          -1.5784454345703125,
          -4.0018310546875,
          -5.71954345703125,
          -7.8458099365234375,
          -8.52362060546875,
          -6.629486083984375,
          -38.81120300292969,
          -39.29402160644531,
          -45.22711944580078,
          -44.744300842285156,
          -46.41559600830078,
          0,
          3.602569580078125,
          6.1466522216796875,
          9.145706176757812,
          8.625740051269531,
          8.718589782714844,
          10.16705322265625,
          12.70184326171875,
          10.770576477050781,
          13.444648742675781,
          12.181877136230469,
          10.362030029296875,
          11.234817504882812,
          11.931190490722656,
          10.389884948730469,
          10.733428955078125,
          10.185623168945312,
          11.383377075195312,
          12.460433959960938,
          14.233871459960938,
          0,
          -0.48282623291015625,
          -0.566375732421875,
          1.5041656494140625,
          0.185699462890625,
          0.9006423950195312,
          -0.037139892578125,
          -0.01857757568359375,
          -2.0148391723632812,
          -1.5877456665039062,
          0.046417236328125,
          1.8384170532226562,
          5.246009826660156,
          4.011100769042969,
          2.1355361938476562,
          2.7019271850585938,
          2.7669143676757812,
          2.8226242065429688,
          7.325836181640625,
          6.434478759765625,
          7.0751495361328125,
          6.843025207519531,
          0,
          0.6870803833007812,
          0.46425628662109375,
          -0.408538818359375,
          1.7827072143554688,
          0.0557098388671875,
          0.14855194091796875,
          -1.0956268310546875,
          -2.9154891967773438,
          -3.9368362426757812,
          -2.0055618286132812,
          -1.4948883056640625,
          -1.2441864013671875,
          -1.6341476440429688,
          0.36211395263671875,
          5.236724853515625,
          2.7390670776367188,
          1.1141891479492188,
          -2.8226318359375,
          0,
          0,
          0.9749221801757812,
          2.5533599853515625,
          0.67779541015625,
          1.8012847900390625,
          1.8384246826171875,
          0.102142333984375,
          2.7483673095703125,
          2.200531005859375,
          1.11419677734375,
          -3.0176162719726562,
          -0.8170852661132812,
          -2.5440750122070312,
          -3.5561447143554688,
          -4.363929748535156,
          -2.785491943359375,
          -5.4502716064453125,
          -5.765968322753906,
          0,
          0.8542251586914062,
          -1.2070388793945312,
          -2.209808349609375,
          -1.244171142578125,
          -1.2534637451171875,
          1.6805877685546875,
          1.4020462036132812,
          2.2562637329101562,
          -0.557098388671875,
          -1.532012939453125,
          -2.0891189575195312,
          -0.7427825927734375,
          -2.4419403076171875,
          -1.1606216430664062,
          -1.3648834228515625,
          -1.9498367309570312,
          -3.091888427734375,
          -2.7297744750976562,
          -1.5877227783203125,
          -1.829132080078125,
          -2.6740646362304688,
          -1.5134353637695312,
          0,
          5.617424011230469,
          2.5069351196289062,
          3.7511215209960938,
          6.898735046386719,
          7.465118408203125,
          6.174507141113281,
          8.059349060058594,
          9.489265441894531,
          12.488288879394531,
          12.581138610839844,
          12.794685363769531,
          12.404731750488281,
          14.995231628417969,
          16.712974548339844,
          16.889366149902344,
          16.220863342285156,
          15.691596984863281,
          17.019371032714844,
          16.740806579589844,
          13.175376892089844,
          0,
          -3.9925613403320312,
          -2.664794921875,
          0.6035003662109375,
          0.6685028076171875,
          -1.39276123046875,
          -2.9619140625,
          -5.1253204345703125,
          -3.3142623901367188,
          0.0737762451171875,
          -1.3040771484375,
          -0.700103759765625,
          -1.5494537353515625,
          1.3478240966796875,
          1.0458221435546875,
          2.54638671875,
          2.1122589111328125,
          2.650177001953125,
          -0.3697662353515625,
          1.1213226318359375,
          0,
          -0.8399200439453125,
          -2.0667877197265625,
          -0.14154052734375,
          0.83050537109375,
          1.5477294921875,
          -0.0566253662109375,
          1.8119964599609375,
          3.2842254638671875,
          5.483154296875,
          3.9542999267578125,
          2.349945068359375,
          1.6798553466796875,
          0.1415557861328125,
          0.7078094482421875,
          1.1419219970703125,
          -1.2457275390625,
          1.1324920654296875,
          0.3114471435546875,
          1.3589935302734375,
          2.6425018310546875,
          0.40582275390625,
          0,
          1.141937255859375,
          1.13250732421875,
          6.7760772705078125,
          5.28497314453125,
          7.1724700927734375,
          7.9746551513671875,
          8.578643798828125,
          9.1448974609375,
          6.7760772705078125,
          6.73834228515625,
          4.05810546875,
          3.3880615234375,
          -1.5571746826171875,
          -1.11358642578125,
          -1.6421051025390625,
          -1.74591064453125,
          0.85882568359375,
          2.3216094970703125,
          3.6145477294921875,
          3.0294342041015625,
          0,
          2.0950927734375,
          2.89727783203125,
          5.3038177490234375,
          2.8784027099609375,
          3.057708740234375,
          2.29327392578125,
          1.8119659423828125,
          4.1807708740234375,
          4.6998443603515625,
          4.3506317138671875,
          5.2849273681640625,
          4.0203399658203125,
          3.4918365478515625,
          4.2657012939453125,
          5.313262939453125,
          4.6337738037109375,
          3.4540863037109375,
          3.5956573486328125,
          5.0962066650390625,
          6.190948486328125,
          6.436309814453125,
          0,
          -1.066436767578125,
          -0.264251708984375,
          -0.462432861328125,
          -3.1898651123046875,
          -4.1808013916015625,
          -4.7564697265625,
          -4.567718505859375,
          -4.6809844970703125,
          -5.5303497314453125,
          -4.95465087890625,
          -6.4080047607421875,
          -10.324554443359375,
          -7.8141937255859375,
          -7.8519439697265625,
          -4.9357757568359375,
          -7.096954345703125,
          -7.181884765625,
          -11.834548950195312,
          -12.995361328125,
          -14.222221374511719,
          0,
          -2.057373046875,
          -2.3876800537109375,
          -0.1887664794921875,
          -0.2736968994140625,
          -0.4813079833984375,
          -0.7833251953125,
          -1.2457427978515625,
          5.3793182373046875,
          8.578628540039062,
          9.512924194335938,
          8.890045166015625,
          7.993499755859375,
          7.266815185546875,
          3.312530517578125,
          5.5020294189453125,
          8.276626586914062,
          9.229782104492188,
          8.427627563476562,
          10.871917724609375,
          8.333251953125,
          0,
          0.6889190673828125,
          3.010528564453125,
          2.529205322265625,
          3.10491943359375,
          2.312164306640625,
          1.9724273681640625,
          -0.55682373046875,
          -1.25518798828125,
          -3.6145477294921875,
          -4.5865936279296875,
          -3.756103515625,
          -4.02978515625,
          -3.548492431640625,
          -4.9924163818359375,
          -9.701690673828125,
          -10.164115905761719,
          -11.872299194335938,
          -14.684669494628906,
          -12.561233520507812,
          -16.79863739013672,
          0,
          0.3397369384765625,
          -0.7833099365234375,
          2.6236114501953125,
          4.426155090332031,
          4.445030212402344,
          2.8784255981445312,
          5.266082763671875,
          7.682060241699219,
          5.4642791748046875,
          8.116203308105469,
          7.398948669433594,
          8.323829650878906,
          6.200416564941406,
          7.181892395019531,
          9.050498962402344,
          9.692237854003906,
          10.834175109863281,
          11.041801452636719,
          9.654487609863281,
          9.994224548339844,
          9.720558166503906,
          0,
          -1.0664215087890625,
          -1.7176055908203125,
          -4.161895751953125,
          -2.963348388671875,
          -2.6330413818359375,
          -2.4631805419921875,
          -1.1796722412109375,
          -5.18115234375,
          -2.359344482421875,
          -5.0018310546875,
          -4.35064697265625,
          -4.143035888671875,
          -5.284942626953125,
          -7.2479400634765625,
          -8.569175720214844,
          -8.606925964355469,
          -17.95000457763672,
          -18.336936950683594,
          -15.279205322265625,
          0,
          -0.50018310546875,
          -3.6522903442382812,
          -1.453369140625,
          -0.7455673217773438,
          -1.8780593872070312,
          -1.3118057250976562,
          -3.6145477294921875,
          -6.927085876464844,
          -8.805137634277344,
          -7.01202392578125,
          -6.3891448974609375,
          -9.286445617675781,
          -11.296623229980469,
          -13.325668334960938,
          -15.760520935058594,
          -14.8450927734375,
          -11.947799682617188,
          -14.250534057617188,
          0,
          3.7183456420898438,
          -0.22650146484375,
          -2.9728012084960938,
          -4.039222717285156,
          -2.868988037109375,
          2.4537353515625,
          -0.6983718872070312,
          -1.4816741943359375,
          0.7549972534179688,
          1.3967361450195312,
          4.945213317871094,
          6.0965728759765625,
          5.766273498535156,
          2.4726028442382812,
          3.2842254638671875,
          0.5096206665039062,
          1.8591690063476562,
          1.9724197387695312,
          2.4159774780273438,
          5.181144714355469,
          3.68060302734375,
          1.6137924194335938,
          0,
          1.7459259033203125,
          0.1698760986328125,
          -0.8682403564453125,
          -1.3684234619140625,
          -2.038482666015625,
          -2.8972854614257812,
          -4.916908264160156,
          -4.445030212402344,
          -6.360832214355469,
          -6.049400329589844,
          -5.086784362792969,
          -3.5390396118164062,
          -4.048667907714844,
          -6.398582458496094,
          -6.5118255615234375,
          -10.230178833007812,
          -10.475555419921875,
          -7.4744415283203125,
          -9.276992797851562,
          0,
          -2.2744216918945312,
          0.1415557861328125,
          -2.4442901611328125,
          -5.917274475097656,
          -6.068267822265625,
          -5.266090393066406,
          -6.43634033203125,
          -5.13397216796875,
          -3.491851806640625,
          -4.596031188964844,
          -3.1615524291992188,
          -8.654136657714844,
          -4.0202789306640625,
          -1.9996490478515625,
          0.33184814453125,
          -0.765899658203125,
          -2.10650634765625,
          -0.9893264770507812,
          1.6141815185546875,
          0.34156036376953125,
          0,
          2.710357666015625,
          1.0685958862304688,
          1.4863204956054688,
          2.584075927734375,
          0.5148696899414062,
          -2.4675064086914062,
          -5.012725830078125,
          -8.267112731933594,
          -8.704261779785156,
          -5.8578948974609375,
          -6.382484436035156,
          -6.1493377685546875,
          -5.090446472167969,
          -5.177879333496094,
          -4.944732666015625,
          -0.8937454223632812,
          -1.9720611572265625,
          -3.7498321533203125,
          -5.245872497558594,
          -8.3642578125,
          0,
          -1.4960403442382812,
          -0.8160247802734375,
          0.00971221923828125,
          -0.10686492919921875,
          -2.3120651245117188,
          -4.225837707519531,
          -4.6144256591796875,
          -5.129295349121094,
          -2.6229324340820312,
          -2.5355072021484375,
          1.5931854248046875,
          1.5834808349609375,
          -0.39829254150390625,
          2.96295166015625,
          1.2337493896484375,
          -0.39829254150390625,
          0.59259033203125,
          1.039459228515625,
          2.4383621215820312,
          0,
          -2.525787353515625,
          -0.29144287109375,
          1.457183837890625,
          0.748016357421875,
          0.5245895385742188,
          -0.029144287109375,
          2.2149200439453125,
          1.4086151123046875,
          2.0983428955078125,
          1.96234130859375,
          0.39829254150390625,
          -0.8160247802734375,
          -1.2920379638671875,
          -2.108062744140625,
          -5.2070159912109375,
          -6.23675537109375,
          -6.1881866455078125,
          -5.430450439453125,
          -9.277427673339844,
          -8.947128295898438,
          -9.005416870117188,
          -8.325401306152344,
          0,
          -0.6897430419921875,
          0.1845703125,
          1.54461669921875,
          1.2920303344726562,
          3.001800537109375,
          4.828132629394531,
          1.8263397216796875,
          2.26348876953125,
          0.417724609375,
          -0.03885650634765625,
          0.272003173828125,
          -1.0200347900390625,
          -1.59320068359375,
          -2.5354995727539062,
          -4.381278991699219,
          -4.225852966308594,
          -4.721282958984375,
          -2.4480819702148438,
          -3.4001083374023438,
          -2.6520843505859375,
          0,
          3.9829788208007812,
          3.14752197265625,
          2.3509292602539062,
          0.573150634765625,
          0.1068572998046875,
          -0.9034652709960938,
          -1.3891830444335938,
          1.1754608154296875,
          0.6508712768554688,
          2.826934814453125,
          4.93499755859375,
          2.7103652954101562,
          2.885223388671875,
          6.741905212402344,
          6.868202209472656,
          12.026641845703125,
          13.425544738769531,
          13.114677429199219,
          13.376968383789062,
          11.774063110351562,
          0,
          -1.816619873046875,
          -3.060089111328125,
          0.17486572265625,
          1.6806259155273438,
          2.0692062377929688,
          1.66119384765625,
          11.016334533691406,
          13.920989990234375,
          12.619239807128906,
          13.571266174316406,
          14.785591125488281,
          15.523895263671875,
          12.580375671386719,
          12.298660278320312,
          13.386695861816406,
          13.610130310058594,
          14.387290954589844,
          11.812934875488281,
          10.763755798339844,
          14.601020812988281,
          0,
          0.0194244384765625,
          -1.6903457641601562,
          -4.118995666503906,
          -4.0218353271484375,
          -4.070411682128906,
          -4.585289001464844,
          -3.5458221435546875,
          -2.1372146606445312,
          -2.2343597412109375,
          -6.2464752197265625,
          -6.460205078125,
          -7.4899444580078125,
          -7.305366516113281,
          -7.00421142578125,
          -7.800811767578125,
          -8.267112731933594,
          -8.42254638671875,
          -9.90887451171875,
          -7.674522399902344,
          -8.568260192871094,
          0,
          2.8269424438476562,
          2.1177825927734375,
          4.98358154296875,
          7.247077941894531,
          9.170555114746094,
          10.579177856445312,
          12.337516784667969,
          12.658103942871094,
          11.880928039550781,
          12.726104736328125,
          11.356338500976562,
          12.764961242675781,
          12.366661071777344,
          11.861503601074219,
          11.832359313964844,
          9.831153869628906,
          8.966552734375,
          11.764350891113281,
          14.13470458984375,
          0,
          1.8846359252929688,
          -0.38858795166015625,
          -1.2726058959960938,
          -1.156036376953125,
          -2.3509292602539062,
          -2.2634963989257812,
          -3.5749664306640625,
          -2.4772109985351562,
          -2.2052001953125,
          -1.7097702026367188,
          -2.9823760986328125,
          -3.5749664306640625,
          -6.0716094970703125,
          -5.605308532714844,
          -4.876716613769531,
          -7.625946044921875,
          -5.731597900390625,
          -7.004203796386719,
          0,
          0.29143524169921875,
          2.5937957763671875,
          5.343017578125,
          2.5840835571289062,
          3.0892410278320312,
          1.7097625732421875,
          1.19488525390625,
          0.7771682739257812,
          3.7789688110351562,
          1.3308944702148438,
          5.896751403808594,
          4.8475799560546875,
          6.9459228515625,
          8.985984802246094,
          7.781379699707031,
          9.238563537597656,
          8.801406860351562,
          8.762550354003906,
          8.976272583007812,
          9.802009582519531,
          11.502059936523438,
          11.968360900878906,
          0,
          1.4474716186523438,
          0.40801239013671875,
          2.3217926025390625,
          1.0977401733398438,
          0.21372222900390625,
          0.7674560546875,
          1.6806259155273438,
          1.068603515625,
          0.8548812866210938,
          1.2823257446289062,
          0.9520339965820312,
          0.5245895385742188,
          7.412208557128906,
          6.042472839355469,
          6.907066345214844,
          6.829353332519531,
          10.035148620605469,
          8.694541931152344,
          0,
          -0.1165771484375,
          1.2628936767578125,
          -0.378875732421875,
          0.2719879150390625,
          1.2628936767578125,
          0.19427490234375,
          0.3400115966796875,
          -0.7674560546875,
          -0.6923980712890625,
          -0.9689178466796875,
          0.8680267333984375,
          0.334716796875,
          1.598846435546875,
          1.9741363525390625,
          0.99639892578125,
          -2.4207000732421875,
          -3.03302001953125,
          -2.8058700561523438,
          -0.86029052734375,
          -2.015777587890625,
          -1.818267822265625,
          0,
          0.7900848388671875,
          -0.6616973876953125,
          -0.3259124755859375,
          -0.46417236328125,
          1.0271148681640625,
          0.543182373046875,
          1.580169677734375,
          3.081329345703125,
          3.347991943359375,
          4.8096466064453125,
          5.0466766357421875,
          3.7924041748046875,
          2.5875244140625,
          2.903564453125,
          1.2838897705078125,
          0.25677490234375,
          0.82958984375,
          2.073974609375,
          2.2319793701171875,
          4.582489013671875,
          0,
          -0.1481475830078125,
          -2.0937347412109375,
          -1.274017333984375,
          0.3259124755859375,
          1.7480621337890625,
          5.95526123046875,
          9.293380737304688,
          9.678543090820312,
          10.31060791015625,
          10.231597900390625,
          8.34527587890625,
          -0.6123199462890625,
          -0.5234375,
          -2.13323974609375,
          -1.91595458984375,
          -2.1826171875,
          -0.4740447998046875,
          2.2319793701171875,
          1.7776947021484375,
          0,
          -3.1405792236328125,
          -4.1380615234375,
          -3.387481689453125,
          -0.582672119140625,
          -1.7381744384765625,
          -0.8592071533203125,
          1.481414794921875,
          1.244384765625,
          2.5282745361328125,
          1.283905029296875,
          1.017242431640625,
          -2.0245819091796875,
          -1.0172271728515625,
          0.3160552978515625,
          2.054229736328125,
          3.7035369873046875,
          -0.799957275390625,
          1.0567474365234375,
          1.92584228515625,
          3.614654541015625,
          4.1973419189453125,
          3.2591094970703125,
          0,
          -0.5135498046875,
          0.5431976318359375,
          1.738189697265625,
          2.24188232421875,
          0.967864990234375,
          -2.903564453125,
          -2.409759521484375,
          -2.1727294921875,
          -2.913421630859375,
          -2.913421630859375,
          -3.446746826171875,
          -4.6022491455078125,
          -6.94287109375,
          -5.471343994140625,
          -6.16265869140625,
          -10.873542785644531,
          -10.379737854003906,
          -10.113090515136719,
          -8.760055541992188,
          0,
          -0.6123123168945312,
          0.36540985107421875,
          0.98760986328125,
          2.33074951171875,
          1.333282470703125,
          2.6072845458984375,
          3.78253173828125,
          3.06158447265625,
          0.22714996337890625,
          2.1134796142578125,
          1.906097412109375,
          -0.9382171630859375,
          4.7602691650390625,
          2.1134796142578125,
          3.5948944091796875,
          5.0466766357421875,
          2.1233673095703125,
          2.627044677734375,
          2.7949371337890625,
          5.02691650390625,
          5.372589111328125,
          0,
          2.469024658203125,
          2.8640594482421875,
          2.43939208984375,
          4.5232391357421875,
          6.0145263671875,
          6.291046142578125,
          8.908218383789062,
          8.839080810546875,
          11.436492919921875,
          12.28582763671875,
          12.354949951171875,
          13.698104858398438,
          17.006591796875,
          16.216506958007812,
          16.868331909179688,
          17.88555908203125,
          18.626266479492188,
          19.969406127929688,
          22.270538330078125,
          22.75445556640625,
          0,
          -0.8098297119140625,
          -0.720947265625,
          -1.96533203125,
          -0.7407073974609375,
          0.0691375732421875,
          -0.948089599609375,
          -1.8073272705078125,
          -0.3160247802734375,
          -4.0294342041015625,
          -6.508331298828125,
          -5.1256866455078125,
          -4.947906494140625,
          -8.839080810546875,
          -7.8119659423828125,
          -7.2984161376953125,
          -6.824371337890625,
          -4.1380767822265625,
          -5.6886138916015625,
          -5.4318389892578125
         ],
         "xaxis": "x",
         "yaxis": "y"
        }
       ],
       "layout": {
        "barmode": "relative",
        "legend": {
         "tracegroupgap": 0
        },
        "margin": {
         "t": 60
        },
        "template": {
         "data": {
          "bar": [
           {
            "error_x": {
             "color": "#2a3f5f"
            },
            "error_y": {
             "color": "#2a3f5f"
            },
            "marker": {
             "line": {
              "color": "#E5ECF6",
              "width": 0.5
             },
             "pattern": {
              "fillmode": "overlay",
              "size": 10,
              "solidity": 0.2
             }
            },
            "type": "bar"
           }
          ],
          "barpolar": [
           {
            "marker": {
             "line": {
              "color": "#E5ECF6",
              "width": 0.5
             },
             "pattern": {
              "fillmode": "overlay",
              "size": 10,
              "solidity": 0.2
             }
            },
            "type": "barpolar"
           }
          ],
          "carpet": [
           {
            "aaxis": {
             "endlinecolor": "#2a3f5f",
             "gridcolor": "white",
             "linecolor": "white",
             "minorgridcolor": "white",
             "startlinecolor": "#2a3f5f"
            },
            "baxis": {
             "endlinecolor": "#2a3f5f",
             "gridcolor": "white",
             "linecolor": "white",
             "minorgridcolor": "white",
             "startlinecolor": "#2a3f5f"
            },
            "type": "carpet"
           }
          ],
          "choropleth": [
           {
            "colorbar": {
             "outlinewidth": 0,
             "ticks": ""
            },
            "type": "choropleth"
           }
          ],
          "contour": [
           {
            "colorbar": {
             "outlinewidth": 0,
             "ticks": ""
            },
            "colorscale": [
             [
              0,
              "#0d0887"
             ],
             [
              0.1111111111111111,
              "#46039f"
             ],
             [
              0.2222222222222222,
              "#7201a8"
             ],
             [
              0.3333333333333333,
              "#9c179e"
             ],
             [
              0.4444444444444444,
              "#bd3786"
             ],
             [
              0.5555555555555556,
              "#d8576b"
             ],
             [
              0.6666666666666666,
              "#ed7953"
             ],
             [
              0.7777777777777778,
              "#fb9f3a"
             ],
             [
              0.8888888888888888,
              "#fdca26"
             ],
             [
              1,
              "#f0f921"
             ]
            ],
            "type": "contour"
           }
          ],
          "contourcarpet": [
           {
            "colorbar": {
             "outlinewidth": 0,
             "ticks": ""
            },
            "type": "contourcarpet"
           }
          ],
          "heatmap": [
           {
            "colorbar": {
             "outlinewidth": 0,
             "ticks": ""
            },
            "colorscale": [
             [
              0,
              "#0d0887"
             ],
             [
              0.1111111111111111,
              "#46039f"
             ],
             [
              0.2222222222222222,
              "#7201a8"
             ],
             [
              0.3333333333333333,
              "#9c179e"
             ],
             [
              0.4444444444444444,
              "#bd3786"
             ],
             [
              0.5555555555555556,
              "#d8576b"
             ],
             [
              0.6666666666666666,
              "#ed7953"
             ],
             [
              0.7777777777777778,
              "#fb9f3a"
             ],
             [
              0.8888888888888888,
              "#fdca26"
             ],
             [
              1,
              "#f0f921"
             ]
            ],
            "type": "heatmap"
           }
          ],
          "heatmapgl": [
           {
            "colorbar": {
             "outlinewidth": 0,
             "ticks": ""
            },
            "colorscale": [
             [
              0,
              "#0d0887"
             ],
             [
              0.1111111111111111,
              "#46039f"
             ],
             [
              0.2222222222222222,
              "#7201a8"
             ],
             [
              0.3333333333333333,
              "#9c179e"
             ],
             [
              0.4444444444444444,
              "#bd3786"
             ],
             [
              0.5555555555555556,
              "#d8576b"
             ],
             [
              0.6666666666666666,
              "#ed7953"
             ],
             [
              0.7777777777777778,
              "#fb9f3a"
             ],
             [
              0.8888888888888888,
              "#fdca26"
             ],
             [
              1,
              "#f0f921"
             ]
            ],
            "type": "heatmapgl"
           }
          ],
          "histogram": [
           {
            "marker": {
             "pattern": {
              "fillmode": "overlay",
              "size": 10,
              "solidity": 0.2
             }
            },
            "type": "histogram"
           }
          ],
          "histogram2d": [
           {
            "colorbar": {
             "outlinewidth": 0,
             "ticks": ""
            },
            "colorscale": [
             [
              0,
              "#0d0887"
             ],
             [
              0.1111111111111111,
              "#46039f"
             ],
             [
              0.2222222222222222,
              "#7201a8"
             ],
             [
              0.3333333333333333,
              "#9c179e"
             ],
             [
              0.4444444444444444,
              "#bd3786"
             ],
             [
              0.5555555555555556,
              "#d8576b"
             ],
             [
              0.6666666666666666,
              "#ed7953"
             ],
             [
              0.7777777777777778,
              "#fb9f3a"
             ],
             [
              0.8888888888888888,
              "#fdca26"
             ],
             [
              1,
              "#f0f921"
             ]
            ],
            "type": "histogram2d"
           }
          ],
          "histogram2dcontour": [
           {
            "colorbar": {
             "outlinewidth": 0,
             "ticks": ""
            },
            "colorscale": [
             [
              0,
              "#0d0887"
             ],
             [
              0.1111111111111111,
              "#46039f"
             ],
             [
              0.2222222222222222,
              "#7201a8"
             ],
             [
              0.3333333333333333,
              "#9c179e"
             ],
             [
              0.4444444444444444,
              "#bd3786"
             ],
             [
              0.5555555555555556,
              "#d8576b"
             ],
             [
              0.6666666666666666,
              "#ed7953"
             ],
             [
              0.7777777777777778,
              "#fb9f3a"
             ],
             [
              0.8888888888888888,
              "#fdca26"
             ],
             [
              1,
              "#f0f921"
             ]
            ],
            "type": "histogram2dcontour"
           }
          ],
          "mesh3d": [
           {
            "colorbar": {
             "outlinewidth": 0,
             "ticks": ""
            },
            "type": "mesh3d"
           }
          ],
          "parcoords": [
           {
            "line": {
             "colorbar": {
              "outlinewidth": 0,
              "ticks": ""
             }
            },
            "type": "parcoords"
           }
          ],
          "pie": [
           {
            "automargin": true,
            "type": "pie"
           }
          ],
          "scatter": [
           {
            "fillpattern": {
             "fillmode": "overlay",
             "size": 10,
             "solidity": 0.2
            },
            "type": "scatter"
           }
          ],
          "scatter3d": [
           {
            "line": {
             "colorbar": {
              "outlinewidth": 0,
              "ticks": ""
             }
            },
            "marker": {
             "colorbar": {
              "outlinewidth": 0,
              "ticks": ""
             }
            },
            "type": "scatter3d"
           }
          ],
          "scattercarpet": [
           {
            "marker": {
             "colorbar": {
              "outlinewidth": 0,
              "ticks": ""
             }
            },
            "type": "scattercarpet"
           }
          ],
          "scattergeo": [
           {
            "marker": {
             "colorbar": {
              "outlinewidth": 0,
              "ticks": ""
             }
            },
            "type": "scattergeo"
           }
          ],
          "scattergl": [
           {
            "marker": {
             "colorbar": {
              "outlinewidth": 0,
              "ticks": ""
             }
            },
            "type": "scattergl"
           }
          ],
          "scattermapbox": [
           {
            "marker": {
             "colorbar": {
              "outlinewidth": 0,
              "ticks": ""
             }
            },
            "type": "scattermapbox"
           }
          ],
          "scatterpolar": [
           {
            "marker": {
             "colorbar": {
              "outlinewidth": 0,
              "ticks": ""
             }
            },
            "type": "scatterpolar"
           }
          ],
          "scatterpolargl": [
           {
            "marker": {
             "colorbar": {
              "outlinewidth": 0,
              "ticks": ""
             }
            },
            "type": "scatterpolargl"
           }
          ],
          "scatterternary": [
           {
            "marker": {
             "colorbar": {
              "outlinewidth": 0,
              "ticks": ""
             }
            },
            "type": "scatterternary"
           }
          ],
          "surface": [
           {
            "colorbar": {
             "outlinewidth": 0,
             "ticks": ""
            },
            "colorscale": [
             [
              0,
              "#0d0887"
             ],
             [
              0.1111111111111111,
              "#46039f"
             ],
             [
              0.2222222222222222,
              "#7201a8"
             ],
             [
              0.3333333333333333,
              "#9c179e"
             ],
             [
              0.4444444444444444,
              "#bd3786"
             ],
             [
              0.5555555555555556,
              "#d8576b"
             ],
             [
              0.6666666666666666,
              "#ed7953"
             ],
             [
              0.7777777777777778,
              "#fb9f3a"
             ],
             [
              0.8888888888888888,
              "#fdca26"
             ],
             [
              1,
              "#f0f921"
             ]
            ],
            "type": "surface"
           }
          ],
          "table": [
           {
            "cells": {
             "fill": {
              "color": "#EBF0F8"
             },
             "line": {
              "color": "white"
             }
            },
            "header": {
             "fill": {
              "color": "#C8D4E3"
             },
             "line": {
              "color": "white"
             }
            },
            "type": "table"
           }
          ]
         },
         "layout": {
          "annotationdefaults": {
           "arrowcolor": "#2a3f5f",
           "arrowhead": 0,
           "arrowwidth": 1
          },
          "autotypenumbers": "strict",
          "coloraxis": {
           "colorbar": {
            "outlinewidth": 0,
            "ticks": ""
           }
          },
          "colorscale": {
           "diverging": [
            [
             0,
             "#8e0152"
            ],
            [
             0.1,
             "#c51b7d"
            ],
            [
             0.2,
             "#de77ae"
            ],
            [
             0.3,
             "#f1b6da"
            ],
            [
             0.4,
             "#fde0ef"
            ],
            [
             0.5,
             "#f7f7f7"
            ],
            [
             0.6,
             "#e6f5d0"
            ],
            [
             0.7,
             "#b8e186"
            ],
            [
             0.8,
             "#7fbc41"
            ],
            [
             0.9,
             "#4d9221"
            ],
            [
             1,
             "#276419"
            ]
           ],
           "sequential": [
            [
             0,
             "#0d0887"
            ],
            [
             0.1111111111111111,
             "#46039f"
            ],
            [
             0.2222222222222222,
             "#7201a8"
            ],
            [
             0.3333333333333333,
             "#9c179e"
            ],
            [
             0.4444444444444444,
             "#bd3786"
            ],
            [
             0.5555555555555556,
             "#d8576b"
            ],
            [
             0.6666666666666666,
             "#ed7953"
            ],
            [
             0.7777777777777778,
             "#fb9f3a"
            ],
            [
             0.8888888888888888,
             "#fdca26"
            ],
            [
             1,
             "#f0f921"
            ]
           ],
           "sequentialminus": [
            [
             0,
             "#0d0887"
            ],
            [
             0.1111111111111111,
             "#46039f"
            ],
            [
             0.2222222222222222,
             "#7201a8"
            ],
            [
             0.3333333333333333,
             "#9c179e"
            ],
            [
             0.4444444444444444,
             "#bd3786"
            ],
            [
             0.5555555555555556,
             "#d8576b"
            ],
            [
             0.6666666666666666,
             "#ed7953"
            ],
            [
             0.7777777777777778,
             "#fb9f3a"
            ],
            [
             0.8888888888888888,
             "#fdca26"
            ],
            [
             1,
             "#f0f921"
            ]
           ]
          },
          "colorway": [
           "#636efa",
           "#EF553B",
           "#00cc96",
           "#ab63fa",
           "#FFA15A",
           "#19d3f3",
           "#FF6692",
           "#B6E880",
           "#FF97FF",
           "#FECB52"
          ],
          "font": {
           "color": "#2a3f5f"
          },
          "geo": {
           "bgcolor": "white",
           "lakecolor": "white",
           "landcolor": "#E5ECF6",
           "showlakes": true,
           "showland": true,
           "subunitcolor": "white"
          },
          "hoverlabel": {
           "align": "left"
          },
          "hovermode": "closest",
          "mapbox": {
           "style": "light"
          },
          "paper_bgcolor": "white",
          "plot_bgcolor": "#E5ECF6",
          "polar": {
           "angularaxis": {
            "gridcolor": "white",
            "linecolor": "white",
            "ticks": ""
           },
           "bgcolor": "#E5ECF6",
           "radialaxis": {
            "gridcolor": "white",
            "linecolor": "white",
            "ticks": ""
           }
          },
          "scene": {
           "xaxis": {
            "backgroundcolor": "#E5ECF6",
            "gridcolor": "white",
            "gridwidth": 2,
            "linecolor": "white",
            "showbackground": true,
            "ticks": "",
            "zerolinecolor": "white"
           },
           "yaxis": {
            "backgroundcolor": "#E5ECF6",
            "gridcolor": "white",
            "gridwidth": 2,
            "linecolor": "white",
            "showbackground": true,
            "ticks": "",
            "zerolinecolor": "white"
           },
           "zaxis": {
            "backgroundcolor": "#E5ECF6",
            "gridcolor": "white",
            "gridwidth": 2,
            "linecolor": "white",
            "showbackground": true,
            "ticks": "",
            "zerolinecolor": "white"
           }
          },
          "shapedefaults": {
           "line": {
            "color": "#2a3f5f"
           }
          },
          "ternary": {
           "aaxis": {
            "gridcolor": "white",
            "linecolor": "white",
            "ticks": ""
           },
           "baxis": {
            "gridcolor": "white",
            "linecolor": "white",
            "ticks": ""
           },
           "bgcolor": "#E5ECF6",
           "caxis": {
            "gridcolor": "white",
            "linecolor": "white",
            "ticks": ""
           }
          },
          "title": {
           "x": 0.05
          },
          "xaxis": {
           "automargin": true,
           "gridcolor": "white",
           "linecolor": "white",
           "ticks": "",
           "title": {
            "standoff": 15
           },
           "zerolinecolor": "white",
           "zerolinewidth": 2
          },
          "yaxis": {
           "automargin": true,
           "gridcolor": "white",
           "linecolor": "white",
           "ticks": "",
           "title": {
            "standoff": 15
           },
           "zerolinecolor": "white",
           "zerolinewidth": 2
          }
         }
        },
        "xaxis": {
         "anchor": "y",
         "domain": [
          0,
          1
         ],
         "title": {
          "text": "price"
         }
        },
        "yaxis": {
         "anchor": "x",
         "domain": [
          0,
          1
         ],
         "title": {
          "text": "count"
         }
        }
       }
      }
     },
     "metadata": {},
     "output_type": "display_data"
    }
   ],
   "source": [
    "px.histogram(hist_prices, x=\"price\")"
   ]
  },
  {
   "cell_type": "markdown",
   "metadata": {},
   "source": [
    "We see that during one month, the difference of the stock price to the price at the beginning of the month is usually between -30 and +30 (with some outliers). We do a grid search on a 16x16 grid to find the best combination of `theta_low` and `theta_high`."
   ]
  },
  {
   "cell_type": "code",
   "execution_count": 17,
   "metadata": {},
   "outputs": [
    {
     "ename": "AttributeError",
     "evalue": "module 'plotly.express' has no attribute 'clf'",
     "output_type": "error",
     "traceback": [
      "\u001b[1;31m---------------------------------------------------------------------------\u001b[0m",
      "\u001b[1;31mAttributeError\u001b[0m                            Traceback (most recent call last)",
      "Cell \u001b[1;32mIn[17], line 4\u001b[0m\n\u001b[0;32m      2\u001b[0m result \u001b[38;5;241m=\u001b[39m util\u001b[38;5;241m.\u001b[39mgrid_search(grid, policy_hist, n_iterations\u001b[38;5;241m=\u001b[39m\u001b[38;5;241m120\u001b[39m, ordered\u001b[38;5;241m=\u001b[39m\u001b[38;5;28;01mTrue\u001b[39;00m)\n\u001b[0;32m      3\u001b[0m res_grid \u001b[38;5;241m=\u001b[39m result[\u001b[38;5;124m\"\u001b[39m\u001b[38;5;124mall_runs\u001b[39m\u001b[38;5;124m\"\u001b[39m]\u001b[38;5;241m.\u001b[39mpivot(index\u001b[38;5;241m=\u001b[39m\u001b[38;5;124m\"\u001b[39m\u001b[38;5;124mtheta_low\u001b[39m\u001b[38;5;124m\"\u001b[39m, columns\u001b[38;5;241m=\u001b[39m\u001b[38;5;124m\"\u001b[39m\u001b[38;5;124mtheta_high\u001b[39m\u001b[38;5;124m\"\u001b[39m, values \u001b[38;5;241m=\u001b[39m \u001b[38;5;124m\"\u001b[39m\u001b[38;5;124mperformance\u001b[39m\u001b[38;5;124m\"\u001b[39m)\n\u001b[1;32m----> 4\u001b[0m \u001b[43mpx\u001b[49m\u001b[38;5;241;43m.\u001b[39;49m\u001b[43mclf\u001b[49m()\n\u001b[0;32m      5\u001b[0m px\u001b[38;5;241m.\u001b[39mimshow(res_grid)\n\u001b[0;32m      6\u001b[0m \u001b[38;5;28mprint\u001b[39m(\u001b[38;5;124mf\u001b[39m\u001b[38;5;124m\"\u001b[39m\u001b[38;5;124mBest parameters: \u001b[39m\u001b[38;5;132;01m{\u001b[39;00mresult[\u001b[38;5;124m'\u001b[39m\u001b[38;5;124mbest_parameters\u001b[39m\u001b[38;5;124m'\u001b[39m]\u001b[38;5;132;01m}\u001b[39;00m\u001b[38;5;124m with an objective of \u001b[39m\u001b[38;5;132;01m{\u001b[39;00mresult[\u001b[38;5;124m'\u001b[39m\u001b[38;5;124mbest_performance\u001b[39m\u001b[38;5;124m'\u001b[39m]\u001b[38;5;132;01m}\u001b[39;00m\u001b[38;5;124m.\u001b[39m\u001b[38;5;124m\"\u001b[39m)\n",
      "\u001b[1;31mAttributeError\u001b[0m: module 'plotly.express' has no attribute 'clf'"
     ]
    }
   ],
   "source": [
    "grid = {\"theta_low\": np.linspace(-30, 0, 16), \"theta_high\": np.linspace(0, 30, 16)}\n",
    "result = util.grid_search(grid, policy_hist, n_iterations=120, ordered=True)\n",
    "res_grid = result[\"all_runs\"].pivot(index=\"theta_low\", columns=\"theta_high\", values = \"performance\")\n",
    "px.imshow(res_grid)\n",
    "print(f\"Best parameters: {result['best_parameters']} with an objective of {result['best_performance']}.\")"
   ]
  },
  {
   "cell_type": "markdown",
   "metadata": {},
   "source": [
    "## Exercise 3\n",
    "Go to https://finance.yahoo.com/ to look up names and historical charts of stocks. Repeat the steps above with a stock of your choice (Tesla? Wirecard? ...?). You should be able to use the function `get_historical_monthly_paths` from above to get the data in the appropriate format.Try to find a policy, i.e. \"sell-low\", \"high-low\", or \"track\", with corresponding parameters that maximizes the expected profit.\n",
    "\n",
    "---"
   ]
  }
 ],
 "metadata": {
  "kernelspec": {
   "display_name": "Python 3",
   "language": "python",
   "name": "python3"
  },
  "language_info": {
   "codemirror_mode": {
    "name": "ipython",
    "version": 3
   },
   "file_extension": ".py",
   "mimetype": "text/x-python",
   "name": "python",
   "nbconvert_exporter": "python",
   "pygments_lexer": "ipython3",
   "version": "3.10.11"
  }
 },
 "nbformat": 4,
 "nbformat_minor": 2
}
