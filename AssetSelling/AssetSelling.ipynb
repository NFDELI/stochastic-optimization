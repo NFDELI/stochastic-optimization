{
 "cells": [
  {
   "cell_type": "markdown",
   "metadata": {},
   "source": [
    "# An Asset Selling Model\n",
    "In this notebook you will optimize some simple parametric policies for the asset selling problem.\n",
    "\n",
    "We start by creating an instance of the model and an instance of a policy. Let's start with the Sell-Low-policy. First, we instantiatie a model and specify the initial value for the state (price) and the length of the time horizon T in the constructor. It would also be possible to exert more control on the exogenous information process by specifying parameters for it, that are used inside the process."
   ]
  },
  {
   "cell_type": "code",
   "execution_count": 1,
   "metadata": {},
   "outputs": [
    {
     "name": "stdout",
     "output_type": "stream",
     "text": [
      "hello\n"
     ]
    }
   ],
   "source": [
    "import sys\n",
    "sys.path.append(\"../\")\n",
    "import numpy as np\n",
    "import pandas as pd\n",
    "import plotly.express as px\n",
    "import AssetSellingModel as asm\n",
    "import AssetSellingPolicies as asp\n",
    "from BaseClasses import Util as util\n",
    "\n",
    "model = asm.AssetSellingModel(S0={\"price\": 20}, T=30)"
   ]
  },
  {
   "cell_type": "markdown",
   "metadata": {},
   "source": [
    "Next, we create a policy for this model. The high-low-policy has two tunable parameters, namely `theta_low` and `theta_high`.\n",
    "Then, we run the policy for 100 iterations/episodes. The `run_policy` method returns the average objective function value over all episodes."
   ]
  },
  {
   "cell_type": "code",
   "execution_count": 7,
   "metadata": {},
   "outputs": [
    {
     "data": {
      "text/plain": [
       "19.795980386135394"
      ]
     },
     "execution_count": 7,
     "metadata": {},
     "output_type": "execute_result"
    }
   ],
   "source": [
    "high_low_policy = asp.HighLowPolicy(model=model, theta_low=10, theta_high=30)\n",
    "high_low_policy.run_policy(n_iterations=100)"
   ]
  },
  {
   "cell_type": "markdown",
   "metadata": {},
   "source": [
    "## Exercise 1\n",
    "Execute the cell several times. How do you explain that the result is different every time? Do you notice any difference in this behavior if you change the number of iteration to 10, 1000, 10000?\n",
    "\n",
    "---"
   ]
  },
  {
   "cell_type": "markdown",
   "metadata": {},
   "source": [
    "We investigate the results in more detail. The results of a policy run are stored in an in a DataFrame called results. Every row corresponds to one timestep of one iteration/episode."
   ]
  },
  {
   "cell_type": "code",
   "execution_count": 5,
   "metadata": {},
   "outputs": [
    {
     "data": {
      "text/html": [
       "<div>\n",
       "<style scoped>\n",
       "    .dataframe tbody tr th:only-of-type {\n",
       "        vertical-align: middle;\n",
       "    }\n",
       "\n",
       "    .dataframe tbody tr th {\n",
       "        vertical-align: top;\n",
       "    }\n",
       "\n",
       "    .dataframe thead th {\n",
       "        text-align: right;\n",
       "    }\n",
       "</style>\n",
       "<table border=\"1\" class=\"dataframe\">\n",
       "  <thead>\n",
       "    <tr style=\"text-align: right;\">\n",
       "      <th></th>\n",
       "      <th>N</th>\n",
       "      <th>t</th>\n",
       "      <th>C_t sum</th>\n",
       "      <th>price</th>\n",
       "      <th>bias</th>\n",
       "      <th>price_smoothed</th>\n",
       "      <th>resource</th>\n",
       "      <th>sell</th>\n",
       "      <th>t_end</th>\n",
       "      <th>C_t</th>\n",
       "    </tr>\n",
       "  </thead>\n",
       "  <tbody>\n",
       "    <tr>\n",
       "      <th>0</th>\n",
       "      <td>0</td>\n",
       "      <td>0</td>\n",
       "      <td>0.000000</td>\n",
       "      <td>20.000000</td>\n",
       "      <td>Neutral</td>\n",
       "      <td>20.000000</td>\n",
       "      <td>1</td>\n",
       "      <td>0.0</td>\n",
       "      <td>22</td>\n",
       "      <td>0.000000</td>\n",
       "    </tr>\n",
       "    <tr>\n",
       "      <th>1</th>\n",
       "      <td>0</td>\n",
       "      <td>1</td>\n",
       "      <td>0.000000</td>\n",
       "      <td>17.776240</td>\n",
       "      <td>Neutral</td>\n",
       "      <td>18.443368</td>\n",
       "      <td>1</td>\n",
       "      <td>0.0</td>\n",
       "      <td>22</td>\n",
       "      <td>0.000000</td>\n",
       "    </tr>\n",
       "    <tr>\n",
       "      <th>2</th>\n",
       "      <td>0</td>\n",
       "      <td>2</td>\n",
       "      <td>0.000000</td>\n",
       "      <td>19.414044</td>\n",
       "      <td>Up</td>\n",
       "      <td>19.122841</td>\n",
       "      <td>1</td>\n",
       "      <td>0.0</td>\n",
       "      <td>22</td>\n",
       "      <td>0.000000</td>\n",
       "    </tr>\n",
       "    <tr>\n",
       "      <th>3</th>\n",
       "      <td>0</td>\n",
       "      <td>3</td>\n",
       "      <td>0.000000</td>\n",
       "      <td>20.972127</td>\n",
       "      <td>Up</td>\n",
       "      <td>20.417341</td>\n",
       "      <td>1</td>\n",
       "      <td>0.0</td>\n",
       "      <td>22</td>\n",
       "      <td>0.000000</td>\n",
       "    </tr>\n",
       "    <tr>\n",
       "      <th>4</th>\n",
       "      <td>0</td>\n",
       "      <td>4</td>\n",
       "      <td>0.000000</td>\n",
       "      <td>23.993157</td>\n",
       "      <td>Up</td>\n",
       "      <td>22.920412</td>\n",
       "      <td>1</td>\n",
       "      <td>0.0</td>\n",
       "      <td>22</td>\n",
       "      <td>0.000000</td>\n",
       "    </tr>\n",
       "    <tr>\n",
       "      <th>...</th>\n",
       "      <td>...</td>\n",
       "      <td>...</td>\n",
       "      <td>...</td>\n",
       "      <td>...</td>\n",
       "      <td>...</td>\n",
       "      <td>...</td>\n",
       "      <td>...</td>\n",
       "      <td>...</td>\n",
       "      <td>...</td>\n",
       "      <td>...</td>\n",
       "    </tr>\n",
       "    <tr>\n",
       "      <th>1732</th>\n",
       "      <td>99</td>\n",
       "      <td>8</td>\n",
       "      <td>0.000000</td>\n",
       "      <td>15.706782</td>\n",
       "      <td>Neutral</td>\n",
       "      <td>16.503775</td>\n",
       "      <td>1</td>\n",
       "      <td>0.0</td>\n",
       "      <td>12</td>\n",
       "      <td>0.000000</td>\n",
       "    </tr>\n",
       "    <tr>\n",
       "      <th>1733</th>\n",
       "      <td>99</td>\n",
       "      <td>9</td>\n",
       "      <td>0.000000</td>\n",
       "      <td>12.204026</td>\n",
       "      <td>Down</td>\n",
       "      <td>13.493951</td>\n",
       "      <td>1</td>\n",
       "      <td>0.0</td>\n",
       "      <td>12</td>\n",
       "      <td>0.000000</td>\n",
       "    </tr>\n",
       "    <tr>\n",
       "      <th>1734</th>\n",
       "      <td>99</td>\n",
       "      <td>10</td>\n",
       "      <td>0.000000</td>\n",
       "      <td>10.267158</td>\n",
       "      <td>Down</td>\n",
       "      <td>11.235196</td>\n",
       "      <td>1</td>\n",
       "      <td>0.0</td>\n",
       "      <td>12</td>\n",
       "      <td>0.000000</td>\n",
       "    </tr>\n",
       "    <tr>\n",
       "      <th>1735</th>\n",
       "      <td>99</td>\n",
       "      <td>11</td>\n",
       "      <td>0.000000</td>\n",
       "      <td>6.957769</td>\n",
       "      <td>Down</td>\n",
       "      <td>8.240997</td>\n",
       "      <td>1</td>\n",
       "      <td>1.0</td>\n",
       "      <td>12</td>\n",
       "      <td>6.957769</td>\n",
       "    </tr>\n",
       "    <tr>\n",
       "      <th>1736</th>\n",
       "      <td>99</td>\n",
       "      <td>12</td>\n",
       "      <td>6.957769</td>\n",
       "      <td>4.766967</td>\n",
       "      <td>Neutral</td>\n",
       "      <td>5.809176</td>\n",
       "      <td>0</td>\n",
       "      <td>NaN</td>\n",
       "      <td>12</td>\n",
       "      <td>NaN</td>\n",
       "    </tr>\n",
       "  </tbody>\n",
       "</table>\n",
       "<p>1737 rows × 10 columns</p>\n",
       "</div>"
      ],
      "text/plain": [
       "       N   t   C_t sum      price     bias  price_smoothed  resource  sell  \\\n",
       "0      0   0  0.000000  20.000000  Neutral       20.000000         1   0.0   \n",
       "1      0   1  0.000000  17.776240  Neutral       18.443368         1   0.0   \n",
       "2      0   2  0.000000  19.414044       Up       19.122841         1   0.0   \n",
       "3      0   3  0.000000  20.972127       Up       20.417341         1   0.0   \n",
       "4      0   4  0.000000  23.993157       Up       22.920412         1   0.0   \n",
       "...   ..  ..       ...        ...      ...             ...       ...   ...   \n",
       "1732  99   8  0.000000  15.706782  Neutral       16.503775         1   0.0   \n",
       "1733  99   9  0.000000  12.204026     Down       13.493951         1   0.0   \n",
       "1734  99  10  0.000000  10.267158     Down       11.235196         1   0.0   \n",
       "1735  99  11  0.000000   6.957769     Down        8.240997         1   1.0   \n",
       "1736  99  12  6.957769   4.766967  Neutral        5.809176         0   NaN   \n",
       "\n",
       "      t_end       C_t  \n",
       "0        22  0.000000  \n",
       "1        22  0.000000  \n",
       "2        22  0.000000  \n",
       "3        22  0.000000  \n",
       "4        22  0.000000  \n",
       "...     ...       ...  \n",
       "1732     12  0.000000  \n",
       "1733     12  0.000000  \n",
       "1734     12  0.000000  \n",
       "1735     12  6.957769  \n",
       "1736     12       NaN  \n",
       "\n",
       "[1737 rows x 10 columns]"
      ]
     },
     "execution_count": 5,
     "metadata": {},
     "output_type": "execute_result"
    }
   ],
   "source": [
    "high_low_policy.results"
   ]
  },
  {
   "cell_type": "markdown",
   "metadata": {},
   "source": [
    "Next we plot a few of the 100 paths using plotly. We notice that if the price never drops below `theta_low` the asset is sold at the end of the time horizon."
   ]
  },
  {
   "cell_type": "code",
   "execution_count": 6,
   "metadata": {},
   "outputs": [
    {
     "data": {
      "application/vnd.plotly.v1+json": {
       "config": {
        "plotlyServerURL": "https://plot.ly"
       },
       "data": [
        {
         "hovertemplate": "N=27<br>t=%{x}<br>price=%{y}<extra></extra>",
         "legendgroup": "",
         "line": {
          "color": "#636efa",
          "dash": "solid"
         },
         "marker": {
          "symbol": "circle"
         },
         "mode": "lines",
         "name": "",
         "orientation": "v",
         "showlegend": false,
         "type": "scatter",
         "x": [
          0,
          1,
          2,
          3,
          4,
          5,
          6,
          7
         ],
         "xaxis": "x5",
         "y": [
          20,
          21.83965502029533,
          21.4673789472356,
          17.10373829696914,
          12.586540296980846,
          10.98581932080359,
          8.37624548748294,
          3.5088888852678197
         ],
         "yaxis": "y5"
        },
        {
         "hovertemplate": "N=30<br>t=%{x}<br>price=%{y}<extra></extra>",
         "legendgroup": "",
         "line": {
          "color": "#636efa",
          "dash": "solid"
         },
         "marker": {
          "symbol": "circle"
         },
         "mode": "lines",
         "name": "",
         "orientation": "v",
         "showlegend": false,
         "type": "scatter",
         "x": [
          0,
          1,
          2,
          3,
          4,
          5,
          6,
          7
         ],
         "xaxis": "x4",
         "y": [
          20,
          17.502906030084947,
          15.988225429227258,
          15.306407833131548,
          16.28985168403145,
          10.328234026511282,
          9.587787542224259,
          13.235537149798684
         ],
         "yaxis": "y4"
        },
        {
         "hovertemplate": "N=38<br>t=%{x}<br>price=%{y}<extra></extra>",
         "legendgroup": "",
         "line": {
          "color": "#636efa",
          "dash": "solid"
         },
         "marker": {
          "symbol": "circle"
         },
         "mode": "lines",
         "name": "",
         "orientation": "v",
         "showlegend": false,
         "type": "scatter",
         "x": [
          0,
          1,
          2,
          3,
          4,
          5,
          6,
          7,
          8
         ],
         "xaxis": "x3",
         "y": [
          20,
          21.297848421013992,
          18.513855746637972,
          21.20801376660804,
          24.653015596381803,
          26.378326840884142,
          29.975803848771736,
          30.322042289412433,
          30.22014606048158
         ],
         "yaxis": "y3"
        },
        {
         "hovertemplate": "N=70<br>t=%{x}<br>price=%{y}<extra></extra>",
         "legendgroup": "",
         "line": {
          "color": "#636efa",
          "dash": "solid"
         },
         "marker": {
          "symbol": "circle"
         },
         "mode": "lines",
         "name": "",
         "orientation": "v",
         "showlegend": false,
         "type": "scatter",
         "x": [
          0,
          1,
          2,
          3,
          4,
          5,
          6
         ],
         "xaxis": "x2",
         "y": [
          20,
          16.889225965815026,
          18.006195052875675,
          16.129975404388485,
          15.409529343920957,
          8.744490202368539,
          7.778271634853506
         ],
         "yaxis": "y2"
        },
        {
         "hovertemplate": "N=78<br>t=%{x}<br>price=%{y}<extra></extra>",
         "legendgroup": "",
         "line": {
          "color": "#636efa",
          "dash": "solid"
         },
         "marker": {
          "symbol": "circle"
         },
         "mode": "lines",
         "name": "",
         "orientation": "v",
         "showlegend": false,
         "type": "scatter",
         "x": [
          0,
          1,
          2,
          3,
          4,
          5,
          6,
          7,
          8,
          9,
          10,
          11,
          12,
          13,
          14,
          15,
          16,
          17,
          18,
          19,
          20,
          21
         ],
         "xaxis": "x",
         "y": [
          20,
          20.848323647711805,
          18.77640535689322,
          18.856453820127065,
          19.97286791401488,
          20.84798815842441,
          15.065439296376113,
          13.915687419963133,
          11.490699034346658,
          14.379539810654041,
          13.258961827870817,
          13.168552167155578,
          12.554967012583965,
          14.194256001538564,
          17.83270236813801,
          16.91257516256739,
          16.39984925662243,
          18.17336538888474,
          14.93908273513172,
          11.914892963536566,
          9.616109576049077,
          10.160299153999656
         ],
         "yaxis": "y"
        }
       ],
       "layout": {
        "annotations": [
         {
          "font": {},
          "showarrow": false,
          "text": "N=78",
          "textangle": 90,
          "x": 0.98,
          "xanchor": "left",
          "xref": "paper",
          "y": 0.08800000000000001,
          "yanchor": "middle",
          "yref": "paper"
         },
         {
          "font": {},
          "showarrow": false,
          "text": "N=70",
          "textangle": 90,
          "x": 0.98,
          "xanchor": "left",
          "xref": "paper",
          "y": 0.29400000000000004,
          "yanchor": "middle",
          "yref": "paper"
         },
         {
          "font": {},
          "showarrow": false,
          "text": "N=38",
          "textangle": 90,
          "x": 0.98,
          "xanchor": "left",
          "xref": "paper",
          "y": 0.5,
          "yanchor": "middle",
          "yref": "paper"
         },
         {
          "font": {},
          "showarrow": false,
          "text": "N=30",
          "textangle": 90,
          "x": 0.98,
          "xanchor": "left",
          "xref": "paper",
          "y": 0.706,
          "yanchor": "middle",
          "yref": "paper"
         },
         {
          "font": {},
          "showarrow": false,
          "text": "N=27",
          "textangle": 90,
          "x": 0.98,
          "xanchor": "left",
          "xref": "paper",
          "y": 0.912,
          "yanchor": "middle",
          "yref": "paper"
         }
        ],
        "height": 800,
        "legend": {
         "tracegroupgap": 0
        },
        "margin": {
         "t": 60
        },
        "template": {
         "data": {
          "bar": [
           {
            "error_x": {
             "color": "#2a3f5f"
            },
            "error_y": {
             "color": "#2a3f5f"
            },
            "marker": {
             "line": {
              "color": "#E5ECF6",
              "width": 0.5
             },
             "pattern": {
              "fillmode": "overlay",
              "size": 10,
              "solidity": 0.2
             }
            },
            "type": "bar"
           }
          ],
          "barpolar": [
           {
            "marker": {
             "line": {
              "color": "#E5ECF6",
              "width": 0.5
             },
             "pattern": {
              "fillmode": "overlay",
              "size": 10,
              "solidity": 0.2
             }
            },
            "type": "barpolar"
           }
          ],
          "carpet": [
           {
            "aaxis": {
             "endlinecolor": "#2a3f5f",
             "gridcolor": "white",
             "linecolor": "white",
             "minorgridcolor": "white",
             "startlinecolor": "#2a3f5f"
            },
            "baxis": {
             "endlinecolor": "#2a3f5f",
             "gridcolor": "white",
             "linecolor": "white",
             "minorgridcolor": "white",
             "startlinecolor": "#2a3f5f"
            },
            "type": "carpet"
           }
          ],
          "choropleth": [
           {
            "colorbar": {
             "outlinewidth": 0,
             "ticks": ""
            },
            "type": "choropleth"
           }
          ],
          "contour": [
           {
            "colorbar": {
             "outlinewidth": 0,
             "ticks": ""
            },
            "colorscale": [
             [
              0,
              "#0d0887"
             ],
             [
              0.1111111111111111,
              "#46039f"
             ],
             [
              0.2222222222222222,
              "#7201a8"
             ],
             [
              0.3333333333333333,
              "#9c179e"
             ],
             [
              0.4444444444444444,
              "#bd3786"
             ],
             [
              0.5555555555555556,
              "#d8576b"
             ],
             [
              0.6666666666666666,
              "#ed7953"
             ],
             [
              0.7777777777777778,
              "#fb9f3a"
             ],
             [
              0.8888888888888888,
              "#fdca26"
             ],
             [
              1,
              "#f0f921"
             ]
            ],
            "type": "contour"
           }
          ],
          "contourcarpet": [
           {
            "colorbar": {
             "outlinewidth": 0,
             "ticks": ""
            },
            "type": "contourcarpet"
           }
          ],
          "heatmap": [
           {
            "colorbar": {
             "outlinewidth": 0,
             "ticks": ""
            },
            "colorscale": [
             [
              0,
              "#0d0887"
             ],
             [
              0.1111111111111111,
              "#46039f"
             ],
             [
              0.2222222222222222,
              "#7201a8"
             ],
             [
              0.3333333333333333,
              "#9c179e"
             ],
             [
              0.4444444444444444,
              "#bd3786"
             ],
             [
              0.5555555555555556,
              "#d8576b"
             ],
             [
              0.6666666666666666,
              "#ed7953"
             ],
             [
              0.7777777777777778,
              "#fb9f3a"
             ],
             [
              0.8888888888888888,
              "#fdca26"
             ],
             [
              1,
              "#f0f921"
             ]
            ],
            "type": "heatmap"
           }
          ],
          "heatmapgl": [
           {
            "colorbar": {
             "outlinewidth": 0,
             "ticks": ""
            },
            "colorscale": [
             [
              0,
              "#0d0887"
             ],
             [
              0.1111111111111111,
              "#46039f"
             ],
             [
              0.2222222222222222,
              "#7201a8"
             ],
             [
              0.3333333333333333,
              "#9c179e"
             ],
             [
              0.4444444444444444,
              "#bd3786"
             ],
             [
              0.5555555555555556,
              "#d8576b"
             ],
             [
              0.6666666666666666,
              "#ed7953"
             ],
             [
              0.7777777777777778,
              "#fb9f3a"
             ],
             [
              0.8888888888888888,
              "#fdca26"
             ],
             [
              1,
              "#f0f921"
             ]
            ],
            "type": "heatmapgl"
           }
          ],
          "histogram": [
           {
            "marker": {
             "pattern": {
              "fillmode": "overlay",
              "size": 10,
              "solidity": 0.2
             }
            },
            "type": "histogram"
           }
          ],
          "histogram2d": [
           {
            "colorbar": {
             "outlinewidth": 0,
             "ticks": ""
            },
            "colorscale": [
             [
              0,
              "#0d0887"
             ],
             [
              0.1111111111111111,
              "#46039f"
             ],
             [
              0.2222222222222222,
              "#7201a8"
             ],
             [
              0.3333333333333333,
              "#9c179e"
             ],
             [
              0.4444444444444444,
              "#bd3786"
             ],
             [
              0.5555555555555556,
              "#d8576b"
             ],
             [
              0.6666666666666666,
              "#ed7953"
             ],
             [
              0.7777777777777778,
              "#fb9f3a"
             ],
             [
              0.8888888888888888,
              "#fdca26"
             ],
             [
              1,
              "#f0f921"
             ]
            ],
            "type": "histogram2d"
           }
          ],
          "histogram2dcontour": [
           {
            "colorbar": {
             "outlinewidth": 0,
             "ticks": ""
            },
            "colorscale": [
             [
              0,
              "#0d0887"
             ],
             [
              0.1111111111111111,
              "#46039f"
             ],
             [
              0.2222222222222222,
              "#7201a8"
             ],
             [
              0.3333333333333333,
              "#9c179e"
             ],
             [
              0.4444444444444444,
              "#bd3786"
             ],
             [
              0.5555555555555556,
              "#d8576b"
             ],
             [
              0.6666666666666666,
              "#ed7953"
             ],
             [
              0.7777777777777778,
              "#fb9f3a"
             ],
             [
              0.8888888888888888,
              "#fdca26"
             ],
             [
              1,
              "#f0f921"
             ]
            ],
            "type": "histogram2dcontour"
           }
          ],
          "mesh3d": [
           {
            "colorbar": {
             "outlinewidth": 0,
             "ticks": ""
            },
            "type": "mesh3d"
           }
          ],
          "parcoords": [
           {
            "line": {
             "colorbar": {
              "outlinewidth": 0,
              "ticks": ""
             }
            },
            "type": "parcoords"
           }
          ],
          "pie": [
           {
            "automargin": true,
            "type": "pie"
           }
          ],
          "scatter": [
           {
            "fillpattern": {
             "fillmode": "overlay",
             "size": 10,
             "solidity": 0.2
            },
            "type": "scatter"
           }
          ],
          "scatter3d": [
           {
            "line": {
             "colorbar": {
              "outlinewidth": 0,
              "ticks": ""
             }
            },
            "marker": {
             "colorbar": {
              "outlinewidth": 0,
              "ticks": ""
             }
            },
            "type": "scatter3d"
           }
          ],
          "scattercarpet": [
           {
            "marker": {
             "colorbar": {
              "outlinewidth": 0,
              "ticks": ""
             }
            },
            "type": "scattercarpet"
           }
          ],
          "scattergeo": [
           {
            "marker": {
             "colorbar": {
              "outlinewidth": 0,
              "ticks": ""
             }
            },
            "type": "scattergeo"
           }
          ],
          "scattergl": [
           {
            "marker": {
             "colorbar": {
              "outlinewidth": 0,
              "ticks": ""
             }
            },
            "type": "scattergl"
           }
          ],
          "scattermapbox": [
           {
            "marker": {
             "colorbar": {
              "outlinewidth": 0,
              "ticks": ""
             }
            },
            "type": "scattermapbox"
           }
          ],
          "scatterpolar": [
           {
            "marker": {
             "colorbar": {
              "outlinewidth": 0,
              "ticks": ""
             }
            },
            "type": "scatterpolar"
           }
          ],
          "scatterpolargl": [
           {
            "marker": {
             "colorbar": {
              "outlinewidth": 0,
              "ticks": ""
             }
            },
            "type": "scatterpolargl"
           }
          ],
          "scatterternary": [
           {
            "marker": {
             "colorbar": {
              "outlinewidth": 0,
              "ticks": ""
             }
            },
            "type": "scatterternary"
           }
          ],
          "surface": [
           {
            "colorbar": {
             "outlinewidth": 0,
             "ticks": ""
            },
            "colorscale": [
             [
              0,
              "#0d0887"
             ],
             [
              0.1111111111111111,
              "#46039f"
             ],
             [
              0.2222222222222222,
              "#7201a8"
             ],
             [
              0.3333333333333333,
              "#9c179e"
             ],
             [
              0.4444444444444444,
              "#bd3786"
             ],
             [
              0.5555555555555556,
              "#d8576b"
             ],
             [
              0.6666666666666666,
              "#ed7953"
             ],
             [
              0.7777777777777778,
              "#fb9f3a"
             ],
             [
              0.8888888888888888,
              "#fdca26"
             ],
             [
              1,
              "#f0f921"
             ]
            ],
            "type": "surface"
           }
          ],
          "table": [
           {
            "cells": {
             "fill": {
              "color": "#EBF0F8"
             },
             "line": {
              "color": "white"
             }
            },
            "header": {
             "fill": {
              "color": "#C8D4E3"
             },
             "line": {
              "color": "white"
             }
            },
            "type": "table"
           }
          ]
         },
         "layout": {
          "annotationdefaults": {
           "arrowcolor": "#2a3f5f",
           "arrowhead": 0,
           "arrowwidth": 1
          },
          "autotypenumbers": "strict",
          "coloraxis": {
           "colorbar": {
            "outlinewidth": 0,
            "ticks": ""
           }
          },
          "colorscale": {
           "diverging": [
            [
             0,
             "#8e0152"
            ],
            [
             0.1,
             "#c51b7d"
            ],
            [
             0.2,
             "#de77ae"
            ],
            [
             0.3,
             "#f1b6da"
            ],
            [
             0.4,
             "#fde0ef"
            ],
            [
             0.5,
             "#f7f7f7"
            ],
            [
             0.6,
             "#e6f5d0"
            ],
            [
             0.7,
             "#b8e186"
            ],
            [
             0.8,
             "#7fbc41"
            ],
            [
             0.9,
             "#4d9221"
            ],
            [
             1,
             "#276419"
            ]
           ],
           "sequential": [
            [
             0,
             "#0d0887"
            ],
            [
             0.1111111111111111,
             "#46039f"
            ],
            [
             0.2222222222222222,
             "#7201a8"
            ],
            [
             0.3333333333333333,
             "#9c179e"
            ],
            [
             0.4444444444444444,
             "#bd3786"
            ],
            [
             0.5555555555555556,
             "#d8576b"
            ],
            [
             0.6666666666666666,
             "#ed7953"
            ],
            [
             0.7777777777777778,
             "#fb9f3a"
            ],
            [
             0.8888888888888888,
             "#fdca26"
            ],
            [
             1,
             "#f0f921"
            ]
           ],
           "sequentialminus": [
            [
             0,
             "#0d0887"
            ],
            [
             0.1111111111111111,
             "#46039f"
            ],
            [
             0.2222222222222222,
             "#7201a8"
            ],
            [
             0.3333333333333333,
             "#9c179e"
            ],
            [
             0.4444444444444444,
             "#bd3786"
            ],
            [
             0.5555555555555556,
             "#d8576b"
            ],
            [
             0.6666666666666666,
             "#ed7953"
            ],
            [
             0.7777777777777778,
             "#fb9f3a"
            ],
            [
             0.8888888888888888,
             "#fdca26"
            ],
            [
             1,
             "#f0f921"
            ]
           ]
          },
          "colorway": [
           "#636efa",
           "#EF553B",
           "#00cc96",
           "#ab63fa",
           "#FFA15A",
           "#19d3f3",
           "#FF6692",
           "#B6E880",
           "#FF97FF",
           "#FECB52"
          ],
          "font": {
           "color": "#2a3f5f"
          },
          "geo": {
           "bgcolor": "white",
           "lakecolor": "white",
           "landcolor": "#E5ECF6",
           "showlakes": true,
           "showland": true,
           "subunitcolor": "white"
          },
          "hoverlabel": {
           "align": "left"
          },
          "hovermode": "closest",
          "mapbox": {
           "style": "light"
          },
          "paper_bgcolor": "white",
          "plot_bgcolor": "#E5ECF6",
          "polar": {
           "angularaxis": {
            "gridcolor": "white",
            "linecolor": "white",
            "ticks": ""
           },
           "bgcolor": "#E5ECF6",
           "radialaxis": {
            "gridcolor": "white",
            "linecolor": "white",
            "ticks": ""
           }
          },
          "scene": {
           "xaxis": {
            "backgroundcolor": "#E5ECF6",
            "gridcolor": "white",
            "gridwidth": 2,
            "linecolor": "white",
            "showbackground": true,
            "ticks": "",
            "zerolinecolor": "white"
           },
           "yaxis": {
            "backgroundcolor": "#E5ECF6",
            "gridcolor": "white",
            "gridwidth": 2,
            "linecolor": "white",
            "showbackground": true,
            "ticks": "",
            "zerolinecolor": "white"
           },
           "zaxis": {
            "backgroundcolor": "#E5ECF6",
            "gridcolor": "white",
            "gridwidth": 2,
            "linecolor": "white",
            "showbackground": true,
            "ticks": "",
            "zerolinecolor": "white"
           }
          },
          "shapedefaults": {
           "line": {
            "color": "#2a3f5f"
           }
          },
          "ternary": {
           "aaxis": {
            "gridcolor": "white",
            "linecolor": "white",
            "ticks": ""
           },
           "baxis": {
            "gridcolor": "white",
            "linecolor": "white",
            "ticks": ""
           },
           "bgcolor": "#E5ECF6",
           "caxis": {
            "gridcolor": "white",
            "linecolor": "white",
            "ticks": ""
           }
          },
          "title": {
           "x": 0.05
          },
          "xaxis": {
           "automargin": true,
           "gridcolor": "white",
           "linecolor": "white",
           "ticks": "",
           "title": {
            "standoff": 15
           },
           "zerolinecolor": "white",
           "zerolinewidth": 2
          },
          "yaxis": {
           "automargin": true,
           "gridcolor": "white",
           "linecolor": "white",
           "ticks": "",
           "title": {
            "standoff": 15
           },
           "zerolinecolor": "white",
           "zerolinewidth": 2
          }
         }
        },
        "xaxis": {
         "anchor": "y",
         "domain": [
          0,
          0.98
         ],
         "title": {
          "text": "t"
         }
        },
        "xaxis2": {
         "anchor": "y2",
         "domain": [
          0,
          0.98
         ],
         "matches": "x",
         "showticklabels": false
        },
        "xaxis3": {
         "anchor": "y3",
         "domain": [
          0,
          0.98
         ],
         "matches": "x",
         "showticklabels": false
        },
        "xaxis4": {
         "anchor": "y4",
         "domain": [
          0,
          0.98
         ],
         "matches": "x",
         "showticklabels": false
        },
        "xaxis5": {
         "anchor": "y5",
         "domain": [
          0,
          0.98
         ],
         "matches": "x",
         "showticklabels": false
        },
        "yaxis": {
         "anchor": "x",
         "domain": [
          0,
          0.17600000000000002
         ],
         "title": {
          "text": "price"
         }
        },
        "yaxis2": {
         "anchor": "x2",
         "domain": [
          0.20600000000000002,
          0.382
         ],
         "matches": "y",
         "title": {
          "text": "price"
         }
        },
        "yaxis3": {
         "anchor": "x3",
         "domain": [
          0.41200000000000003,
          0.5880000000000001
         ],
         "matches": "y",
         "title": {
          "text": "price"
         }
        },
        "yaxis4": {
         "anchor": "x4",
         "domain": [
          0.618,
          0.794
         ],
         "matches": "y",
         "title": {
          "text": "price"
         }
        },
        "yaxis5": {
         "anchor": "x5",
         "domain": [
          0.8240000000000001,
          1
         ],
         "matches": "y",
         "title": {
          "text": "price"
         }
        }
       }
      }
     },
     "metadata": {},
     "output_type": "display_data"
    }
   ],
   "source": [
    "sample_paths = np.random.choice(100, size=5, replace=False)\n",
    "df = high_low_policy.results.loc[high_low_policy.results.N.isin(sample_paths), :]\n",
    "px.line(data_frame=df, x=\"t\", y=\"price\", facet_row=\"N\", height=800)"
   ]
  },
  {
   "cell_type": "markdown",
   "metadata": {},
   "source": [
    "The average amount of money that we make selling the asset depends of course on the values of `theta_low` and `theta_high`. If we for example  set `theta_low` to a higher value, it seems that the average profit is higher (note that it will be slightly different every time we execute the cell)."
   ]
  },
  {
   "cell_type": "code",
   "execution_count": 8,
   "metadata": {},
   "outputs": [
    {
     "data": {
      "text/plain": [
       "20.488117033200805"
      ]
     },
     "execution_count": 8,
     "metadata": {},
     "output_type": "execute_result"
    }
   ],
   "source": [
    "high_low_policy.theta_low = 19\n",
    "high_low_policy.run_policy(n_iterations=100)"
   ]
  },
  {
   "cell_type": "markdown",
   "metadata": {},
   "source": [
    "Next, we will try to find the best value for `theta_low` and `theta_high`. This is called *parameter tuning*. To do this, we just systematically try out different combinations of values for both. This strategy is called a *grid search* and there is a simple convenience method to automate this."
   ]
  },
  {
   "cell_type": "code",
   "execution_count": 9,
   "metadata": {},
   "outputs": [
    {
     "name": "stdout",
     "output_type": "stream",
     "text": [
      "Best parameters: {'theta_low': 12.0, 'theta_high': 26.0} with an objective of 22.92921434571813.\n"
     ]
    }
   ],
   "source": [
    "# Define a grid for combinations of theta_low and theta_high.\n",
    "# theta_low should not be larger than the starting price (20) and theta_high should not be smaller than the starting price.\n",
    "grid = {\"theta_low\": np.linspace(10, 20, 11), \"theta_high\": np.linspace(20, 30, 11)}\n",
    "result = util.grid_search(grid, high_low_policy, n_iterations=10, ordered=True)\n",
    "\n",
    "print(f\"Best parameters: {result['best_parameters']} with an objective of {result['best_performance']}.\")"
   ]
  },
  {
   "cell_type": "markdown",
   "metadata": {},
   "source": [
    "The result object gives us the best parameters and the corresponding performance but it gives also information about all the runs. We transform them into matrix form and visualize them with a heatmap."
   ]
  },
  {
   "cell_type": "code",
   "execution_count": 10,
   "metadata": {},
   "outputs": [
    {
     "data": {
      "application/vnd.plotly.v1+json": {
       "config": {
        "plotlyServerURL": "https://plot.ly"
       },
       "data": [
        {
         "coloraxis": "coloraxis",
         "hovertemplate": "theta_high: %{x}<br>theta_low: %{y}<br>color: %{z}<extra></extra>",
         "name": "0",
         "type": "heatmap",
         "x": [
          20,
          21,
          22,
          23,
          24,
          25,
          26,
          27,
          28,
          29,
          30
         ],
         "xaxis": "x",
         "y": [
          10,
          11,
          12,
          13,
          14,
          15,
          16,
          17,
          18,
          19,
          20
         ],
         "yaxis": "y",
         "z": [
          [
           17.854352896607516,
           17.854352896607516,
           20.148068986333822,
           21.27191282195187,
           21.159697132758303,
           21.65814977515131,
           22.010693205033363,
           22.656777344534856,
           22.108804067215807,
           20.219023539623528,
           17.700020389735677
          ],
          [
           18.167316358664984,
           18.167316358664984,
           20.265427655588624,
           21.27191282195187,
           21.159697132758303,
           22.061218762645897,
           22.367276551762917,
           22.65084937295297,
           22.108804067215807,
           20.716402691958507,
           20.145889681905945
          ],
          [
           19.721819662943574,
           19.424811971206434,
           20.706540590685595,
           22.112642455500545,
           21.294962128649765,
           21.792908317856817,
           22.92921434571813,
           21.58387033380938,
           20.29896583722942,
           20.451261699384283,
           18.331368070984638
          ],
          [
           19.721819662943574,
           19.424811971206434,
           19.813882512644362,
           21.145424628764886,
           19.569263158436282,
           21.129590894646757,
           21.405281609246444,
           22.226508168526934,
           20.270468534028236,
           20.875002336674697,
           17.544427844819403
          ],
          [
           19.721819662943574,
           19.143355747016397,
           19.813882512644362,
           21.145424628764886,
           20.961147302383008,
           21.052895785118988,
           21.693999389999135,
           22.515225949279625,
           21.07927822317692,
           21.278071324169282,
           18.26548734683348
          ],
          [
           18.035183301060222,
           18.901838129892404,
           19.307397615107497,
           20.578128491793425,
           20.534589605933085,
           20.672767136911823,
           22.166418890796447,
           22.517124312105242,
           21.551697723974232,
           22.081289502857647,
           20.521998172379174
          ],
          [
           18.818307325112116,
           19.191919807280794,
           19.00577554155543,
           17.723050478299104,
           19.39078713055424,
           20.006039474357873,
           20.006039474357873,
           20.774888827415364,
           21.044122674931597,
           20.900383401092448,
           21.35651491821281
          ],
          [
           20.650018889317487,
           20.25494532553847,
           20.85969298635269,
           19.08603032560578,
           19.51411952478049,
           18.76073246414398,
           18.76073246414398,
           18.76073246414398,
           18.801217659388872,
           19.01967471968947,
           19.07007356234156
          ],
          [
           20.185568618577335,
           20.33265127070932,
           20.443597686561823,
           19.61281646050006,
           19.802615002012303,
           19.04922794137579,
           19.04922794137579,
           19.04922794137579,
           19.306507668869035,
           19.24285645909837,
           18.23903707444817
          ],
          [
           20.361358019226905,
           20.567750935645154,
           20.623413257079115,
           20.19837485789029,
           20.364807346565478,
           19.61142028592897,
           19.61142028592897,
           19.61142028592897,
           19.662859156002487,
           19.736914859606053,
           17.925070050241175
          ],
          [
           null,
           20.657170049375924,
           19.772082603117052,
           19.772082603117052,
           19.85239827935414,
           19.85239827935414,
           20.58033078455437,
           20.11270259752454,
           21.053028894139846,
           21.167505940601426,
           20.048458849632244
          ]
         ]
        }
       ],
       "layout": {
        "coloraxis": {
         "colorscale": [
          [
           0,
           "#0d0887"
          ],
          [
           0.1111111111111111,
           "#46039f"
          ],
          [
           0.2222222222222222,
           "#7201a8"
          ],
          [
           0.3333333333333333,
           "#9c179e"
          ],
          [
           0.4444444444444444,
           "#bd3786"
          ],
          [
           0.5555555555555556,
           "#d8576b"
          ],
          [
           0.6666666666666666,
           "#ed7953"
          ],
          [
           0.7777777777777778,
           "#fb9f3a"
          ],
          [
           0.8888888888888888,
           "#fdca26"
          ],
          [
           1,
           "#f0f921"
          ]
         ]
        },
        "margin": {
         "t": 60
        },
        "template": {
         "data": {
          "bar": [
           {
            "error_x": {
             "color": "#2a3f5f"
            },
            "error_y": {
             "color": "#2a3f5f"
            },
            "marker": {
             "line": {
              "color": "#E5ECF6",
              "width": 0.5
             },
             "pattern": {
              "fillmode": "overlay",
              "size": 10,
              "solidity": 0.2
             }
            },
            "type": "bar"
           }
          ],
          "barpolar": [
           {
            "marker": {
             "line": {
              "color": "#E5ECF6",
              "width": 0.5
             },
             "pattern": {
              "fillmode": "overlay",
              "size": 10,
              "solidity": 0.2
             }
            },
            "type": "barpolar"
           }
          ],
          "carpet": [
           {
            "aaxis": {
             "endlinecolor": "#2a3f5f",
             "gridcolor": "white",
             "linecolor": "white",
             "minorgridcolor": "white",
             "startlinecolor": "#2a3f5f"
            },
            "baxis": {
             "endlinecolor": "#2a3f5f",
             "gridcolor": "white",
             "linecolor": "white",
             "minorgridcolor": "white",
             "startlinecolor": "#2a3f5f"
            },
            "type": "carpet"
           }
          ],
          "choropleth": [
           {
            "colorbar": {
             "outlinewidth": 0,
             "ticks": ""
            },
            "type": "choropleth"
           }
          ],
          "contour": [
           {
            "colorbar": {
             "outlinewidth": 0,
             "ticks": ""
            },
            "colorscale": [
             [
              0,
              "#0d0887"
             ],
             [
              0.1111111111111111,
              "#46039f"
             ],
             [
              0.2222222222222222,
              "#7201a8"
             ],
             [
              0.3333333333333333,
              "#9c179e"
             ],
             [
              0.4444444444444444,
              "#bd3786"
             ],
             [
              0.5555555555555556,
              "#d8576b"
             ],
             [
              0.6666666666666666,
              "#ed7953"
             ],
             [
              0.7777777777777778,
              "#fb9f3a"
             ],
             [
              0.8888888888888888,
              "#fdca26"
             ],
             [
              1,
              "#f0f921"
             ]
            ],
            "type": "contour"
           }
          ],
          "contourcarpet": [
           {
            "colorbar": {
             "outlinewidth": 0,
             "ticks": ""
            },
            "type": "contourcarpet"
           }
          ],
          "heatmap": [
           {
            "colorbar": {
             "outlinewidth": 0,
             "ticks": ""
            },
            "colorscale": [
             [
              0,
              "#0d0887"
             ],
             [
              0.1111111111111111,
              "#46039f"
             ],
             [
              0.2222222222222222,
              "#7201a8"
             ],
             [
              0.3333333333333333,
              "#9c179e"
             ],
             [
              0.4444444444444444,
              "#bd3786"
             ],
             [
              0.5555555555555556,
              "#d8576b"
             ],
             [
              0.6666666666666666,
              "#ed7953"
             ],
             [
              0.7777777777777778,
              "#fb9f3a"
             ],
             [
              0.8888888888888888,
              "#fdca26"
             ],
             [
              1,
              "#f0f921"
             ]
            ],
            "type": "heatmap"
           }
          ],
          "heatmapgl": [
           {
            "colorbar": {
             "outlinewidth": 0,
             "ticks": ""
            },
            "colorscale": [
             [
              0,
              "#0d0887"
             ],
             [
              0.1111111111111111,
              "#46039f"
             ],
             [
              0.2222222222222222,
              "#7201a8"
             ],
             [
              0.3333333333333333,
              "#9c179e"
             ],
             [
              0.4444444444444444,
              "#bd3786"
             ],
             [
              0.5555555555555556,
              "#d8576b"
             ],
             [
              0.6666666666666666,
              "#ed7953"
             ],
             [
              0.7777777777777778,
              "#fb9f3a"
             ],
             [
              0.8888888888888888,
              "#fdca26"
             ],
             [
              1,
              "#f0f921"
             ]
            ],
            "type": "heatmapgl"
           }
          ],
          "histogram": [
           {
            "marker": {
             "pattern": {
              "fillmode": "overlay",
              "size": 10,
              "solidity": 0.2
             }
            },
            "type": "histogram"
           }
          ],
          "histogram2d": [
           {
            "colorbar": {
             "outlinewidth": 0,
             "ticks": ""
            },
            "colorscale": [
             [
              0,
              "#0d0887"
             ],
             [
              0.1111111111111111,
              "#46039f"
             ],
             [
              0.2222222222222222,
              "#7201a8"
             ],
             [
              0.3333333333333333,
              "#9c179e"
             ],
             [
              0.4444444444444444,
              "#bd3786"
             ],
             [
              0.5555555555555556,
              "#d8576b"
             ],
             [
              0.6666666666666666,
              "#ed7953"
             ],
             [
              0.7777777777777778,
              "#fb9f3a"
             ],
             [
              0.8888888888888888,
              "#fdca26"
             ],
             [
              1,
              "#f0f921"
             ]
            ],
            "type": "histogram2d"
           }
          ],
          "histogram2dcontour": [
           {
            "colorbar": {
             "outlinewidth": 0,
             "ticks": ""
            },
            "colorscale": [
             [
              0,
              "#0d0887"
             ],
             [
              0.1111111111111111,
              "#46039f"
             ],
             [
              0.2222222222222222,
              "#7201a8"
             ],
             [
              0.3333333333333333,
              "#9c179e"
             ],
             [
              0.4444444444444444,
              "#bd3786"
             ],
             [
              0.5555555555555556,
              "#d8576b"
             ],
             [
              0.6666666666666666,
              "#ed7953"
             ],
             [
              0.7777777777777778,
              "#fb9f3a"
             ],
             [
              0.8888888888888888,
              "#fdca26"
             ],
             [
              1,
              "#f0f921"
             ]
            ],
            "type": "histogram2dcontour"
           }
          ],
          "mesh3d": [
           {
            "colorbar": {
             "outlinewidth": 0,
             "ticks": ""
            },
            "type": "mesh3d"
           }
          ],
          "parcoords": [
           {
            "line": {
             "colorbar": {
              "outlinewidth": 0,
              "ticks": ""
             }
            },
            "type": "parcoords"
           }
          ],
          "pie": [
           {
            "automargin": true,
            "type": "pie"
           }
          ],
          "scatter": [
           {
            "fillpattern": {
             "fillmode": "overlay",
             "size": 10,
             "solidity": 0.2
            },
            "type": "scatter"
           }
          ],
          "scatter3d": [
           {
            "line": {
             "colorbar": {
              "outlinewidth": 0,
              "ticks": ""
             }
            },
            "marker": {
             "colorbar": {
              "outlinewidth": 0,
              "ticks": ""
             }
            },
            "type": "scatter3d"
           }
          ],
          "scattercarpet": [
           {
            "marker": {
             "colorbar": {
              "outlinewidth": 0,
              "ticks": ""
             }
            },
            "type": "scattercarpet"
           }
          ],
          "scattergeo": [
           {
            "marker": {
             "colorbar": {
              "outlinewidth": 0,
              "ticks": ""
             }
            },
            "type": "scattergeo"
           }
          ],
          "scattergl": [
           {
            "marker": {
             "colorbar": {
              "outlinewidth": 0,
              "ticks": ""
             }
            },
            "type": "scattergl"
           }
          ],
          "scattermapbox": [
           {
            "marker": {
             "colorbar": {
              "outlinewidth": 0,
              "ticks": ""
             }
            },
            "type": "scattermapbox"
           }
          ],
          "scatterpolar": [
           {
            "marker": {
             "colorbar": {
              "outlinewidth": 0,
              "ticks": ""
             }
            },
            "type": "scatterpolar"
           }
          ],
          "scatterpolargl": [
           {
            "marker": {
             "colorbar": {
              "outlinewidth": 0,
              "ticks": ""
             }
            },
            "type": "scatterpolargl"
           }
          ],
          "scatterternary": [
           {
            "marker": {
             "colorbar": {
              "outlinewidth": 0,
              "ticks": ""
             }
            },
            "type": "scatterternary"
           }
          ],
          "surface": [
           {
            "colorbar": {
             "outlinewidth": 0,
             "ticks": ""
            },
            "colorscale": [
             [
              0,
              "#0d0887"
             ],
             [
              0.1111111111111111,
              "#46039f"
             ],
             [
              0.2222222222222222,
              "#7201a8"
             ],
             [
              0.3333333333333333,
              "#9c179e"
             ],
             [
              0.4444444444444444,
              "#bd3786"
             ],
             [
              0.5555555555555556,
              "#d8576b"
             ],
             [
              0.6666666666666666,
              "#ed7953"
             ],
             [
              0.7777777777777778,
              "#fb9f3a"
             ],
             [
              0.8888888888888888,
              "#fdca26"
             ],
             [
              1,
              "#f0f921"
             ]
            ],
            "type": "surface"
           }
          ],
          "table": [
           {
            "cells": {
             "fill": {
              "color": "#EBF0F8"
             },
             "line": {
              "color": "white"
             }
            },
            "header": {
             "fill": {
              "color": "#C8D4E3"
             },
             "line": {
              "color": "white"
             }
            },
            "type": "table"
           }
          ]
         },
         "layout": {
          "annotationdefaults": {
           "arrowcolor": "#2a3f5f",
           "arrowhead": 0,
           "arrowwidth": 1
          },
          "autotypenumbers": "strict",
          "coloraxis": {
           "colorbar": {
            "outlinewidth": 0,
            "ticks": ""
           }
          },
          "colorscale": {
           "diverging": [
            [
             0,
             "#8e0152"
            ],
            [
             0.1,
             "#c51b7d"
            ],
            [
             0.2,
             "#de77ae"
            ],
            [
             0.3,
             "#f1b6da"
            ],
            [
             0.4,
             "#fde0ef"
            ],
            [
             0.5,
             "#f7f7f7"
            ],
            [
             0.6,
             "#e6f5d0"
            ],
            [
             0.7,
             "#b8e186"
            ],
            [
             0.8,
             "#7fbc41"
            ],
            [
             0.9,
             "#4d9221"
            ],
            [
             1,
             "#276419"
            ]
           ],
           "sequential": [
            [
             0,
             "#0d0887"
            ],
            [
             0.1111111111111111,
             "#46039f"
            ],
            [
             0.2222222222222222,
             "#7201a8"
            ],
            [
             0.3333333333333333,
             "#9c179e"
            ],
            [
             0.4444444444444444,
             "#bd3786"
            ],
            [
             0.5555555555555556,
             "#d8576b"
            ],
            [
             0.6666666666666666,
             "#ed7953"
            ],
            [
             0.7777777777777778,
             "#fb9f3a"
            ],
            [
             0.8888888888888888,
             "#fdca26"
            ],
            [
             1,
             "#f0f921"
            ]
           ],
           "sequentialminus": [
            [
             0,
             "#0d0887"
            ],
            [
             0.1111111111111111,
             "#46039f"
            ],
            [
             0.2222222222222222,
             "#7201a8"
            ],
            [
             0.3333333333333333,
             "#9c179e"
            ],
            [
             0.4444444444444444,
             "#bd3786"
            ],
            [
             0.5555555555555556,
             "#d8576b"
            ],
            [
             0.6666666666666666,
             "#ed7953"
            ],
            [
             0.7777777777777778,
             "#fb9f3a"
            ],
            [
             0.8888888888888888,
             "#fdca26"
            ],
            [
             1,
             "#f0f921"
            ]
           ]
          },
          "colorway": [
           "#636efa",
           "#EF553B",
           "#00cc96",
           "#ab63fa",
           "#FFA15A",
           "#19d3f3",
           "#FF6692",
           "#B6E880",
           "#FF97FF",
           "#FECB52"
          ],
          "font": {
           "color": "#2a3f5f"
          },
          "geo": {
           "bgcolor": "white",
           "lakecolor": "white",
           "landcolor": "#E5ECF6",
           "showlakes": true,
           "showland": true,
           "subunitcolor": "white"
          },
          "hoverlabel": {
           "align": "left"
          },
          "hovermode": "closest",
          "mapbox": {
           "style": "light"
          },
          "paper_bgcolor": "white",
          "plot_bgcolor": "#E5ECF6",
          "polar": {
           "angularaxis": {
            "gridcolor": "white",
            "linecolor": "white",
            "ticks": ""
           },
           "bgcolor": "#E5ECF6",
           "radialaxis": {
            "gridcolor": "white",
            "linecolor": "white",
            "ticks": ""
           }
          },
          "scene": {
           "xaxis": {
            "backgroundcolor": "#E5ECF6",
            "gridcolor": "white",
            "gridwidth": 2,
            "linecolor": "white",
            "showbackground": true,
            "ticks": "",
            "zerolinecolor": "white"
           },
           "yaxis": {
            "backgroundcolor": "#E5ECF6",
            "gridcolor": "white",
            "gridwidth": 2,
            "linecolor": "white",
            "showbackground": true,
            "ticks": "",
            "zerolinecolor": "white"
           },
           "zaxis": {
            "backgroundcolor": "#E5ECF6",
            "gridcolor": "white",
            "gridwidth": 2,
            "linecolor": "white",
            "showbackground": true,
            "ticks": "",
            "zerolinecolor": "white"
           }
          },
          "shapedefaults": {
           "line": {
            "color": "#2a3f5f"
           }
          },
          "ternary": {
           "aaxis": {
            "gridcolor": "white",
            "linecolor": "white",
            "ticks": ""
           },
           "baxis": {
            "gridcolor": "white",
            "linecolor": "white",
            "ticks": ""
           },
           "bgcolor": "#E5ECF6",
           "caxis": {
            "gridcolor": "white",
            "linecolor": "white",
            "ticks": ""
           }
          },
          "title": {
           "x": 0.05
          },
          "xaxis": {
           "automargin": true,
           "gridcolor": "white",
           "linecolor": "white",
           "ticks": "",
           "title": {
            "standoff": 15
           },
           "zerolinecolor": "white",
           "zerolinewidth": 2
          },
          "yaxis": {
           "automargin": true,
           "gridcolor": "white",
           "linecolor": "white",
           "ticks": "",
           "title": {
            "standoff": 15
           },
           "zerolinecolor": "white",
           "zerolinewidth": 2
          }
         }
        },
        "xaxis": {
         "anchor": "y",
         "constrain": "domain",
         "domain": [
          0,
          1
         ],
         "scaleanchor": "y",
         "title": {
          "text": "theta_high"
         }
        },
        "yaxis": {
         "anchor": "x",
         "autorange": "reversed",
         "constrain": "domain",
         "domain": [
          0,
          1
         ],
         "title": {
          "text": "theta_low"
         }
        }
       }
      }
     },
     "metadata": {},
     "output_type": "display_data"
    }
   ],
   "source": [
    "res_grid = result[\"all_runs\"].pivot(index=\"theta_low\", columns=\"theta_high\", values=\"performance\")\n",
    "px.imshow(res_grid)"
   ]
  },
  {
   "cell_type": "markdown",
   "metadata": {},
   "source": [
    "Apparently, with the given uncertainty model and the high-low policy, the best profit is only slightly above the start price."
   ]
  },
  {
   "cell_type": "markdown",
   "metadata": {},
   "source": [
    "## Exercise 2\n",
    "1. Create an instance of the tracking policy that is implemented in the class `TrackPolicy` in the module `AssetSellingPolicies` and run the policy for 100 iterations. Describe in your own words how this policy makes a decision. \n",
    "2. The policy has one tunable parameter `theta`. Run a grid search to find the best value for `theta`. Is the tracking policy better than the high-low policy?"
   ]
  },
  {
   "cell_type": "markdown",
   "metadata": {},
   "source": [
    "---"
   ]
  },
  {
   "cell_type": "markdown",
   "metadata": {},
   "source": [
    "In the first version of our sequential decision model we used a stochastic model to generate observations. We now introduce a new version, where we draw sample obervations $W_{t+1}$ from historical data. Consider the following version of our problem:\n",
    "\n",
    "*You own a share of a company at the beginning of the month. Every day, you need to decide if you sell it (for the closing price of this day) or not. If by the end of the month the stock is still in your posession, it is sold at the closing price of the last day of the month.*\n",
    "\n",
    "To generate different observations for one month, we will use 10 years of historical data where we scale the data so each month starts at zero. This gives us 120 observations in total that we will use to tune our policy.\n",
    " \n",
    "As an example, we download data of the SAP stock using the package `yfinance` and reshape it to match our needs."
   ]
  },
  {
   "cell_type": "code",
   "execution_count": 10,
   "metadata": {},
   "outputs": [],
   "source": [
    "import yfinance as yf\n",
    "\n",
    "def get_historical_monthly_paths(stock_name, start=\"2014-01-01\", end=\"2023-12-31\"):\n",
    "    stock = yf.Ticker(stock_name)\n",
    "\n",
    "    # Get historical market data (this makes an API call to Yahoo Finance)\n",
    "    hist = stock.history(start=start, end=end, interval=\"1d\")\n",
    "\n",
    "    # We just keep the \"Close\" column\"\n",
    "    hist = hist.drop([\"Open\", \"High\", \"Low\", \"Volume\", \"Dividends\", \"Stock Splits\"], axis=1)\n",
    "\n",
    "    # Enumerate the months from the start and store as a separate column\n",
    "    hist[\"N\"] = hist.index.tz_convert(None).to_period('M')\n",
    "    hist[\"N\"] = hist[\"N\"].apply(lambda x: x.ordinal) - hist[\"N\"].iloc[0].ordinal\n",
    "\n",
    "    # Get the Close price at the beginning of every month and subtract from the Close value \n",
    "    hist_month_start = hist.groupby(\"N\").head(1).rename({\"Close\": \"Close_Month_Start\"}, axis=1)\n",
    "    hist_month_start = pd.merge(hist, hist_month_start, on=\"N\")\n",
    "    hist_month_start[\"price\"] = (hist_month_start[\"Close\"] - hist_month_start[\"Close_Month_Start\"])\n",
    "    \n",
    "    return hist_month_start.drop([\"Close\", \"Close_Month_Start\"], axis=1)\n",
    "\n",
    "hist_prices = get_historical_monthly_paths(stock_name=\"SAP\")"
   ]
  },
  {
   "cell_type": "markdown",
   "metadata": {},
   "source": [
    "Let's have a look at our historical sample paths $W_{t+1}$:"
   ]
  },
  {
   "cell_type": "code",
   "execution_count": 11,
   "metadata": {},
   "outputs": [
    {
     "data": {
      "text/html": [
       "<div>\n",
       "<style scoped>\n",
       "    .dataframe tbody tr th:only-of-type {\n",
       "        vertical-align: middle;\n",
       "    }\n",
       "\n",
       "    .dataframe tbody tr th {\n",
       "        vertical-align: top;\n",
       "    }\n",
       "\n",
       "    .dataframe thead th {\n",
       "        text-align: right;\n",
       "    }\n",
       "</style>\n",
       "<table border=\"1\" class=\"dataframe\">\n",
       "  <thead>\n",
       "    <tr style=\"text-align: right;\">\n",
       "      <th></th>\n",
       "      <th>N</th>\n",
       "      <th>price</th>\n",
       "    </tr>\n",
       "  </thead>\n",
       "  <tbody>\n",
       "    <tr>\n",
       "      <th>0</th>\n",
       "      <td>0</td>\n",
       "      <td>0.000000</td>\n",
       "    </tr>\n",
       "    <tr>\n",
       "      <th>1</th>\n",
       "      <td>0</td>\n",
       "      <td>-0.484024</td>\n",
       "    </tr>\n",
       "    <tr>\n",
       "      <th>2</th>\n",
       "      <td>0</td>\n",
       "      <td>-0.408920</td>\n",
       "    </tr>\n",
       "    <tr>\n",
       "      <th>3</th>\n",
       "      <td>0</td>\n",
       "      <td>-0.609207</td>\n",
       "    </tr>\n",
       "    <tr>\n",
       "      <th>4</th>\n",
       "      <td>0</td>\n",
       "      <td>0.450630</td>\n",
       "    </tr>\n",
       "    <tr>\n",
       "      <th>...</th>\n",
       "      <td>...</td>\n",
       "      <td>...</td>\n",
       "    </tr>\n",
       "    <tr>\n",
       "      <th>2511</th>\n",
       "      <td>119</td>\n",
       "      <td>-7.298416</td>\n",
       "    </tr>\n",
       "    <tr>\n",
       "      <th>2512</th>\n",
       "      <td>119</td>\n",
       "      <td>-6.824371</td>\n",
       "    </tr>\n",
       "    <tr>\n",
       "      <th>2513</th>\n",
       "      <td>119</td>\n",
       "      <td>-4.138077</td>\n",
       "    </tr>\n",
       "    <tr>\n",
       "      <th>2514</th>\n",
       "      <td>119</td>\n",
       "      <td>-5.688614</td>\n",
       "    </tr>\n",
       "    <tr>\n",
       "      <th>2515</th>\n",
       "      <td>119</td>\n",
       "      <td>-5.431839</td>\n",
       "    </tr>\n",
       "  </tbody>\n",
       "</table>\n",
       "<p>2516 rows × 2 columns</p>\n",
       "</div>"
      ],
      "text/plain": [
       "        N     price\n",
       "0       0  0.000000\n",
       "1       0 -0.484024\n",
       "2       0 -0.408920\n",
       "3       0 -0.609207\n",
       "4       0  0.450630\n",
       "...   ...       ...\n",
       "2511  119 -7.298416\n",
       "2512  119 -6.824371\n",
       "2513  119 -4.138077\n",
       "2514  119 -5.688614\n",
       "2515  119 -5.431839\n",
       "\n",
       "[2516 rows x 2 columns]"
      ]
     },
     "execution_count": 11,
     "metadata": {},
     "output_type": "execute_result"
    }
   ],
   "source": [
    "hist_prices"
   ]
  },
  {
   "cell_type": "markdown",
   "metadata": {},
   "source": [
    "We now create a new model where the exogenous information process is modified so that at each iteration, on month of the historical data is selected. We also create an instance of the high-low policy and run it for 120 iterations."
   ]
  },
  {
   "cell_type": "code",
   "execution_count": 12,
   "metadata": {},
   "outputs": [
    {
     "data": {
      "text/plain": [
       "0.5281274159749348"
      ]
     },
     "execution_count": 12,
     "metadata": {},
     "output_type": "execute_result"
    }
   ],
   "source": [
    "model_hist = asm.AssetSellingModelHistorical(hist_data=hist_prices)\n",
    "policy_hist = asp.HighLowPolicy(model=model_hist, theta_low=-10, theta_high=10)\n",
    "policy_hist.run_policy(n_iterations=120)"
   ]
  },
  {
   "cell_type": "markdown",
   "metadata": {},
   "source": [
    "Next, we need to optimize `theta_high` and  `theta_low`. To get a feeling for which values we might try, we first have a look at the distribution of monthly price deviations."
   ]
  },
  {
   "cell_type": "code",
   "execution_count": 13,
   "metadata": {},
   "outputs": [
    {
     "ename": "ValueError",
     "evalue": "Mime type rendering requires nbformat>=4.2.0 but it is not installed",
     "output_type": "error",
     "traceback": [
      "\u001b[1;31m---------------------------------------------------------------------------\u001b[0m",
      "\u001b[1;31mValueError\u001b[0m                                Traceback (most recent call last)",
      "File \u001b[1;32m~\\AppData\\Local\\Packages\\PythonSoftwareFoundation.Python.3.10_qbz5n2kfra8p0\\LocalCache\\local-packages\\Python310\\site-packages\\IPython\\core\\formatters.py:925\u001b[0m, in \u001b[0;36mIPythonDisplayFormatter.__call__\u001b[1;34m(self, obj)\u001b[0m\n\u001b[0;32m    923\u001b[0m method \u001b[38;5;241m=\u001b[39m get_real_method(obj, \u001b[38;5;28mself\u001b[39m\u001b[38;5;241m.\u001b[39mprint_method)\n\u001b[0;32m    924\u001b[0m \u001b[38;5;28;01mif\u001b[39;00m method \u001b[38;5;129;01mis\u001b[39;00m \u001b[38;5;129;01mnot\u001b[39;00m \u001b[38;5;28;01mNone\u001b[39;00m:\n\u001b[1;32m--> 925\u001b[0m     \u001b[43mmethod\u001b[49m\u001b[43m(\u001b[49m\u001b[43m)\u001b[49m\n\u001b[0;32m    926\u001b[0m     \u001b[38;5;28;01mreturn\u001b[39;00m \u001b[38;5;28;01mTrue\u001b[39;00m\n",
      "File \u001b[1;32m~\\AppData\\Local\\Packages\\PythonSoftwareFoundation.Python.3.10_qbz5n2kfra8p0\\LocalCache\\local-packages\\Python310\\site-packages\\plotly\\basedatatypes.py:832\u001b[0m, in \u001b[0;36mBaseFigure._ipython_display_\u001b[1;34m(self)\u001b[0m\n\u001b[0;32m    829\u001b[0m \u001b[38;5;28;01mimport\u001b[39;00m \u001b[38;5;21;01mplotly\u001b[39;00m\u001b[38;5;21;01m.\u001b[39;00m\u001b[38;5;21;01mio\u001b[39;00m \u001b[38;5;28;01mas\u001b[39;00m \u001b[38;5;21;01mpio\u001b[39;00m\n\u001b[0;32m    831\u001b[0m \u001b[38;5;28;01mif\u001b[39;00m pio\u001b[38;5;241m.\u001b[39mrenderers\u001b[38;5;241m.\u001b[39mrender_on_display \u001b[38;5;129;01mand\u001b[39;00m pio\u001b[38;5;241m.\u001b[39mrenderers\u001b[38;5;241m.\u001b[39mdefault:\n\u001b[1;32m--> 832\u001b[0m     \u001b[43mpio\u001b[49m\u001b[38;5;241;43m.\u001b[39;49m\u001b[43mshow\u001b[49m\u001b[43m(\u001b[49m\u001b[38;5;28;43mself\u001b[39;49m\u001b[43m)\u001b[49m\n\u001b[0;32m    833\u001b[0m \u001b[38;5;28;01melse\u001b[39;00m:\n\u001b[0;32m    834\u001b[0m     \u001b[38;5;28mprint\u001b[39m(\u001b[38;5;28mrepr\u001b[39m(\u001b[38;5;28mself\u001b[39m))\n",
      "File \u001b[1;32m~\\AppData\\Local\\Packages\\PythonSoftwareFoundation.Python.3.10_qbz5n2kfra8p0\\LocalCache\\local-packages\\Python310\\site-packages\\plotly\\io\\_renderers.py:394\u001b[0m, in \u001b[0;36mshow\u001b[1;34m(fig, renderer, validate, **kwargs)\u001b[0m\n\u001b[0;32m    389\u001b[0m         \u001b[38;5;28;01mraise\u001b[39;00m \u001b[38;5;167;01mValueError\u001b[39;00m(\n\u001b[0;32m    390\u001b[0m             \u001b[38;5;124m\"\u001b[39m\u001b[38;5;124mMime type rendering requires ipython but it is not installed\u001b[39m\u001b[38;5;124m\"\u001b[39m\n\u001b[0;32m    391\u001b[0m         )\n\u001b[0;32m    393\u001b[0m     \u001b[38;5;28;01mif\u001b[39;00m \u001b[38;5;129;01mnot\u001b[39;00m nbformat \u001b[38;5;129;01mor\u001b[39;00m Version(nbformat\u001b[38;5;241m.\u001b[39m__version__) \u001b[38;5;241m<\u001b[39m Version(\u001b[38;5;124m\"\u001b[39m\u001b[38;5;124m4.2.0\u001b[39m\u001b[38;5;124m\"\u001b[39m):\n\u001b[1;32m--> 394\u001b[0m         \u001b[38;5;28;01mraise\u001b[39;00m \u001b[38;5;167;01mValueError\u001b[39;00m(\n\u001b[0;32m    395\u001b[0m             \u001b[38;5;124m\"\u001b[39m\u001b[38;5;124mMime type rendering requires nbformat>=4.2.0 but it is not installed\u001b[39m\u001b[38;5;124m\"\u001b[39m\n\u001b[0;32m    396\u001b[0m         )\n\u001b[0;32m    398\u001b[0m     ipython_display\u001b[38;5;241m.\u001b[39mdisplay(bundle, raw\u001b[38;5;241m=\u001b[39m\u001b[38;5;28;01mTrue\u001b[39;00m)\n\u001b[0;32m    400\u001b[0m \u001b[38;5;66;03m# external renderers\u001b[39;00m\n",
      "\u001b[1;31mValueError\u001b[0m: Mime type rendering requires nbformat>=4.2.0 but it is not installed"
     ]
    },
    {
     "data": {
      "application/vnd.plotly.v1+json": {
       "config": {
        "plotlyServerURL": "https://plot.ly"
       },
       "data": [
        {
         "alignmentgroup": "True",
         "bingroup": "x",
         "hovertemplate": "price=%{x}<br>count=%{y}<extra></extra>",
         "legendgroup": "",
         "marker": {
          "color": "#636efa",
          "pattern": {
           "shape": ""
          }
         },
         "name": "",
         "offsetgroup": "",
         "orientation": "v",
         "showlegend": false,
         "type": "histogram",
         "x": [
          0,
          -0.4840240478515625,
          -0.4089202880859375,
          -0.6092071533203125,
          0.45063018798828125,
          -0.24202728271484375,
          -1.1432876586914062,
          -1.577239990234375,
          -1.77752685546875,
          -1.5855941772460938,
          -1.7524871826171875,
          -2.1613998413085938,
          -2.9207916259765625,
          -4.0474090576171875,
          -4.389549255371094,
          -6.2087860107421875,
          -5.966773986816406,
          -6.133689880371094,
          -6.667778015136719,
          -6.083610534667969,
          -7.085029602050781,
          0,
          0.19193649291992188,
          -0.050060272216796875,
          0.9930839538574219,
          1.3352279663085938,
          1.018096923828125,
          2.4952011108398438,
          2.4367752075195312,
          3.404815673828125,
          4.2226409912109375,
          4.306083679199219,
          3.7052459716796875,
          3.630126953125,
          3.4131622314453125,
          3.6801986694335938,
          3.93890380859375,
          3.7052459716796875,
          3.8804855346679688,
          4.3394622802734375,
          0,
          1.0181121826171875,
          0.458984375,
          1.2768096923828125,
          0.3755340576171875,
          -0.31710052490234375,
          -0.20027923583984375,
          -0.7844314575195312,
          -2.3950424194335938,
          -2.01116943359375,
          -0.45897674560546875,
          0.24201202392578125,
          -0.35048675537109375,
          -0.6425628662109375,
          -0.3004150390625,
          0.14188385009765625,
          0.801116943359375,
          1.326873779296875,
          1.4771041870117188,
          2.26153564453125,
          2.979217529296875,
          0,
          -0.6509170532226562,
          -0.8261566162109375,
          -0.9930648803710938,
          -1.9193649291992188,
          -1.09320068359375,
          -0.27538299560546875,
          -1.3602371215820312,
          -2.6537399291992188,
          -1.418670654296875,
          -1.4770736694335938,
          -0.1251678466796875,
          -1.6690216064453125,
          -1.418670654296875,
          -1.7107315063476562,
          -1.8442611694335938,
          -2.261505126953125,
          -3.2462539672851562,
          -2.8957443237304688,
          -1.9277114868164062,
          -0.6509170532226562,
          0,
          -0.51739501953125,
          -1.7775039672851562,
          -2.19476318359375,
          -1.9777984619140625,
          -3.5633773803710938,
          -4.1558685302734375,
          -3.2045364379882812,
          -3.5133056640625,
          -3.221221923828125,
          -4.047397613525391,
          -4.0223541259765625,
          -4.347816467285156,
          -4.856861114501953,
          -4.256019592285156,
          -4.216926574707031,
          -3.9109535217285156,
          -2.7551345825195312,
          -2.4491653442382812,
          -2.287689208984375,
          -2.2706832885742188,
          0,
          0.48443603515625,
          -0.3399505615234375,
          -0.02548980712890625,
          -0.4419364929199219,
          -0.62890625,
          -0.6374015808105469,
          -0.7223892211914062,
          -0.365447998046875,
          0.16149139404296875,
          0.951873779296875,
          1.1728515625,
          2.0567245483398438,
          2.1502151489257812,
          1.6487808227539062,
          1.606292724609375,
          1.4108200073242188,
          1.164337158203125,
          0.7139053344726562,
          0.96038818359375,
          1.036865234375,
          0,
          0.08499908447265625,
          0.7224197387695312,
          1.3343353271484375,
          0.45044708251953125,
          0.943389892578125,
          0.3314666748046875,
          0.3314666748046875,
          1.4193191528320312,
          0.6119384765625,
          1.9037551879882812,
          2.787628173828125,
          3.340057373046875,
          3.2550735473632812,
          3.6884994506835938,
          4.164451599121094,
          3.739501953125,
          2.787628173828125,
          2.6176681518554688,
          2.4731674194335938,
          2.4731674194335938,
          0.9263839721679688,
          0,
          -0.2379608154296875,
          -0.09348297119140625,
          -0.3059539794921875,
          -0.7053985595703125,
          -0.450439453125,
          0.19547271728515625,
          -0.27196502685546875,
          -0.29744720458984375,
          -0.28046417236328125,
          -0.9263687133789062,
          -0.11048126220703125,
          0.4589385986328125,
          -0.00850677490234375,
          0.467437744140625,
          -0.15297698974609375,
          0.9008865356445312,
          1.1898345947265625,
          1.5127944946289062,
          0.39943695068359375,
          0.4419403076171875,
          0,
          -0.6884002685546875,
          -0.9688720703125,
          -0.5099258422851562,
          -0.24645233154296875,
          -0.7903900146484375,
          -0.66290283203125,
          -0.764892578125,
          -0.943359375,
          -0.7733917236328125,
          -1.0113601684570312,
          -1.7167587280273438,
          -1.0113601684570312,
          -3.8839645385742188,
          -3.4250221252441406,
          -4.147426605224609,
          -3.951946258544922,
          -5.252269744873047,
          -4.5808563232421875,
          -5.175788879394531,
          -5.422248840332031,
          0,
          0.12747955322265625,
          -0.152984619140625,
          0.0424957275390625,
          -0.7224044799804688,
          -1.7422714233398438,
          -1.9887313842773438,
          -2.1077194213867188,
          -2.558155059814453,
          -2.2522010803222656,
          -2.736621856689453,
          -4.087940216064453,
          -1.9292488098144531,
          -4.7423553466796875,
          -4.4109039306640625,
          -6.051177978515625,
          -4.334407806396484,
          -4.7423553466796875,
          -4.971820831298828,
          -3.6375045776367188,
          -4.325916290283203,
          -4.198436737060547,
          -2.6601409912109375,
          0,
          -0.21247100830078125,
          0.042491912841796875,
          0.2719612121582031,
          -0.27196502685546875,
          0.09347915649414062,
          0.12747573852539062,
          -0.6119117736816406,
          -0.4589385986328125,
          -0.24646759033203125,
          0.297454833984375,
          1.21533203125,
          1.3173103332519531,
          1.232330322265625,
          1.861236572265625,
          2.7111282348632812,
          3.0850830078125,
          3.357044219970703,
          2.6771316528320312,
          0,
          -0.4249534606933594,
          -0.977386474609375,
          -1.4278182983398438,
          -0.9348831176757812,
          -0.8923912048339844,
          -0.8158988952636719,
          -1.7932777404785156,
          -0.5354347229003906,
          -1.9972343444824219,
          -3.1020851135253906,
          -2.8131256103515625,
          -2.082225799560547,
          -0.3824653625488281,
          -0.3484687805175781,
          -0.13599014282226562,
          0.04248046875,
          0.5269279479980469,
          0.7223854064941406,
          0.39943695068359375,
          -0.3824653625488281,
          -1.0198745727539062,
          0,
          -2.413665771484375,
          -3.7054901123046875,
          -4.206932067871094,
          -3.323047637939453,
          -4.257911682128906,
          -1.9887351989746094,
          -2.6771392822265625,
          -2.609142303466797,
          -2.6856307983398438,
          -2.490154266357422,
          -5.507244110107422,
          -5.0653076171875,
          -4.835834503173828,
          -4.691364288330078,
          -3.348541259765625,
          -3.858470916748047,
          -4.9718170166015625,
          -3.586505889892578,
          -3.9774513244628906,
          0,
          1.21533203125,
          0.37395477294921875,
          1.4957962036132812,
          -0.23796463012695312,
          -0.5439262390136719,
          0.3229560852050781,
          -0.0934906005859375,
          1.8187522888183594,
          1.8187522888183594,
          1.8102455139160156,
          1.7082633972167969,
          1.6402740478515625,
          2.2776870727539062,
          2.320178985595703,
          2.481658935546875,
          2.7451324462890625,
          2.4646644592285156,
          2.7536277770996094,
          0,
          -0.5949211120605469,
          -1.0453681945800781,
          -0.9603767395019531,
          -2.2351951599121094,
          -2.2351951599121094,
          -3.569507598876953,
          -3.3315467834472656,
          -2.5666542053222656,
          -2.575145721435547,
          -1.3853187561035156,
          -1.7847671508789062,
          -0.11899185180664062,
          -0.6799201965332031,
          1.4022979736328125,
          1.7762527465820312,
          2.056713104248047,
          0.8498802185058594,
          0.5439224243164062,
          1.2153358459472656,
          1.3683090209960938,
          0.9008674621582031,
          0,
          0.2974433898925781,
          0.781890869140625,
          0.4589271545410156,
          0.4419288635253906,
          0.4844322204589844,
          0.6544036865234375,
          0.33144378662109375,
          0.8073806762695312,
          0.8073806762695312,
          0.4164314270019531,
          -0.5779304504394531,
          -0.07649993896484375,
          1.47027587890625,
          1.7167587280273438,
          2.0482177734375,
          2.354167938232422,
          3.3825111389160156,
          3.5100059509277344,
          3.238048553466797,
          2.7875938415527344,
          0,
          -0.16147613525390625,
          -1.6402854919433594,
          -1.4278068542480469,
          -0.9263763427734375,
          -0.3314666748046875,
          -0.7733993530273438,
          -0.9603805541992188,
          -0.5779190063476562,
          0.7393875122070312,
          0.365447998046875,
          0.35507965087890625,
          0.3291778564453125,
          0.415496826171875,
          0.5018310546875,
          -0.4390869140625,
          -1.4835968017578125,
          -0.8879547119140625,
          -0.8275375366210938,
          -1.1382980346679688,
          0,
          0.707855224609375,
          1.5538177490234375,
          0.8459625244140625,
          -0.18991851806640625,
          -0.3798255920410156,
          -0.9754447937011719,
          0.19855117797851562,
          0.2935028076171875,
          -0.267608642578125,
          -1.1998939514160156,
          -0.7769012451171875,
          -0.8373451232910156,
          -0.5179405212402344,
          -1.0358734130859375,
          0.8200759887695312,
          0.5352096557617188,
          -0.3021354675292969,
          -0.31076812744140625,
          -0.768280029296875,
          -2.7450714111328125,
          -3.1335220336914062,
          0,
          -0.3539237976074219,
          -1.8214187622070312,
          -1.3207473754882812,
          -1.6315040588378906,
          -0.4834136962890625,
          1.6401329040527344,
          1.9250030517578125,
          2.4515724182128906,
          3.2630233764648438,
          3.651458740234375,
          3.2802810668945312,
          3.5306167602539062,
          2.09765625,
          1.8904800415039062,
          2.632854461669922,
          1.7782478332519531,
          1.1394691467285156,
          1.6315116882324219,
          1.4847564697265625,
          1.0963134765625,
          1.1221923828125,
          0,
          0.2589683532714844,
          0.6301536560058594,
          0.5524673461914062,
          0.3280181884765625,
          1.2603111267089844,
          0,
          -0.0345306396484375,
          -0.8114356994628906,
          -0.8632392883300781,
          -1.2603225708007812,
          -1.6056022644042969,
          -1.2516937255859375,
          -3.038585662841797,
          -3.3752365112304688,
          -5.3088836669921875,
          -4.437015533447266,
          -4.160778045654297,
          -3.1594276428222656,
          -3.591045379638672,
          -3.763690948486328,
          0,
          0.46614837646484375,
          0.8459701538085938,
          -0.74237060546875,
          0.6560630798339844,
          -0.45751190185546875,
          0.33666229248046875,
          0.4057197570800781,
          0.18128585815429688,
          1.1221961975097656,
          1.1912651062011719,
          1.277587890625,
          -0.5438270568847656,
          -0.4316215515136719,
          -1.8904685974121094,
          -1.8214149475097656,
          -1.9077415466308594,
          -1.5020217895507812,
          -1.9163665771484375,
          -1.4070587158203125,
          -0.690582275390625,
          0,
          1.4157028198242188,
          2.1667137145996094,
          2.7278060913085938,
          2.7882423400878906,
          2.9349937438964844,
          3.6428375244140625,
          3.703266143798828,
          7.026706695556641,
          7.441062927246094,
          8.580520629882812,
          9.650920867919922,
          9.150257110595703,
          9.754520416259766,
          10.36740493774414,
          11.101146697998047,
          11.360111236572266,
          11.411922454833984,
          11.118427276611328,
          11.973011016845703,
          12.050724029541016,
          12.560009002685547,
          0,
          0.3280181884765625,
          -0.6128997802734375,
          0.0949554443359375,
          -0.9063949584960938,
          -0.8632354736328125,
          -1.329376220703125,
          -0.4316253662109375,
          -0.6042709350585938,
          -1.6228790283203125,
          -1.5624618530273438,
          -1.4675064086914062,
          -0.38845062255859375,
          0.2762298583984375,
          -0.0604400634765625,
          -0.6388015747070312,
          -1.0358810424804688,
          -0.7251205444335938,
          -0.68194580078125,
          -0.7251205444335938,
          0,
          -0.509307861328125,
          -1.0617752075195312,
          -0.6387939453125,
          -0.388458251953125,
          -0.7164688110351562,
          -1.2516860961914062,
          -1.1653594970703125,
          -2.1667098999023438,
          -1.9336395263671875,
          -1.2603225708007812,
          -1.070404052734375,
          -1.1308441162109375,
          -1.3811569213867188,
          -0.8977584838867188,
          -0.5352096557617188,
          0.07769012451171875,
          0.28487396240234375,
          0.509307861328125,
          1.0272445678710938,
          0.3712005615234375,
          -0.5352096557617188,
          0,
          -0.14675140380859375,
          0.44023895263671875,
          0.0604248046875,
          -0.207183837890625,
          1.2257843017578125,
          2.77960205078125,
          1.1135711669921875,
          2.2271347045898438,
          -0.207183837890625,
          1.0358657836914062,
          0.28485870361328125,
          0.7337417602539062,
          0.9754486083984375,
          1.0099716186523438,
          1.5538101196289062,
          1.5106658935546875,
          0.48340606689453125,
          2.2961959838867188,
          0,
          -1.71783447265625,
          -0.5438385009765625,
          -1.2689437866210938,
          -3.7118911743164062,
          -4.652824401855469,
          -4.1607666015625,
          -4.100349426269531,
          -4.670082092285156,
          -5.196659088134766,
          -3.41839599609375,
          -2.5292739868164062,
          -2.5465316772460938,
          -1.786895751953125,
          -1.8127822875976562,
          -2.5206375122070312,
          -3.168060302734375,
          -1.3984375,
          -2.8314056396484375,
          -3.7636947631835938,
          0,
          -0.17266082763671875,
          -1.0704193115234375,
          -0.8373489379882812,
          -1.251708984375,
          -1.35528564453125,
          -0.7682952880859375,
          -0.906402587890625,
          0.6387863159179688,
          0.7337417602539062,
          1.2171478271484375,
          1.86456298828125,
          1.7005615234375,
          1.7264480590820312,
          1.4761199951171875,
          1.42431640625,
          1.3638916015625,
          1.3207244873046875,
          2.002685546875,
          1.9767913818359375,
          2.3997726440429688,
          2.1667022705078125,
          0,
          -0.16400909423828125,
          -1.6228790283203125,
          -0.46614837646484375,
          -2.123565673828125,
          -2.6069564819335938,
          -2.4429550170898438,
          -0.9927139282226562,
          -1.2085189819335938,
          -0.604278564453125,
          -1.0531463623046875,
          -0.336669921875,
          0.7769088745117188,
          0.7078475952148438,
          0.3366546630859375,
          0.4057159423828125,
          0.189910888671875,
          -0.19855499267578125,
          1.113555908203125,
          -0.310760498046875,
          -0.9581832885742188,
          0,
          -1.0617752075195312,
          -1.968170166015625,
          -2.3134613037109375,
          -2.0890121459960938,
          -1.2430572509765625,
          -0.7250747680664062,
          -1.3659515380859375,
          -1.0235671997070312,
          -1.2167205810546875,
          -0.514373779296875,
          -1.278167724609375,
          -0.7865371704101562,
          -1.41864013671875,
          -0.6109466552734375,
          -0.40903472900390625,
          0.9956588745117188,
          1.83843994140625,
          2.452972412109375,
          2.2686233520507812,
          2.3300704956054688,
          0,
          -0.25458526611328125,
          -0.0351104736328125,
          0.10536956787109375,
          0.60577392578125,
          0.27215576171875,
          -0.41262054443359375,
          -2.43182373046875,
          -3.88037109375,
          -4.47735595703125,
          -4.723182678222656,
          -4.398353576660156,
          -3.7838134765625,
          -2.7390975952148438,
          -1.5714569091796875,
          -2.0894241333007812,
          -0.12290191650390625,
          -6.382438659667969,
          -8.068050384521484,
          -6.461463928222656,
          -5.364067077636719,
          -5.434295654296875,
          0,
          -0.7111053466796875,
          -0.22824859619140625,
          -0.33361053466796875,
          1.4310073852539062,
          2.6776580810546875,
          2.9322509765625,
          2.739105224609375,
          3.7223739624023438,
          3.5116806030273438,
          4.0559844970703125,
          3.8189468383789062,
          7.673004150390625,
          8.103195190429688,
          8.322669982910156,
          8.533370971679688,
          9.095245361328125,
          9.81512451171875,
          10.157516479492188,
          10.90374755859375,
          0,
          -0.6584396362304688,
          -0.9920501708984375,
          -1.1500778198242188,
          -0.9393844604492188,
          -1.23785400390625,
          0,
          0.34238433837890625,
          0.38628387451171875,
          0.21947479248046875,
          0.6321029663085938,
          0.403839111328125,
          0.509185791015625,
          0.6760025024414062,
          0.7901229858398438,
          0.2458038330078125,
          0.43895721435546875,
          0.07022857666015625,
          0.0965728759765625,
          -0.0087890625,
          -0.0702362060546875,
          1.2817535400390625,
          0.6057662963867188,
          0,
          1.02716064453125,
          1.6943893432617188,
          2.0631103515625,
          0.9393844604492188,
          -0.7286758422851562,
          0.25460052490234375,
          -0.28094482421875,
          -0.131683349609375,
          0.17559051513671875,
          -1.4134445190429688,
          -0.33361053466796875,
          0.5004196166992188,
          1.6241455078125,
          3.41510009765625,
          2.6952133178710938,
          1.9928741455078125,
          2.2738113403320312,
          3.1692962646484375,
          0.9393844604492188,
          2.581085205078125,
          0,
          -0.28094482421875,
          0.06145477294921875,
          0.03511810302734375,
          -1.1588516235351562,
          -0.7023239135742188,
          -2.00164794921875,
          -3.221954345703125,
          -3.2043991088867188,
          -4.17889404296875,
          -3.985748291015625,
          -2.835662841796875,
          -3.4502105712890625,
          -3.169281005859375,
          -1.817291259765625,
          -2.247467041015625,
          -2.2650375366210938,
          -2.7478790283203125,
          -2.835662841796875,
          -2.633758544921875,
          -2.6776504516601562,
          0,
          -0.21949005126953125,
          -1.3958969116210938,
          -0.8340377807617188,
          0.3599395751953125,
          0.1404571533203125,
          -0.28972625732421875,
          -1.7119598388671875,
          -2.7917861938476562,
          -4.117439270019531,
          -3.91552734375,
          -3.5643539428710938,
          -3.3712158203125,
          -2.7039871215820312,
          -1.79974365234375,
          -0.7901229858398438,
          -1.8963165283203125,
          -0.6057662963867188,
          -1.527587890625,
          -1.5627059936523438,
          -2.7039871215820312,
          0,
          0.0087738037109375,
          1.0710525512695312,
          0.948150634765625,
          2.4845123291015625,
          2.0455551147460938,
          2.2123489379882812,
          2.2386932373046875,
          3.0990524291992188,
          2.6337432861328125,
          2.43182373046875,
          2.7215499877929688,
          2.9497909545898438,
          3.6345748901367188,
          3.5467910766601562,
          3.336090087890625,
          3.3185272216796875,
          3.4151077270507812,
          3.30975341796875,
          4.038414001464844,
          3.9681777954101562,
          0,
          0.31604766845703125,
          1.3607559204101562,
          1.9050674438476562,
          2.6864166259765625,
          2.0455398559570312,
          2.186004638671875,
          2.7127532958984375,
          2.75665283203125,
          2.9322280883789062,
          2.677642822265625,
          2.572296142578125,
          2.7215347290039062,
          2.6337432861328125,
          2.9234466552734375,
          4.3193511962890625,
          3.9681777954101562,
          4.2315521240234375,
          4.415924072265625,
          4.573944091796875,
          0,
          1.0183792114257812,
          1.5890121459960938,
          0.47406768798828125,
          1.0973739624023438,
          0.9481430053710938,
          0.8779067993164062,
          0.8954696655273438,
          1.5977935791015625,
          1.5451202392578125,
          1.527557373046875,
          1.7909317016601562,
          1.5363388061523438,
          2.1421051025390625,
          2.8971023559570312,
          3.0112457275390625,
          2.3352432250976562,
          2.2035675048828125,
          2.1684417724609375,
          0,
          -0.0175628662109375,
          0.1404571533203125,
          -0.34239959716796875,
          -0.40384674072265625,
          -0.26337432861328125,
          0.07900238037109375,
          0.6145401000976562,
          0.5618743896484375,
          0.1931304931640625,
          1.3695526123046875,
          2.5108413696289062,
          2.5284042358398438,
          3.1868438720703125,
          2.22113037109375,
          2.7829971313476562,
          2.9761428833007812,
          2.9936981201171875,
          2.5196151733398438,
          3.52044677734375,
          3.4502182006835938,
          3.011260986328125,
          3.2395172119140625,
          0,
          0.22826385498046875,
          -0.7286529541015625,
          -0.8252334594726562,
          -0.6057662963867188,
          -0.7198867797851562,
          -1.0096054077148438,
          -0.7637786865234375,
          -1.78216552734375,
          -1.2554168701171875,
          -1.044708251953125,
          -1.01837158203125,
          -0.9305877685546875,
          -1.0622787475585938,
          2.7830123901367188,
          3.4414443969726562,
          1.7909622192382812,
          2.1860122680664062,
          1.7295074462890625,
          0,
          0.37751007080078125,
          -0.04389190673828125,
          1.2466506958007812,
          2.5810775756835938,
          2.0806655883789062,
          2.3967132568359375,
          2.1509017944335938,
          2.2318344116210938,
          3.316864013671875,
          3.441375732421875,
          4.490837097167969,
          3.797119140625,
          3.8149032592773438,
          4.837684631347656,
          5.424659729003906,
          5.904930114746094,
          6.180625915527344,
          6.37628173828125,
          5.922706604003906,
          6.207313537597656,
          7.043296813964844,
          0,
          1.3162460327148438,
          0.9960784912109375,
          0.46245574951171875,
          0.320159912109375,
          0.3646240234375,
          -0.9427337646484375,
          -3.14837646484375,
          -1.9032516479492188,
          -1.5386276245117188,
          -2.58807373046875,
          -1.1828765869140625,
          -0.4446868896484375,
          -1.4141006469726562,
          -0.7292938232421875,
          -0.0533905029296875,
          0.320159912109375,
          -0.06226348876953125,
          -0.8360214233398438,
          -0.19567108154296875,
          -2.8815689086914062,
          -2.1789779663085938,
          0,
          0.48024749755859375,
          -0.364654541015625,
          0.15118408203125,
          1.0583419799804688,
          0.755950927734375,
          1.565277099609375,
          0.9516143798828125,
          1.6008453369140625,
          1.5385971069335938,
          1.191741943359375,
          2.187835693359375,
          2.4368515014648438,
          1.067230224609375,
          0.5425033569335938,
          0.7025985717773438,
          1.938812255859375,
          1.7787322998046875,
          2.6503143310546875,
          2.463531494140625,
          0,
          -0.6403350830078125,
          0.09783935546875,
          0.2668304443359375,
          -0.40909576416015625,
          -0.5869522094726562,
          -1.218414306640625,
          -2.8904190063476562,
          -2.3123397827148438,
          -1.2095184326171875,
          -1.0405502319335938,
          -0.8004150390625,
          -2.2322998046875,
          -1.992156982421875,
          -1.8943405151367188,
          -1.467437744140625,
          -1.3340301513671875,
          -2.1789321899414062,
          -1.7253494262695312,
          -1.5030059814453125,
          -2.027740478515625,
          -2.2500762939453125,
          -1.876556396484375,
          0,
          -0.5158233642578125,
          0.6492538452148438,
          2.3746109008789062,
          2.632537841796875,
          4.313438415527344,
          4.091094970703125,
          3.9665908813476562,
          3.4329605102539062,
          3.9132156372070312,
          4.197822570800781,
          4.437950134277344,
          4.055511474609375,
          3.8153915405273438,
          4.384590148925781,
          3.2106246948242188,
          2.2945709228515625,
          2.347930908203125,
          3.0772018432617188,
          3.8331756591796875,
          0,
          0.33795928955078125,
          -0.391326904296875,
          0.320159912109375,
          0.36463165283203125,
          1.5563812255859375,
          1.591949462890625,
          1.8676681518554688,
          1.8587722778320312,
          1.9210281372070312,
          1.1383895874023438,
          0.693695068359375,
          1.0761260986328125,
          2.5257949829101562,
          1.3073577880859375,
          1.565277099609375,
          1.5474929809570312,
          1.95660400390625,
          2.5257949829101562,
          3.19281005859375,
          2.8815536499023438,
          3.2372894287109375,
          0,
          -0.667022705078125,
          -1.2095413208007812,
          -1.1383895874023438,
          -1.8231964111328125,
          -1.4852447509765625,
          -3.2284011840820312,
          -3.2728805541992188,
          -3.4685287475585938,
          -2.8370819091796875,
          -3.0149612426757812,
          -2.0722198486328125,
          -2.2412185668945312,
          -1.9921875,
          -0.87158203125,
          -2.1522674560546875,
          0.12451171875,
          -0.47137451171875,
          -0.667022705078125,
          -2.9349136352539062,
          -2.596954345703125,
          0,
          -0.3023834228515625,
          -0.4268951416015625,
          0.37352752685546875,
          0.5691986083984375,
          0.684814453125,
          0.2223358154296875,
          0.7915267944335938,
          0.99609375,
          1.7965316772460938,
          2.2234115600585938,
          3.6819686889648438,
          3.0416183471679688,
          1.2273178100585938,
          0.9782943725585938,
          0.7114944458007812,
          0.5158309936523438,
          1.1739654541015625,
          0.5514068603515625,
          0.5158309936523438,
          0,
          0.818206787109375,
          2.3656997680664062,
          3.5040969848632812,
          2.1433563232421875,
          1.5741806030273438,
          0.42688751220703125,
          -2.445770263671875,
          -2.0099716186523438,
          -1.5208282470703125,
          -1.0672454833984375,
          -0.640350341796875,
          0.7203750610351562,
          0.34683990478515625,
          1.6720046997070312,
          1.7609329223632812,
          0.40019989013671875,
          1.9121322631835938,
          1.02276611328125,
          -1.40521240234375,
          0.7648468017578125,
          0,
          -2.223419189453125,
          -5.140533447265625,
          -2.9260101318359375,
          -5.8342437744140625,
          -8.884773254394531,
          -8.591270446777344,
          -7.915367126464844,
          -7.870887756347656,
          -5.798675537109375,
          -5.416236877441406,
          -6.0032196044921875,
          -6.599090576171875,
          -7.470680236816406,
          -6.679145812988281,
          -6.0032196044921875,
          -5.638580322265625,
          -6.74139404296875,
          -6.3589630126953125,
          0,
          0.631439208984375,
          2.3123550415039062,
          2.7392578125,
          5.256172180175781,
          5.638572692871094,
          6.332298278808594,
          6.207794189453125,
          4.9982452392578125,
          5.407356262207031,
          5.771995544433594,
          4.9093017578125,
          3.7709197998046875,
          2.5791702270507812,
          2.7570419311523438,
          1.7253799438476562,
          0.4268951416015625,
          2.51690673828125,
          0.9160385131835938,
          1.7609481811523438,
          2.8104095458984375,
          0,
          0.33795928955078125,
          1.0494461059570312,
          1.9121475219726562,
          1.8409805297851562,
          3.4507369995117188,
          3.9576873779296875,
          3.2728652954101562,
          4.10888671875,
          4.304534912109375,
          4.1444549560546875,
          5.469612121582031,
          5.087181091308594,
          4.07330322265625,
          2.410186767578125,
          2.39239501953125,
          4.63360595703125,
          4.980461120605469,
          5.860931396484375,
          7.168296813964844,
          6.705833435058594,
          0,
          0.23123931884765625,
          1.262908935546875,
          2.0455398559570312,
          2.0188522338867188,
          2.7392425537109375,
          2.9793853759765625,
          4.215606689453125,
          3.9665756225585938,
          3.0861053466796875,
          1.7075881958007812,
          2.1700668334960938,
          2.51690673828125,
          2.8934555053710938,
          3.3268814086914062,
          2.7760696411132812,
          3.2456130981445312,
          3.6068115234375,
          3.6068115234375,
          0.2296600341796875,
          2.13494873046875,
          2.48712158203125,
          0,
          0.7946090698242188,
          1.7517776489257812,
          2.8534164428710938,
          2.8895339965820312,
          4.532958984375,
          5.670707702636719,
          5.833251953125,
          6.1131744384765625,
          6.9077911376953125,
          6.7271881103515625,
          5.18310546875,
          4.316230773925781,
          4.388465881347656,
          3.801544189453125,
          3.70220947265625,
          2.2935562133789062,
          1.336395263671875,
          1.0022964477539062,
          -0.46956634521484375,
          1.7427597045898438,
          0,
          -0.1264190673828125,
          1.0203628540039062,
          1.6343841552734375,
          3.6660919189453125,
          3.9279556274414062,
          2.2574539184570312,
          3.7202835083007812,
          4.144683837890625,
          4.7406463623046875,
          5.706825256347656,
          5.995780944824219,
          1.8872299194335938,
          0.9752197265625,
          1.3454360961914062,
          1.8601303100585938,
          3.5667572021484375,
          3.9550399780273438,
          3.3681106567382812,
          1.3093109130859375,
          0.650146484375,
          0,
          -0.34313201904296875,
          -0.21671295166015625,
          -0.6411209106445312,
          -0.32508087158203125,
          0.06320953369140625,
          -0.23476409912109375,
          -2.7902069091796875,
          -1.6705093383789062,
          -1.6073074340820312,
          -2.4651336669921875,
          0.1173858642578125,
          0.8578414916992188,
          1.5802154541015625,
          1.8330535888671875,
          2.8263320922851562,
          3.015960693359375,
          4.469764709472656,
          5.6526641845703125,
          5.490119934082031,
          5.508201599121094,
          4.767738342285156,
          3.4222946166992188,
          0,
          -2.6818389892578125,
          -2.7540817260742188,
          -1.6795272827148438,
          -0.1083526611328125,
          0.8217239379882812,
          2.4109725952148438,
          2.519317626953125,
          2.7270126342773438,
          1.2732086181640625,
          1.7156753540039062,
          1.0023193359375,
          1.5802154541015625,
          2.9437179565429688,
          3.3049087524414062,
          7.431541442871094,
          7.034217834472656,
          6.3028106689453125,
          4.171775817871094,
          0,
          -0.9571609497070312,
          -0.45149993896484375,
          -1.0926132202148438,
          -2.8714828491210938,
          -5.36370849609375,
          -3.512603759765625,
          -9.26458740234375,
          -9.354888916015625,
          -7.892051696777344,
          -9.047874450683594,
          -5.282447814941406,
          -6.754295349121094,
          -14.682464599609375,
          -12.867485046386719,
          -13.228668212890625,
          -14.023292541503906,
          -17.969322204589844,
          -15.10687255859375,
          -16.127235412597656,
          -17.147605895996094,
          -15.964706420898438,
          -14.45672607421875,
          0,
          0.8668594360351562,
          0.8578414916992188,
          0.2076873779296875,
          2.5464096069335938,
          0.8487930297851562,
          1.4808883666992188,
          -4.7406463623046875,
          -2.654754638671875,
          -2.5644683837890625,
          -1.0745468139648438,
          -1.869171142578125,
          -4.596168518066406,
          -6.040931701660156,
          -4.659370422363281,
          -5.128929138183594,
          -3.5487136840820312,
          -4.343330383300781,
          -1.5892333984375,
          -2.41998291015625,
          -2.6999053955078125,
          0,
          -2.1490936279296875,
          -3.4132614135742188,
          -4.126617431640625,
          -3.0611038208007812,
          -3.3681259155273438,
          -1.7608108520507812,
          -1.6524581909179688,
          -3.8828201293945312,
          -5.119903564453125,
          -4.70452880859375,
          -4.6774444580078125,
          -4.686470031738281,
          -8.26226806640625,
          -9.291664123535156,
          -6.239601135253906,
          -5.68878173828125,
          -5.4991455078125,
          -5.18310546875,
          0,
          -3.3590927124023438,
          -0.39731597900390625,
          0.4785614013671875,
          1.8872146606445312,
          3.133331298828125,
          3.7563934326171875,
          2.5283355712890625,
          1.7427597045898438,
          2.9346771240234375,
          2.7721481323242188,
          4.01824951171875,
          5.923545837402344,
          3.7473678588867188,
          4.442665100097656,
          5.6165313720703125,
          6.167350769042969,
          7.0071258544921875,
          3.1694564819335938,
          3.0159530639648438,
          3.8286209106445312,
          0,
          0.23476409912109375,
          2.09490966796875,
          1.191925048828125,
          -0.44246673583984375,
          0.072235107421875,
          0.12641143798828125,
          0.6140213012695312,
          1.1829147338867188,
          1.7969284057617188,
          2.5915451049804688,
          2.5193023681640625,
          2.6276702880859375,
          2.7360382080078125,
          3.946014404296875,
          3.0520706176757812,
          3.2687835693359375,
          2.76312255859375,
          2.8714828491210938,
          0,
          -0.9571609497070312,
          -0.3702239990234375,
          -0.7133560180664062,
          -1.8330459594726562,
          -0.3702239990234375,
          -0.5959625244140625,
          -0.3341064453125,
          0.43343353271484375,
          1.0294036865234375,
          3.71124267578125,
          3.3952178955078125,
          4.569091796875,
          5.553337097167969,
          5.4630279541015625,
          3.0159530639648438,
          2.9076004028320312,
          5.011543273925781,
          4.6774444580078125,
          5.264373779296875,
          6.393104553222656,
          0,
          -0.00902557373046875,
          0.550811767578125,
          0.1173858642578125,
          -1.0926132202148438,
          -0.80364990234375,
          -4.9212493896484375,
          -3.2055892944335938,
          -3.1514053344726562,
          -3.160430908203125,
          -2.7269973754882812,
          -4.171775817871094,
          -3.1694564819335938,
          -2.5734939575195312,
          -1.8330459594726562,
          -0.9210281372070312,
          11.9735107421875,
          11.946434020996094,
          10.528762817382812,
          11.946434020996094,
          11.774864196777344,
          0,
          -1.6975936889648438,
          -0.41536712646484375,
          -1.3003082275390625,
          -3.964080810546875,
          -3.2146072387695312,
          -3.1514053344726562,
          -1.9052886962890625,
          -4.171775817871094,
          -2.4019393920898438,
          -1.5260467529296875,
          2.71722412109375,
          1.1154708862304688,
          -0.870697021484375,
          0.7035903930664062,
          2.3419418334960938,
          0.4198455810546875,
          1.2527618408203125,
          -0.12931060791015625,
          -1.7310638427734375,
          -1.117828369140625,
          -2.8019485473632812,
          0,
          2.7367019653320312,
          3.1302719116210938,
          3.340789794921875,
          6.223930358886719,
          6.031707763671875,
          5.070671081542969,
          5.006599426269531,
          5.464241027832031,
          4.402519226074219,
          5.1439056396484375,
          8.173492431640625,
          8.237556457519531,
          10.580673217773438,
          10.534927368164062,
          11.065780639648438,
          9.308425903320312,
          10.242027282714844,
          10.836959838867188,
          12.777359008789062,
          0,
          0.9610443115234375,
          1.7207107543945312,
          -0.12813568115234375,
          0.16474151611328125,
          -0.01833343505859375,
          -0.585784912109375,
          -0.8054733276367188,
          -1.4003753662109375,
          -1.0708847045898438,
          -2.910614013671875,
          -3.7343597412109375,
          -9.958297729492188,
          -12.511947631835938,
          -12.328880310058594,
          -11.596664428710938,
          -9.784400939941406,
          -11.816329956054688,
          -10.351875305175781,
          -10.864425659179688,
          -14.003860473632812,
          -13.976394653320312,
          0,
          -1.272247314453125,
          -3.9723358154296875,
          -4.960838317871094,
          -2.3797378540039062,
          -1.418701171875,
          -3.0387420654296875,
          -3.6336822509765625,
          -1.958709716796875,
          -5.6747589111328125,
          -5.409324645996094,
          -3.7435150146484375,
          -3.0845184326171875,
          -4.6496429443359375,
          -1.6749801635742188,
          -3.2950210571289062,
          -5.079833984375,
          -3.90826416015625,
          -2.8556900024414062,
          -4.265220642089844,
          -2.919769287109375,
          -3.5879135131835938,
          0,
          2.0502395629882812,
          4.5672760009765625,
          3.3224868774414062,
          2.9746780395507812,
          2.2607498168945312,
          1.4827651977539062,
          2.3522796630859375,
          0.5949325561523438,
          -0.7322235107421875,
          1.5559844970703125,
          1.253936767578125,
          1.3729248046875,
          0.9976730346679688,
          0.5400238037109375,
          0.3386688232421875,
          -0.9610443115234375,
          -0.5949249267578125,
          -0.796295166015625,
          -0.4027252197265625,
          0,
          -3.1943359375,
          -1.8671722412109375,
          -1.6291961669921875,
          -2.3980331420898438,
          -3.88995361328125,
          -1.0068130493164062,
          -1.7390289306640625,
          8.2833251953125,
          8.146026611328125,
          9.1802978515625,
          10.589828491210938,
          10.480018615722656,
          10.965110778808594,
          14.2418212890625,
          13.408912658691406,
          13.280776977539062,
          13.399749755859375,
          13.472976684570312,
          14.296737670898438,
          13.353996276855469,
          14.717758178710938,
          14.122833251953125,
          0,
          0.7139358520507812,
          -0.11899566650390625,
          1.2997055053710938,
          1.272247314453125,
          2.51702880859375,
          2.8282241821289062,
          1.5376815795898438,
          0.558319091796875,
          0.6590118408203125,
          1.6383514404296875,
          1.3637771606445312,
          1.8763427734375,
          1.1990280151367188,
          1.5925750732421875,
          1.5742950439453125,
          1.8763427734375,
          1.5102081298828125,
          1.5742950439453125,
          2.06854248046875,
          0,
          0.7047805786132812,
          1.9129409790039062,
          1.2813949584960938,
          1.4186935424804688,
          1.290557861328125,
          1.14410400390625,
          1.3363189697265625,
          2.97467041015625,
          4.6221771240234375,
          5.436790466308594,
          0.540008544921875,
          -0.0549163818359375,
          -0.338653564453125,
          0.8786773681640625,
          0.29290008544921875,
          0.13729095458984375,
          1.034271240234375,
          1.4003829956054688,
          -0.0549163818359375,
          0.4942474365234375,
          0,
          -2.5902481079101562,
          -2.388885498046875,
          -2.9197463989257812,
          -1.5834426879882812,
          0.29290008544921875,
          0.1555938720703125,
          1.3912353515625,
          0.40271759033203125,
          -0.37525177001953125,
          0.4393310546875,
          2.8831558227539062,
          2.4987258911132812,
          2.5353469848632812,
          1.2173385620117188,
          2.05938720703125,
          -0.5125579833984375,
          -3.9814834594726562,
          -4.722877502441406,
          -5.3452606201171875,
          -5.5283050537109375,
          0,
          2.5993881225585938,
          4.375038146972656,
          3.5238571166992188,
          2.2149810791015625,
          2.370574951171875,
          3.5787506103515625,
          5.052375793457031,
          4.4025115966796875,
          4.39337158203125,
          4.6862335205078125,
          6.4619140625,
          5.299468994140625,
          3.6519851684570312,
          -1.5742950439453125,
          -4.4482879638671875,
          -5.253730773925781,
          -7.166679382324219,
          -8.301628112792969,
          0,
          -2.4987258911132812,
          -0.7962875366210938,
          -4.805244445800781,
          -4.613029479980469,
          -13.7567138671875,
          -7.816520690917969,
          -12.731597900390625,
          -22.96446990966797,
          -16.639862060546875,
          -26.579849243164062,
          -21.57323455810547,
          -27.07410430908203,
          -29.655197143554688,
          -29.499603271484375,
          -25.820159912109375,
          -18.8182373046875,
          -18.424659729003906,
          -10.324394226074219,
          -14.873367309570312,
          -12.475318908691406,
          -14.6719970703125,
          0,
          -0.4942626953125,
          -0.31119537353515625,
          5.931037902832031,
          5.7662811279296875,
          8.686042785644531,
          14.534706115722656,
          15.422523498535156,
          16.29204559326172,
          12.008522033691406,
          12.58514404296875,
          16.365272521972656,
          15.5872802734375,
          9.583015441894531,
          10.589828491210938,
          8.805015563964844,
          10.031509399414062,
          10.370155334472656,
          10.370155334472656,
          12.466163635253906,
          11.907844543457031,
          0,
          0.2013702392578125,
          -0.366119384765625,
          -3.496368408203125,
          -1.60174560546875,
          -0.20136260986328125,
          -1.5468292236328125,
          -2.3339767456054688,
          -2.6451644897460938,
          -3.5146865844726562,
          -3.4414749145507812,
          0.46680450439453125,
          0.23797607421875,
          3.0479049682617188,
          0.8213577270507812,
          0.7099456787109375,
          5.7238311767578125,
          7.125862121582031,
          7.729377746582031,
          11.879768371582031,
          0,
          1.8105850219726562,
          4.6889190673828125,
          5.413139343261719,
          6.7873382568359375,
          7.520843505859375,
          7.641563415527344,
          7.49298095703125,
          0.9192276000976562,
          1.5134658813476562,
          1.7734375,
          4.66107177734375,
          5.5802764892578125,
          6.15594482421875,
          7.9108123779296875,
          11.578384399414062,
          11.661941528320312,
          6.815193176269531,
          8.495773315429688,
          7.678680419921875,
          9.210693359375,
          10.668441772460938,
          0,
          2.5719451904296875,
          6.945159912109375,
          3.6954193115234375,
          6.3787841796875,
          11.689773559570312,
          12.451156616210938,
          10.074203491210938,
          12.785415649414062,
          15.348068237304688,
          13.964614868164062,
          15.041656494140625,
          18.282119750976562,
          20.826202392578125,
          22.64605712890625,
          19.67486572265625,
          17.214324951171875,
          23.0174560546875,
          18.829925537109375,
          22.822463989257812,
          18.653518676757812,
          17.771453857421875,
          0,
          -1.754852294921875,
          -0.4735260009765625,
          -0.1578521728515625,
          -0.909942626953125,
          -2.330535888671875,
          -2.7855072021484375,
          0.4271087646484375,
          -1.20703125,
          -1.9127044677734375,
          -1.55059814453125,
          -0.343536376953125,
          -0.779937744140625,
          0.7706451416015625,
          -1.70843505859375,
          1.6155853271484375,
          3.18475341796875,
          5.85882568359375,
          3.4354248046875,
          4.2432403564453125,
          3.0269012451171875,
          0,
          2.469818115234375,
          -4.1225433349609375,
          -6.434478759765625,
          -10.835556030273438,
          -3.63043212890625,
          -6.833740234375,
          -6.3044891357421875,
          -5.2552947998046875,
          -5.28314208984375,
          -6.8615875244140625,
          -5.5059814453125,
          -5.7659759521484375,
          -9.730636596679688,
          -8.477188110351562,
          -13.231094360351562,
          -12.089035034179688,
          -13.277511596679688,
          -8.616455078125,
          -9.0899658203125,
          -9.795623779296875,
          0,
          -2.3491058349609375,
          -0.2042694091796875,
          -2.5719451904296875,
          -2.321258544921875,
          -0.64996337890625,
          0.2971038818359375,
          1.810577392578125,
          -0.2042694091796875,
          0.575653076171875,
          -2.804046630859375,
          -1.5784454345703125,
          -4.0018310546875,
          -5.7195587158203125,
          -7.8458251953125,
          -8.523605346679688,
          -6.629486083984375,
          -38.81120300292969,
          -39.29402160644531,
          -45.22712707519531,
          -44.744300842285156,
          -46.41558837890625,
          0,
          3.602569580078125,
          6.146644592285156,
          9.145698547363281,
          8.625747680664062,
          8.718589782714844,
          10.167045593261719,
          12.701850891113281,
          10.77056884765625,
          13.444633483886719,
          12.181892395019531,
          10.362037658691406,
          11.234817504882812,
          11.931198120117188,
          10.389877319335938,
          10.733421325683594,
          10.185623168945312,
          11.383369445800781,
          12.460441589355469,
          14.233871459960938,
          0,
          -0.48282623291015625,
          -0.5663833618164062,
          1.5041580200195312,
          0.18569183349609375,
          0.900634765625,
          -0.037139892578125,
          -0.018585205078125,
          -2.0148468017578125,
          -1.587738037109375,
          0.04642486572265625,
          1.8384170532226562,
          5.246009826660156,
          4.0110931396484375,
          2.1355361938476562,
          2.7019271850585938,
          2.7669219970703125,
          2.8226242065429688,
          7.3258514404296875,
          6.434478759765625,
          7.075141906738281,
          6.843017578125,
          0,
          0.6870803833007812,
          0.46425628662109375,
          -0.408538818359375,
          1.78271484375,
          0.05570220947265625,
          0.14855194091796875,
          -1.0956268310546875,
          -2.9154891967773438,
          -3.9368362426757812,
          -2.00555419921875,
          -1.4948806762695312,
          -1.2441864013671875,
          -1.6341629028320312,
          0.36212158203125,
          5.236717224121094,
          2.73907470703125,
          1.1141891479492188,
          -2.8226394653320312,
          0,
          0,
          0.9749221801757812,
          2.5533599853515625,
          0.67779541015625,
          1.8012847900390625,
          1.8384246826171875,
          0.10213470458984375,
          2.7483673095703125,
          2.2005386352539062,
          1.11419677734375,
          -3.0176162719726562,
          -0.8170852661132812,
          -2.5440826416015625,
          -3.5561447143554688,
          -4.3639373779296875,
          -2.785491943359375,
          -5.450279235839844,
          -5.765968322753906,
          0,
          0.8542098999023438,
          -1.2070465087890625,
          -2.2098312377929688,
          -1.2441940307617188,
          -1.2534713745117188,
          1.6805801391601562,
          1.4020309448242188,
          2.2562484741210938,
          -0.5571136474609375,
          -1.5320281982421875,
          -2.0891265869140625,
          -0.7427978515625,
          -2.4419479370117188,
          -1.1606292724609375,
          -1.3649063110351562,
          -1.9498519897460938,
          -3.0918960571289062,
          -2.7297897338867188,
          -1.587738037109375,
          -1.8291473388671875,
          -2.6740798950195312,
          -1.5134506225585938,
          0,
          5.6174163818359375,
          2.5069351196289062,
          3.7511215209960938,
          6.8987274169921875,
          7.4651031494140625,
          6.17449951171875,
          8.059349060058594,
          9.489234924316406,
          12.48828125,
          12.581146240234375,
          12.794692993164062,
          12.40472412109375,
          14.995208740234375,
          16.71295166015625,
          16.889358520507812,
          16.220870971679688,
          15.69158935546875,
          17.019363403320312,
          16.740814208984375,
          13.175384521484375,
          0,
          -3.9925613403320312,
          -2.664794921875,
          0.603515625,
          0.66851806640625,
          -1.39276123046875,
          -2.9618988037109375,
          -5.1253204345703125,
          -3.3142776489257812,
          0.0737762451171875,
          -1.3040924072265625,
          -0.700103759765625,
          -1.5494537353515625,
          1.3478240966796875,
          1.04583740234375,
          2.5463714599609375,
          2.1122589111328125,
          2.6501922607421875,
          -0.369781494140625,
          1.121337890625,
          0,
          -0.839935302734375,
          -2.0668182373046875,
          -0.141571044921875,
          0.830474853515625,
          1.5477294921875,
          -0.056640625,
          1.811981201171875,
          3.284210205078125,
          5.483123779296875,
          3.95428466796875,
          2.34991455078125,
          1.6798553466796875,
          0.14154052734375,
          0.707794189453125,
          1.1419219970703125,
          -1.2457427978515625,
          1.132476806640625,
          0.3114166259765625,
          1.3589630126953125,
          2.6424713134765625,
          0.4058074951171875,
          0,
          1.141937255859375,
          1.13250732421875,
          6.776092529296875,
          5.28497314453125,
          7.172454833984375,
          7.9746551513671875,
          8.578659057617188,
          9.144882202148438,
          6.776092529296875,
          6.7383270263671875,
          4.05810546875,
          3.3880462646484375,
          -1.557159423828125,
          -1.113616943359375,
          -1.6421051025390625,
          -1.74591064453125,
          0.85882568359375,
          2.321624755859375,
          3.6145477294921875,
          3.0294342041015625,
          0,
          2.0950927734375,
          2.89727783203125,
          5.3038177490234375,
          2.878387451171875,
          3.057708740234375,
          2.29327392578125,
          1.811981201171875,
          4.1807708740234375,
          4.6998291015625,
          4.3506317138671875,
          5.2849578857421875,
          4.02032470703125,
          3.4918365478515625,
          4.2657012939453125,
          5.3132476806640625,
          4.6337738037109375,
          3.4540863037109375,
          3.59564208984375,
          5.09619140625,
          6.1909637451171875,
          6.436309814453125,
          0,
          -1.066436767578125,
          -0.264251708984375,
          -0.462432861328125,
          -3.1898651123046875,
          -4.1807861328125,
          -4.7564544677734375,
          -4.567718505859375,
          -4.68096923828125,
          -5.53033447265625,
          -4.95465087890625,
          -6.4080047607421875,
          -10.324554443359375,
          -7.814208984375,
          -7.851959228515625,
          -4.9357757568359375,
          -7.096954345703125,
          -7.181884765625,
          -11.83453369140625,
          -12.995361328125,
          -14.22222900390625,
          0,
          -2.057342529296875,
          -2.3876724243164062,
          -0.1887359619140625,
          -0.2736663818359375,
          -0.4813079833984375,
          -0.783294677734375,
          -1.2457199096679688,
          5.37933349609375,
          8.578643798828125,
          9.512939453125,
          8.89007568359375,
          7.9935150146484375,
          7.2668304443359375,
          3.3125457763671875,
          5.5020294189453125,
          8.276641845703125,
          9.229812622070312,
          8.427642822265625,
          10.871932983398438,
          8.333267211914062,
          0,
          0.688934326171875,
          3.010528564453125,
          2.52923583984375,
          3.10491943359375,
          2.3121795654296875,
          1.9724273681640625,
          -0.55682373046875,
          -1.25518798828125,
          -3.614532470703125,
          -4.5865936279296875,
          -3.7561187744140625,
          -4.02978515625,
          -3.5484771728515625,
          -4.992401123046875,
          -9.701690673828125,
          -10.16412353515625,
          -11.872299194335938,
          -14.684661865234375,
          -12.561241149902344,
          -16.79863739013672,
          0,
          0.33974456787109375,
          -0.7833099365234375,
          2.6236038208007812,
          4.426155090332031,
          4.4450225830078125,
          2.87841796875,
          5.266090393066406,
          7.682075500488281,
          5.4642791748046875,
          8.116188049316406,
          7.398948669433594,
          8.323814392089844,
          6.200401306152344,
          7.181877136230469,
          9.050498962402344,
          9.692237854003906,
          10.834175109863281,
          11.041801452636719,
          9.654487609863281,
          9.994239807128906,
          9.720558166503906,
          0,
          -1.0664215087890625,
          -1.7176055908203125,
          -4.1619110107421875,
          -2.9633636474609375,
          -2.633026123046875,
          -2.463165283203125,
          -1.1796875,
          -5.181121826171875,
          -2.3593597412109375,
          -5.0018310546875,
          -4.3506622314453125,
          -4.1430206298828125,
          -5.2849578857421875,
          -7.2479400634765625,
          -8.569175720214844,
          -8.606941223144531,
          -17.949996948242188,
          -18.336929321289062,
          -15.279197692871094,
          0,
          -0.5001907348632812,
          -3.6522903442382812,
          -1.453369140625,
          -0.7455520629882812,
          -1.8780517578125,
          -1.3118133544921875,
          -3.6145401000976562,
          -6.927085876464844,
          -8.805137634277344,
          -7.01202392578125,
          -6.389137268066406,
          -9.286445617675781,
          -11.296615600585938,
          -13.325668334960938,
          -15.760520935058594,
          -14.8450927734375,
          -11.947799682617188,
          -14.250534057617188,
          0,
          3.7183456420898438,
          -0.22650146484375,
          -2.9728012084960938,
          -4.039222717285156,
          -2.8689804077148438,
          2.4537353515625,
          -0.6983718872070312,
          -1.4816818237304688,
          0.7549972534179688,
          1.3967437744140625,
          4.945213317871094,
          6.096580505371094,
          5.766273498535156,
          2.4726104736328125,
          3.2842254638671875,
          0.509613037109375,
          1.8591690063476562,
          1.9724197387695312,
          2.4159774780273438,
          5.181144714355469,
          3.6805953979492188,
          1.613800048828125,
          0,
          1.745941162109375,
          0.1698760986328125,
          -0.8682327270507812,
          -1.3684158325195312,
          -2.0384750366210938,
          -2.8972854614257812,
          -4.916900634765625,
          -4.4450225830078125,
          -6.3608245849609375,
          -6.049385070800781,
          -5.0867767333984375,
          -3.539031982421875,
          -4.0486602783203125,
          -6.398567199707031,
          -6.511817932128906,
          -10.230171203613281,
          -10.475540161132812,
          -7.474433898925781,
          -9.276985168457031,
          0,
          -2.2744216918945312,
          0.14156341552734375,
          -2.4442977905273438,
          -5.917274475097656,
          -6.068275451660156,
          -5.266090393066406,
          -6.43634033203125,
          -5.133964538574219,
          -3.491851806640625,
          -4.596031188964844,
          -3.1615447998046875,
          -8.654136657714844,
          -4.0202789306640625,
          -1.9996490478515625,
          0.33184814453125,
          -0.765899658203125,
          -2.10650634765625,
          -0.9893264770507812,
          1.6141815185546875,
          0.34156036376953125,
          0,
          2.710357666015625,
          1.0685958862304688,
          1.4863204956054688,
          2.584075927734375,
          0.5148696899414062,
          -2.4675064086914062,
          -5.012725830078125,
          -8.267112731933594,
          -8.704261779785156,
          -5.8578948974609375,
          -6.382484436035156,
          -6.1493377685546875,
          -5.090446472167969,
          -5.177879333496094,
          -4.944732666015625,
          -0.8937454223632812,
          -1.9720611572265625,
          -3.7498321533203125,
          -5.245872497558594,
          -8.3642578125,
          0,
          -1.4960403442382812,
          -0.8160247802734375,
          0.00971221923828125,
          -0.10686492919921875,
          -2.3120651245117188,
          -4.225837707519531,
          -4.6144256591796875,
          -5.129295349121094,
          -2.6229324340820312,
          -2.5355072021484375,
          1.5931854248046875,
          1.5834808349609375,
          -0.39829254150390625,
          2.96295166015625,
          1.2337493896484375,
          -0.39829254150390625,
          0.59259033203125,
          1.039459228515625,
          2.4383621215820312,
          0,
          -2.525787353515625,
          -0.29144287109375,
          1.457183837890625,
          0.748016357421875,
          0.5245895385742188,
          -0.029144287109375,
          2.2149200439453125,
          1.4086151123046875,
          2.0983428955078125,
          1.96234130859375,
          0.39829254150390625,
          -0.8160247802734375,
          -1.2920379638671875,
          -2.108062744140625,
          -5.2070159912109375,
          -6.23675537109375,
          -6.1881866455078125,
          -5.430450439453125,
          -9.277427673339844,
          -8.947128295898438,
          -9.005416870117188,
          -8.325401306152344,
          0,
          -0.6897430419921875,
          0.1845703125,
          1.54461669921875,
          1.2920303344726562,
          3.001800537109375,
          4.828132629394531,
          1.8263397216796875,
          2.26348876953125,
          0.417724609375,
          -0.03885650634765625,
          0.272003173828125,
          -1.0200347900390625,
          -1.59320068359375,
          -2.5354995727539062,
          -4.381278991699219,
          -4.225852966308594,
          -4.721282958984375,
          -2.4480819702148438,
          -3.4001083374023438,
          -2.6520843505859375,
          0,
          3.9829788208007812,
          3.14752197265625,
          2.3509292602539062,
          0.573150634765625,
          0.1068572998046875,
          -0.9034652709960938,
          -1.3891830444335938,
          1.1754608154296875,
          0.6508712768554688,
          2.826934814453125,
          4.93499755859375,
          2.7103652954101562,
          2.885223388671875,
          6.741905212402344,
          6.868202209472656,
          12.026641845703125,
          13.425544738769531,
          13.114677429199219,
          13.376968383789062,
          11.774063110351562,
          0,
          -1.816619873046875,
          -3.060089111328125,
          0.17486572265625,
          1.6806259155273438,
          2.0692062377929688,
          1.66119384765625,
          11.016334533691406,
          13.920989990234375,
          12.619239807128906,
          13.571266174316406,
          14.785591125488281,
          15.523895263671875,
          12.580375671386719,
          12.298660278320312,
          13.386695861816406,
          13.610130310058594,
          14.387290954589844,
          11.812934875488281,
          10.763755798339844,
          14.601020812988281,
          0,
          0.0194244384765625,
          -1.6903457641601562,
          -4.118995666503906,
          -4.0218353271484375,
          -4.070411682128906,
          -4.585289001464844,
          -3.5458221435546875,
          -2.1372146606445312,
          -2.2343597412109375,
          -6.2464752197265625,
          -6.460205078125,
          -7.4899444580078125,
          -7.305366516113281,
          -7.00421142578125,
          -7.800811767578125,
          -8.267112731933594,
          -8.42254638671875,
          -9.90887451171875,
          -7.674522399902344,
          -8.568260192871094,
          0,
          2.8269424438476562,
          2.1177825927734375,
          4.98358154296875,
          7.247077941894531,
          9.170555114746094,
          10.579177856445312,
          12.337516784667969,
          12.658103942871094,
          11.880928039550781,
          12.726104736328125,
          11.356338500976562,
          12.764961242675781,
          12.366661071777344,
          11.861503601074219,
          11.832359313964844,
          9.831153869628906,
          8.966552734375,
          11.764350891113281,
          14.13470458984375,
          0,
          1.8846359252929688,
          -0.38858795166015625,
          -1.2726058959960938,
          -1.156036376953125,
          -2.3509292602539062,
          -2.2634963989257812,
          -3.5749664306640625,
          -2.4772109985351562,
          -2.2052001953125,
          -1.7097702026367188,
          -2.9823760986328125,
          -3.5749664306640625,
          -6.0716094970703125,
          -5.605308532714844,
          -4.876716613769531,
          -7.625946044921875,
          -5.731597900390625,
          -7.004203796386719,
          0,
          0.29143524169921875,
          2.5937957763671875,
          5.343017578125,
          2.5840835571289062,
          3.0892410278320312,
          1.7097625732421875,
          1.19488525390625,
          0.7771682739257812,
          3.7789688110351562,
          1.3308944702148438,
          5.896751403808594,
          4.8475799560546875,
          6.9459228515625,
          8.985984802246094,
          7.781379699707031,
          9.238563537597656,
          8.801406860351562,
          8.762550354003906,
          8.976272583007812,
          9.802009582519531,
          11.502059936523438,
          11.968360900878906,
          0,
          1.4474716186523438,
          0.40801239013671875,
          2.3217926025390625,
          1.0977401733398438,
          0.21372222900390625,
          0.7674560546875,
          1.6806259155273438,
          1.068603515625,
          0.8548812866210938,
          1.2823257446289062,
          0.9520339965820312,
          0.5245895385742188,
          7.412208557128906,
          6.042472839355469,
          6.907066345214844,
          6.829353332519531,
          10.035148620605469,
          8.694541931152344,
          0,
          -0.1165771484375,
          1.2628936767578125,
          -0.378875732421875,
          0.2719879150390625,
          1.2628936767578125,
          0.19427490234375,
          0.3400115966796875,
          -0.7674560546875,
          -0.6923980712890625,
          -0.9689178466796875,
          0.8680267333984375,
          0.334716796875,
          1.598846435546875,
          1.9741363525390625,
          0.99639892578125,
          -2.4207000732421875,
          -3.03302001953125,
          -2.8058700561523438,
          -0.86029052734375,
          -2.015777587890625,
          -1.818267822265625,
          0,
          0.7900848388671875,
          -0.6616973876953125,
          -0.3259124755859375,
          -0.46417236328125,
          1.0271148681640625,
          0.543182373046875,
          1.580169677734375,
          3.081329345703125,
          3.347991943359375,
          4.8096466064453125,
          5.0466766357421875,
          3.7924041748046875,
          2.5875244140625,
          2.903564453125,
          1.2838897705078125,
          0.25677490234375,
          0.82958984375,
          2.073974609375,
          2.2319793701171875,
          4.582489013671875,
          0,
          -0.1481475830078125,
          -2.0937347412109375,
          -1.274017333984375,
          0.3259124755859375,
          1.7480621337890625,
          5.95526123046875,
          9.293380737304688,
          9.678543090820312,
          10.31060791015625,
          10.231597900390625,
          8.34527587890625,
          -0.6123199462890625,
          -0.5234375,
          -2.13323974609375,
          -1.91595458984375,
          -2.1826171875,
          -0.4740447998046875,
          2.2319793701171875,
          1.7776947021484375,
          0,
          -3.1405792236328125,
          -4.1380615234375,
          -3.387481689453125,
          -0.582672119140625,
          -1.7381744384765625,
          -0.8592071533203125,
          1.481414794921875,
          1.244384765625,
          2.5282745361328125,
          1.283905029296875,
          1.017242431640625,
          -2.0245819091796875,
          -1.0172271728515625,
          0.3160552978515625,
          2.054229736328125,
          3.7035369873046875,
          -0.799957275390625,
          1.0567474365234375,
          1.92584228515625,
          3.614654541015625,
          4.1973419189453125,
          3.2591094970703125,
          0,
          -0.5135498046875,
          0.5431976318359375,
          1.738189697265625,
          2.24188232421875,
          0.967864990234375,
          -2.903564453125,
          -2.409759521484375,
          -2.1727294921875,
          -2.913421630859375,
          -2.913421630859375,
          -3.446746826171875,
          -4.6022491455078125,
          -6.94287109375,
          -5.471343994140625,
          -6.16265869140625,
          -10.873542785644531,
          -10.379737854003906,
          -10.113090515136719,
          -8.760055541992188,
          0,
          -0.6123123168945312,
          0.36540985107421875,
          0.98760986328125,
          2.33074951171875,
          1.333282470703125,
          2.6072845458984375,
          3.78253173828125,
          3.06158447265625,
          0.22714996337890625,
          2.1134796142578125,
          1.906097412109375,
          -0.9382171630859375,
          4.7602691650390625,
          2.1134796142578125,
          3.5948944091796875,
          5.0466766357421875,
          2.1233673095703125,
          2.627044677734375,
          2.7949371337890625,
          5.02691650390625,
          5.372589111328125,
          0,
          2.469024658203125,
          2.8640594482421875,
          2.43939208984375,
          4.5232391357421875,
          6.0145263671875,
          6.291046142578125,
          8.908218383789062,
          8.839080810546875,
          11.436492919921875,
          12.28582763671875,
          12.354949951171875,
          13.698104858398438,
          17.006591796875,
          16.216506958007812,
          16.868331909179688,
          17.88555908203125,
          18.626266479492188,
          19.969406127929688,
          22.270538330078125,
          22.75445556640625,
          0,
          -0.8098297119140625,
          -0.720947265625,
          -1.96533203125,
          -0.7407073974609375,
          0.0691375732421875,
          -0.948089599609375,
          -1.8073272705078125,
          -0.3160247802734375,
          -4.0294342041015625,
          -6.508331298828125,
          -5.1256866455078125,
          -4.947906494140625,
          -8.839080810546875,
          -7.8119659423828125,
          -7.2984161376953125,
          -6.824371337890625,
          -4.1380767822265625,
          -5.6886138916015625,
          -5.4318389892578125
         ],
         "xaxis": "x",
         "yaxis": "y"
        }
       ],
       "layout": {
        "barmode": "relative",
        "legend": {
         "tracegroupgap": 0
        },
        "margin": {
         "t": 60
        },
        "template": {
         "data": {
          "bar": [
           {
            "error_x": {
             "color": "#2a3f5f"
            },
            "error_y": {
             "color": "#2a3f5f"
            },
            "marker": {
             "line": {
              "color": "#E5ECF6",
              "width": 0.5
             },
             "pattern": {
              "fillmode": "overlay",
              "size": 10,
              "solidity": 0.2
             }
            },
            "type": "bar"
           }
          ],
          "barpolar": [
           {
            "marker": {
             "line": {
              "color": "#E5ECF6",
              "width": 0.5
             },
             "pattern": {
              "fillmode": "overlay",
              "size": 10,
              "solidity": 0.2
             }
            },
            "type": "barpolar"
           }
          ],
          "carpet": [
           {
            "aaxis": {
             "endlinecolor": "#2a3f5f",
             "gridcolor": "white",
             "linecolor": "white",
             "minorgridcolor": "white",
             "startlinecolor": "#2a3f5f"
            },
            "baxis": {
             "endlinecolor": "#2a3f5f",
             "gridcolor": "white",
             "linecolor": "white",
             "minorgridcolor": "white",
             "startlinecolor": "#2a3f5f"
            },
            "type": "carpet"
           }
          ],
          "choropleth": [
           {
            "colorbar": {
             "outlinewidth": 0,
             "ticks": ""
            },
            "type": "choropleth"
           }
          ],
          "contour": [
           {
            "colorbar": {
             "outlinewidth": 0,
             "ticks": ""
            },
            "colorscale": [
             [
              0,
              "#0d0887"
             ],
             [
              0.1111111111111111,
              "#46039f"
             ],
             [
              0.2222222222222222,
              "#7201a8"
             ],
             [
              0.3333333333333333,
              "#9c179e"
             ],
             [
              0.4444444444444444,
              "#bd3786"
             ],
             [
              0.5555555555555556,
              "#d8576b"
             ],
             [
              0.6666666666666666,
              "#ed7953"
             ],
             [
              0.7777777777777778,
              "#fb9f3a"
             ],
             [
              0.8888888888888888,
              "#fdca26"
             ],
             [
              1,
              "#f0f921"
             ]
            ],
            "type": "contour"
           }
          ],
          "contourcarpet": [
           {
            "colorbar": {
             "outlinewidth": 0,
             "ticks": ""
            },
            "type": "contourcarpet"
           }
          ],
          "heatmap": [
           {
            "colorbar": {
             "outlinewidth": 0,
             "ticks": ""
            },
            "colorscale": [
             [
              0,
              "#0d0887"
             ],
             [
              0.1111111111111111,
              "#46039f"
             ],
             [
              0.2222222222222222,
              "#7201a8"
             ],
             [
              0.3333333333333333,
              "#9c179e"
             ],
             [
              0.4444444444444444,
              "#bd3786"
             ],
             [
              0.5555555555555556,
              "#d8576b"
             ],
             [
              0.6666666666666666,
              "#ed7953"
             ],
             [
              0.7777777777777778,
              "#fb9f3a"
             ],
             [
              0.8888888888888888,
              "#fdca26"
             ],
             [
              1,
              "#f0f921"
             ]
            ],
            "type": "heatmap"
           }
          ],
          "heatmapgl": [
           {
            "colorbar": {
             "outlinewidth": 0,
             "ticks": ""
            },
            "colorscale": [
             [
              0,
              "#0d0887"
             ],
             [
              0.1111111111111111,
              "#46039f"
             ],
             [
              0.2222222222222222,
              "#7201a8"
             ],
             [
              0.3333333333333333,
              "#9c179e"
             ],
             [
              0.4444444444444444,
              "#bd3786"
             ],
             [
              0.5555555555555556,
              "#d8576b"
             ],
             [
              0.6666666666666666,
              "#ed7953"
             ],
             [
              0.7777777777777778,
              "#fb9f3a"
             ],
             [
              0.8888888888888888,
              "#fdca26"
             ],
             [
              1,
              "#f0f921"
             ]
            ],
            "type": "heatmapgl"
           }
          ],
          "histogram": [
           {
            "marker": {
             "pattern": {
              "fillmode": "overlay",
              "size": 10,
              "solidity": 0.2
             }
            },
            "type": "histogram"
           }
          ],
          "histogram2d": [
           {
            "colorbar": {
             "outlinewidth": 0,
             "ticks": ""
            },
            "colorscale": [
             [
              0,
              "#0d0887"
             ],
             [
              0.1111111111111111,
              "#46039f"
             ],
             [
              0.2222222222222222,
              "#7201a8"
             ],
             [
              0.3333333333333333,
              "#9c179e"
             ],
             [
              0.4444444444444444,
              "#bd3786"
             ],
             [
              0.5555555555555556,
              "#d8576b"
             ],
             [
              0.6666666666666666,
              "#ed7953"
             ],
             [
              0.7777777777777778,
              "#fb9f3a"
             ],
             [
              0.8888888888888888,
              "#fdca26"
             ],
             [
              1,
              "#f0f921"
             ]
            ],
            "type": "histogram2d"
           }
          ],
          "histogram2dcontour": [
           {
            "colorbar": {
             "outlinewidth": 0,
             "ticks": ""
            },
            "colorscale": [
             [
              0,
              "#0d0887"
             ],
             [
              0.1111111111111111,
              "#46039f"
             ],
             [
              0.2222222222222222,
              "#7201a8"
             ],
             [
              0.3333333333333333,
              "#9c179e"
             ],
             [
              0.4444444444444444,
              "#bd3786"
             ],
             [
              0.5555555555555556,
              "#d8576b"
             ],
             [
              0.6666666666666666,
              "#ed7953"
             ],
             [
              0.7777777777777778,
              "#fb9f3a"
             ],
             [
              0.8888888888888888,
              "#fdca26"
             ],
             [
              1,
              "#f0f921"
             ]
            ],
            "type": "histogram2dcontour"
           }
          ],
          "mesh3d": [
           {
            "colorbar": {
             "outlinewidth": 0,
             "ticks": ""
            },
            "type": "mesh3d"
           }
          ],
          "parcoords": [
           {
            "line": {
             "colorbar": {
              "outlinewidth": 0,
              "ticks": ""
             }
            },
            "type": "parcoords"
           }
          ],
          "pie": [
           {
            "automargin": true,
            "type": "pie"
           }
          ],
          "scatter": [
           {
            "fillpattern": {
             "fillmode": "overlay",
             "size": 10,
             "solidity": 0.2
            },
            "type": "scatter"
           }
          ],
          "scatter3d": [
           {
            "line": {
             "colorbar": {
              "outlinewidth": 0,
              "ticks": ""
             }
            },
            "marker": {
             "colorbar": {
              "outlinewidth": 0,
              "ticks": ""
             }
            },
            "type": "scatter3d"
           }
          ],
          "scattercarpet": [
           {
            "marker": {
             "colorbar": {
              "outlinewidth": 0,
              "ticks": ""
             }
            },
            "type": "scattercarpet"
           }
          ],
          "scattergeo": [
           {
            "marker": {
             "colorbar": {
              "outlinewidth": 0,
              "ticks": ""
             }
            },
            "type": "scattergeo"
           }
          ],
          "scattergl": [
           {
            "marker": {
             "colorbar": {
              "outlinewidth": 0,
              "ticks": ""
             }
            },
            "type": "scattergl"
           }
          ],
          "scattermapbox": [
           {
            "marker": {
             "colorbar": {
              "outlinewidth": 0,
              "ticks": ""
             }
            },
            "type": "scattermapbox"
           }
          ],
          "scatterpolar": [
           {
            "marker": {
             "colorbar": {
              "outlinewidth": 0,
              "ticks": ""
             }
            },
            "type": "scatterpolar"
           }
          ],
          "scatterpolargl": [
           {
            "marker": {
             "colorbar": {
              "outlinewidth": 0,
              "ticks": ""
             }
            },
            "type": "scatterpolargl"
           }
          ],
          "scatterternary": [
           {
            "marker": {
             "colorbar": {
              "outlinewidth": 0,
              "ticks": ""
             }
            },
            "type": "scatterternary"
           }
          ],
          "surface": [
           {
            "colorbar": {
             "outlinewidth": 0,
             "ticks": ""
            },
            "colorscale": [
             [
              0,
              "#0d0887"
             ],
             [
              0.1111111111111111,
              "#46039f"
             ],
             [
              0.2222222222222222,
              "#7201a8"
             ],
             [
              0.3333333333333333,
              "#9c179e"
             ],
             [
              0.4444444444444444,
              "#bd3786"
             ],
             [
              0.5555555555555556,
              "#d8576b"
             ],
             [
              0.6666666666666666,
              "#ed7953"
             ],
             [
              0.7777777777777778,
              "#fb9f3a"
             ],
             [
              0.8888888888888888,
              "#fdca26"
             ],
             [
              1,
              "#f0f921"
             ]
            ],
            "type": "surface"
           }
          ],
          "table": [
           {
            "cells": {
             "fill": {
              "color": "#EBF0F8"
             },
             "line": {
              "color": "white"
             }
            },
            "header": {
             "fill": {
              "color": "#C8D4E3"
             },
             "line": {
              "color": "white"
             }
            },
            "type": "table"
           }
          ]
         },
         "layout": {
          "annotationdefaults": {
           "arrowcolor": "#2a3f5f",
           "arrowhead": 0,
           "arrowwidth": 1
          },
          "autotypenumbers": "strict",
          "coloraxis": {
           "colorbar": {
            "outlinewidth": 0,
            "ticks": ""
           }
          },
          "colorscale": {
           "diverging": [
            [
             0,
             "#8e0152"
            ],
            [
             0.1,
             "#c51b7d"
            ],
            [
             0.2,
             "#de77ae"
            ],
            [
             0.3,
             "#f1b6da"
            ],
            [
             0.4,
             "#fde0ef"
            ],
            [
             0.5,
             "#f7f7f7"
            ],
            [
             0.6,
             "#e6f5d0"
            ],
            [
             0.7,
             "#b8e186"
            ],
            [
             0.8,
             "#7fbc41"
            ],
            [
             0.9,
             "#4d9221"
            ],
            [
             1,
             "#276419"
            ]
           ],
           "sequential": [
            [
             0,
             "#0d0887"
            ],
            [
             0.1111111111111111,
             "#46039f"
            ],
            [
             0.2222222222222222,
             "#7201a8"
            ],
            [
             0.3333333333333333,
             "#9c179e"
            ],
            [
             0.4444444444444444,
             "#bd3786"
            ],
            [
             0.5555555555555556,
             "#d8576b"
            ],
            [
             0.6666666666666666,
             "#ed7953"
            ],
            [
             0.7777777777777778,
             "#fb9f3a"
            ],
            [
             0.8888888888888888,
             "#fdca26"
            ],
            [
             1,
             "#f0f921"
            ]
           ],
           "sequentialminus": [
            [
             0,
             "#0d0887"
            ],
            [
             0.1111111111111111,
             "#46039f"
            ],
            [
             0.2222222222222222,
             "#7201a8"
            ],
            [
             0.3333333333333333,
             "#9c179e"
            ],
            [
             0.4444444444444444,
             "#bd3786"
            ],
            [
             0.5555555555555556,
             "#d8576b"
            ],
            [
             0.6666666666666666,
             "#ed7953"
            ],
            [
             0.7777777777777778,
             "#fb9f3a"
            ],
            [
             0.8888888888888888,
             "#fdca26"
            ],
            [
             1,
             "#f0f921"
            ]
           ]
          },
          "colorway": [
           "#636efa",
           "#EF553B",
           "#00cc96",
           "#ab63fa",
           "#FFA15A",
           "#19d3f3",
           "#FF6692",
           "#B6E880",
           "#FF97FF",
           "#FECB52"
          ],
          "font": {
           "color": "#2a3f5f"
          },
          "geo": {
           "bgcolor": "white",
           "lakecolor": "white",
           "landcolor": "#E5ECF6",
           "showlakes": true,
           "showland": true,
           "subunitcolor": "white"
          },
          "hoverlabel": {
           "align": "left"
          },
          "hovermode": "closest",
          "mapbox": {
           "style": "light"
          },
          "paper_bgcolor": "white",
          "plot_bgcolor": "#E5ECF6",
          "polar": {
           "angularaxis": {
            "gridcolor": "white",
            "linecolor": "white",
            "ticks": ""
           },
           "bgcolor": "#E5ECF6",
           "radialaxis": {
            "gridcolor": "white",
            "linecolor": "white",
            "ticks": ""
           }
          },
          "scene": {
           "xaxis": {
            "backgroundcolor": "#E5ECF6",
            "gridcolor": "white",
            "gridwidth": 2,
            "linecolor": "white",
            "showbackground": true,
            "ticks": "",
            "zerolinecolor": "white"
           },
           "yaxis": {
            "backgroundcolor": "#E5ECF6",
            "gridcolor": "white",
            "gridwidth": 2,
            "linecolor": "white",
            "showbackground": true,
            "ticks": "",
            "zerolinecolor": "white"
           },
           "zaxis": {
            "backgroundcolor": "#E5ECF6",
            "gridcolor": "white",
            "gridwidth": 2,
            "linecolor": "white",
            "showbackground": true,
            "ticks": "",
            "zerolinecolor": "white"
           }
          },
          "shapedefaults": {
           "line": {
            "color": "#2a3f5f"
           }
          },
          "ternary": {
           "aaxis": {
            "gridcolor": "white",
            "linecolor": "white",
            "ticks": ""
           },
           "baxis": {
            "gridcolor": "white",
            "linecolor": "white",
            "ticks": ""
           },
           "bgcolor": "#E5ECF6",
           "caxis": {
            "gridcolor": "white",
            "linecolor": "white",
            "ticks": ""
           }
          },
          "title": {
           "x": 0.05
          },
          "xaxis": {
           "automargin": true,
           "gridcolor": "white",
           "linecolor": "white",
           "ticks": "",
           "title": {
            "standoff": 15
           },
           "zerolinecolor": "white",
           "zerolinewidth": 2
          },
          "yaxis": {
           "automargin": true,
           "gridcolor": "white",
           "linecolor": "white",
           "ticks": "",
           "title": {
            "standoff": 15
           },
           "zerolinecolor": "white",
           "zerolinewidth": 2
          }
         }
        },
        "xaxis": {
         "anchor": "y",
         "domain": [
          0,
          1
         ],
         "title": {
          "text": "price"
         }
        },
        "yaxis": {
         "anchor": "x",
         "domain": [
          0,
          1
         ],
         "title": {
          "text": "count"
         }
        }
       }
      },
      "text/html": [
       "<div>                        <script type=\"text/javascript\">window.PlotlyConfig = {MathJaxConfig: 'local'};</script>\n",
       "        <script charset=\"utf-8\" src=\"https://cdn.plot.ly/plotly-2.35.2.min.js\"></script>                <div id=\"975aca88-ece4-4ebd-9649-46130e805dcb\" class=\"plotly-graph-div\" style=\"height:100%; width:100%;\"></div>            <script type=\"text/javascript\">                                    window.PLOTLYENV=window.PLOTLYENV || {};                                    if (document.getElementById(\"975aca88-ece4-4ebd-9649-46130e805dcb\")) {                    Plotly.newPlot(                        \"975aca88-ece4-4ebd-9649-46130e805dcb\",                        [{\"alignmentgroup\":\"True\",\"bingroup\":\"x\",\"hovertemplate\":\"price=%{x}\\u003cbr\\u003ecount=%{y}\\u003cextra\\u003e\\u003c\\u002fextra\\u003e\",\"legendgroup\":\"\",\"marker\":{\"color\":\"#636efa\",\"pattern\":{\"shape\":\"\"}},\"name\":\"\",\"offsetgroup\":\"\",\"orientation\":\"v\",\"showlegend\":false,\"x\":[0.0,-0.4840240478515625,-0.4089202880859375,-0.6092071533203125,0.45063018798828125,-0.24202728271484375,-1.1432876586914062,-1.577239990234375,-1.77752685546875,-1.5855941772460938,-1.7524871826171875,-2.1613998413085938,-2.9207916259765625,-4.0474090576171875,-4.389549255371094,-6.2087860107421875,-5.966773986816406,-6.133689880371094,-6.667778015136719,-6.083610534667969,-7.085029602050781,0.0,0.19193649291992188,-0.050060272216796875,0.9930839538574219,1.3352279663085938,1.018096923828125,2.4952011108398438,2.4367752075195312,3.404815673828125,4.2226409912109375,4.306083679199219,3.7052459716796875,3.630126953125,3.4131622314453125,3.6801986694335938,3.93890380859375,3.7052459716796875,3.8804855346679688,4.3394622802734375,0.0,1.0181121826171875,0.458984375,1.2768096923828125,0.3755340576171875,-0.31710052490234375,-0.20027923583984375,-0.7844314575195312,-2.3950424194335938,-2.01116943359375,-0.45897674560546875,0.24201202392578125,-0.35048675537109375,-0.6425628662109375,-0.3004150390625,0.14188385009765625,0.801116943359375,1.326873779296875,1.4771041870117188,2.26153564453125,2.979217529296875,0.0,-0.6509170532226562,-0.8261566162109375,-0.9930648803710938,-1.9193649291992188,-1.09320068359375,-0.27538299560546875,-1.3602371215820312,-2.6537399291992188,-1.418670654296875,-1.4770736694335938,-0.1251678466796875,-1.6690216064453125,-1.418670654296875,-1.7107315063476562,-1.8442611694335938,-2.261505126953125,-3.2462539672851562,-2.8957443237304688,-1.9277114868164062,-0.6509170532226562,0.0,-0.51739501953125,-1.7775039672851562,-2.19476318359375,-1.9777984619140625,-3.5633773803710938,-4.1558685302734375,-3.2045364379882812,-3.5133056640625,-3.221221923828125,-4.047397613525391,-4.0223541259765625,-4.347816467285156,-4.856861114501953,-4.256019592285156,-4.216926574707031,-3.9109535217285156,-2.7551345825195312,-2.4491653442382812,-2.287689208984375,-2.2706832885742188,0.0,0.48443603515625,-0.3399505615234375,-0.02548980712890625,-0.4419364929199219,-0.62890625,-0.6374015808105469,-0.7223892211914062,-0.365447998046875,0.16149139404296875,0.951873779296875,1.1728515625,2.0567245483398438,2.1502151489257812,1.6487808227539062,1.606292724609375,1.4108200073242188,1.164337158203125,0.7139053344726562,0.96038818359375,1.036865234375,0.0,0.08499908447265625,0.7224197387695312,1.3343353271484375,0.45044708251953125,0.943389892578125,0.3314666748046875,0.3314666748046875,1.4193191528320312,0.6119384765625,1.9037551879882812,2.787628173828125,3.340057373046875,3.2550735473632812,3.6884994506835938,4.164451599121094,3.739501953125,2.787628173828125,2.6176681518554688,2.4731674194335938,2.4731674194335938,0.9263839721679688,0.0,-0.2379608154296875,-0.09348297119140625,-0.3059539794921875,-0.7053985595703125,-0.450439453125,0.19547271728515625,-0.27196502685546875,-0.29744720458984375,-0.28046417236328125,-0.9263687133789062,-0.11048126220703125,0.4589385986328125,-0.00850677490234375,0.467437744140625,-0.15297698974609375,0.9008865356445312,1.1898345947265625,1.5127944946289062,0.39943695068359375,0.4419403076171875,0.0,-0.6884002685546875,-0.9688720703125,-0.5099258422851562,-0.24645233154296875,-0.7903900146484375,-0.66290283203125,-0.764892578125,-0.943359375,-0.7733917236328125,-1.0113601684570312,-1.7167587280273438,-1.0113601684570312,-3.8839645385742188,-3.4250221252441406,-4.147426605224609,-3.951946258544922,-5.252269744873047,-4.5808563232421875,-5.175788879394531,-5.422248840332031,0.0,0.12747955322265625,-0.152984619140625,0.0424957275390625,-0.7224044799804688,-1.7422714233398438,-1.9887313842773438,-2.1077194213867188,-2.558155059814453,-2.2522010803222656,-2.736621856689453,-4.087940216064453,-1.9292488098144531,-4.7423553466796875,-4.4109039306640625,-6.051177978515625,-4.334407806396484,-4.7423553466796875,-4.971820831298828,-3.6375045776367188,-4.325916290283203,-4.198436737060547,-2.6601409912109375,0.0,-0.21247100830078125,0.042491912841796875,0.2719612121582031,-0.27196502685546875,0.09347915649414062,0.12747573852539062,-0.6119117736816406,-0.4589385986328125,-0.24646759033203125,0.297454833984375,1.21533203125,1.3173103332519531,1.232330322265625,1.861236572265625,2.7111282348632812,3.0850830078125,3.357044219970703,2.6771316528320312,0.0,-0.4249534606933594,-0.977386474609375,-1.4278182983398438,-0.9348831176757812,-0.8923912048339844,-0.8158988952636719,-1.7932777404785156,-0.5354347229003906,-1.9972343444824219,-3.1020851135253906,-2.8131256103515625,-2.082225799560547,-0.3824653625488281,-0.3484687805175781,-0.13599014282226562,0.04248046875,0.5269279479980469,0.7223854064941406,0.39943695068359375,-0.3824653625488281,-1.0198745727539062,0.0,-2.413665771484375,-3.7054901123046875,-4.206932067871094,-3.323047637939453,-4.257911682128906,-1.9887351989746094,-2.6771392822265625,-2.609142303466797,-2.6856307983398438,-2.490154266357422,-5.507244110107422,-5.0653076171875,-4.835834503173828,-4.691364288330078,-3.348541259765625,-3.858470916748047,-4.9718170166015625,-3.586505889892578,-3.9774513244628906,0.0,1.21533203125,0.37395477294921875,1.4957962036132812,-0.23796463012695312,-0.5439262390136719,0.3229560852050781,-0.0934906005859375,1.8187522888183594,1.8187522888183594,1.8102455139160156,1.7082633972167969,1.6402740478515625,2.2776870727539062,2.320178985595703,2.481658935546875,2.7451324462890625,2.4646644592285156,2.7536277770996094,0.0,-0.5949211120605469,-1.0453681945800781,-0.9603767395019531,-2.2351951599121094,-2.2351951599121094,-3.569507598876953,-3.3315467834472656,-2.5666542053222656,-2.575145721435547,-1.3853187561035156,-1.7847671508789062,-0.11899185180664062,-0.6799201965332031,1.4022979736328125,1.7762527465820312,2.056713104248047,0.8498802185058594,0.5439224243164062,1.2153358459472656,1.3683090209960938,0.9008674621582031,0.0,0.2974433898925781,0.781890869140625,0.4589271545410156,0.4419288635253906,0.4844322204589844,0.6544036865234375,0.33144378662109375,0.8073806762695312,0.8073806762695312,0.4164314270019531,-0.5779304504394531,-0.07649993896484375,1.47027587890625,1.7167587280273438,2.0482177734375,2.354167938232422,3.3825111389160156,3.5100059509277344,3.238048553466797,2.7875938415527344,0.0,-0.16147613525390625,-1.6402854919433594,-1.4278068542480469,-0.9263763427734375,-0.3314666748046875,-0.7733993530273438,-0.9603805541992188,-0.5779190063476562,0.7393875122070312,0.365447998046875,0.35507965087890625,0.3291778564453125,0.415496826171875,0.5018310546875,-0.4390869140625,-1.4835968017578125,-0.8879547119140625,-0.8275375366210938,-1.1382980346679688,0.0,0.707855224609375,1.5538177490234375,0.8459625244140625,-0.18991851806640625,-0.3798255920410156,-0.9754447937011719,0.19855117797851562,0.2935028076171875,-0.267608642578125,-1.1998939514160156,-0.7769012451171875,-0.8373451232910156,-0.5179405212402344,-1.0358734130859375,0.8200759887695312,0.5352096557617188,-0.3021354675292969,-0.31076812744140625,-0.768280029296875,-2.7450714111328125,-3.1335220336914062,0.0,-0.3539237976074219,-1.8214187622070312,-1.3207473754882812,-1.6315040588378906,-0.4834136962890625,1.6401329040527344,1.9250030517578125,2.4515724182128906,3.2630233764648438,3.651458740234375,3.2802810668945312,3.5306167602539062,2.09765625,1.8904800415039062,2.632854461669922,1.7782478332519531,1.1394691467285156,1.6315116882324219,1.4847564697265625,1.0963134765625,1.1221923828125,0.0,0.2589683532714844,0.6301536560058594,0.5524673461914062,0.3280181884765625,1.2603111267089844,0.0,-0.0345306396484375,-0.8114356994628906,-0.8632392883300781,-1.2603225708007812,-1.6056022644042969,-1.2516937255859375,-3.038585662841797,-3.3752365112304688,-5.3088836669921875,-4.437015533447266,-4.160778045654297,-3.1594276428222656,-3.591045379638672,-3.763690948486328,0.0,0.46614837646484375,0.8459701538085938,-0.74237060546875,0.6560630798339844,-0.45751190185546875,0.33666229248046875,0.4057197570800781,0.18128585815429688,1.1221961975097656,1.1912651062011719,1.277587890625,-0.5438270568847656,-0.4316215515136719,-1.8904685974121094,-1.8214149475097656,-1.9077415466308594,-1.5020217895507812,-1.9163665771484375,-1.4070587158203125,-0.690582275390625,0.0,1.4157028198242188,2.1667137145996094,2.7278060913085938,2.7882423400878906,2.9349937438964844,3.6428375244140625,3.703266143798828,7.026706695556641,7.441062927246094,8.580520629882812,9.650920867919922,9.150257110595703,9.754520416259766,10.36740493774414,11.101146697998047,11.360111236572266,11.411922454833984,11.118427276611328,11.973011016845703,12.050724029541016,12.560009002685547,0.0,0.3280181884765625,-0.6128997802734375,0.0949554443359375,-0.9063949584960938,-0.8632354736328125,-1.329376220703125,-0.4316253662109375,-0.6042709350585938,-1.6228790283203125,-1.5624618530273438,-1.4675064086914062,-0.38845062255859375,0.2762298583984375,-0.0604400634765625,-0.6388015747070312,-1.0358810424804688,-0.7251205444335938,-0.68194580078125,-0.7251205444335938,0.0,-0.509307861328125,-1.0617752075195312,-0.6387939453125,-0.388458251953125,-0.7164688110351562,-1.2516860961914062,-1.1653594970703125,-2.1667098999023438,-1.9336395263671875,-1.2603225708007812,-1.070404052734375,-1.1308441162109375,-1.3811569213867188,-0.8977584838867188,-0.5352096557617188,0.07769012451171875,0.28487396240234375,0.509307861328125,1.0272445678710938,0.3712005615234375,-0.5352096557617188,0.0,-0.14675140380859375,0.44023895263671875,0.0604248046875,-0.207183837890625,1.2257843017578125,2.77960205078125,1.1135711669921875,2.2271347045898438,-0.207183837890625,1.0358657836914062,0.28485870361328125,0.7337417602539062,0.9754486083984375,1.0099716186523438,1.5538101196289062,1.5106658935546875,0.48340606689453125,2.2961959838867188,0.0,-1.71783447265625,-0.5438385009765625,-1.2689437866210938,-3.7118911743164062,-4.652824401855469,-4.1607666015625,-4.100349426269531,-4.670082092285156,-5.196659088134766,-3.41839599609375,-2.5292739868164062,-2.5465316772460938,-1.786895751953125,-1.8127822875976562,-2.5206375122070312,-3.168060302734375,-1.3984375,-2.8314056396484375,-3.7636947631835938,0.0,-0.17266082763671875,-1.0704193115234375,-0.8373489379882812,-1.251708984375,-1.35528564453125,-0.7682952880859375,-0.906402587890625,0.6387863159179688,0.7337417602539062,1.2171478271484375,1.86456298828125,1.7005615234375,1.7264480590820312,1.4761199951171875,1.42431640625,1.3638916015625,1.3207244873046875,2.002685546875,1.9767913818359375,2.3997726440429688,2.1667022705078125,0.0,-0.16400909423828125,-1.6228790283203125,-0.46614837646484375,-2.123565673828125,-2.6069564819335938,-2.4429550170898438,-0.9927139282226562,-1.2085189819335938,-0.604278564453125,-1.0531463623046875,-0.336669921875,0.7769088745117188,0.7078475952148438,0.3366546630859375,0.4057159423828125,0.189910888671875,-0.19855499267578125,1.113555908203125,-0.310760498046875,-0.9581832885742188,0.0,-1.0617752075195312,-1.968170166015625,-2.3134613037109375,-2.0890121459960938,-1.2430572509765625,-0.7250747680664062,-1.3659515380859375,-1.0235671997070312,-1.2167205810546875,-0.514373779296875,-1.278167724609375,-0.7865371704101562,-1.41864013671875,-0.6109466552734375,-0.40903472900390625,0.9956588745117188,1.83843994140625,2.452972412109375,2.2686233520507812,2.3300704956054688,0.0,-0.25458526611328125,-0.0351104736328125,0.10536956787109375,0.60577392578125,0.27215576171875,-0.41262054443359375,-2.43182373046875,-3.88037109375,-4.47735595703125,-4.723182678222656,-4.398353576660156,-3.7838134765625,-2.7390975952148438,-1.5714569091796875,-2.0894241333007812,-0.12290191650390625,-6.382438659667969,-8.068050384521484,-6.461463928222656,-5.364067077636719,-5.434295654296875,0.0,-0.7111053466796875,-0.22824859619140625,-0.33361053466796875,1.4310073852539062,2.6776580810546875,2.9322509765625,2.739105224609375,3.7223739624023438,3.5116806030273438,4.0559844970703125,3.8189468383789062,7.673004150390625,8.103195190429688,8.322669982910156,8.533370971679688,9.095245361328125,9.81512451171875,10.157516479492188,10.90374755859375,0.0,-0.6584396362304688,-0.9920501708984375,-1.1500778198242188,-0.9393844604492188,-1.23785400390625,0.0,0.34238433837890625,0.38628387451171875,0.21947479248046875,0.6321029663085938,0.403839111328125,0.509185791015625,0.6760025024414062,0.7901229858398438,0.2458038330078125,0.43895721435546875,0.07022857666015625,0.0965728759765625,-0.0087890625,-0.0702362060546875,1.2817535400390625,0.6057662963867188,0.0,1.02716064453125,1.6943893432617188,2.0631103515625,0.9393844604492188,-0.7286758422851562,0.25460052490234375,-0.28094482421875,-0.131683349609375,0.17559051513671875,-1.4134445190429688,-0.33361053466796875,0.5004196166992188,1.6241455078125,3.41510009765625,2.6952133178710938,1.9928741455078125,2.2738113403320312,3.1692962646484375,0.9393844604492188,2.581085205078125,0.0,-0.28094482421875,0.06145477294921875,0.03511810302734375,-1.1588516235351562,-0.7023239135742188,-2.00164794921875,-3.221954345703125,-3.2043991088867188,-4.17889404296875,-3.985748291015625,-2.835662841796875,-3.4502105712890625,-3.169281005859375,-1.817291259765625,-2.247467041015625,-2.2650375366210938,-2.7478790283203125,-2.835662841796875,-2.633758544921875,-2.6776504516601562,0.0,-0.21949005126953125,-1.3958969116210938,-0.8340377807617188,0.3599395751953125,0.1404571533203125,-0.28972625732421875,-1.7119598388671875,-2.7917861938476562,-4.117439270019531,-3.91552734375,-3.5643539428710938,-3.3712158203125,-2.7039871215820312,-1.79974365234375,-0.7901229858398438,-1.8963165283203125,-0.6057662963867188,-1.527587890625,-1.5627059936523438,-2.7039871215820312,0.0,0.0087738037109375,1.0710525512695312,0.948150634765625,2.4845123291015625,2.0455551147460938,2.2123489379882812,2.2386932373046875,3.0990524291992188,2.6337432861328125,2.43182373046875,2.7215499877929688,2.9497909545898438,3.6345748901367188,3.5467910766601562,3.336090087890625,3.3185272216796875,3.4151077270507812,3.30975341796875,4.038414001464844,3.9681777954101562,0.0,0.31604766845703125,1.3607559204101562,1.9050674438476562,2.6864166259765625,2.0455398559570312,2.186004638671875,2.7127532958984375,2.75665283203125,2.9322280883789062,2.677642822265625,2.572296142578125,2.7215347290039062,2.6337432861328125,2.9234466552734375,4.3193511962890625,3.9681777954101562,4.2315521240234375,4.415924072265625,4.573944091796875,0.0,1.0183792114257812,1.5890121459960938,0.47406768798828125,1.0973739624023438,0.9481430053710938,0.8779067993164062,0.8954696655273438,1.5977935791015625,1.5451202392578125,1.527557373046875,1.7909317016601562,1.5363388061523438,2.1421051025390625,2.8971023559570312,3.0112457275390625,2.3352432250976562,2.2035675048828125,2.1684417724609375,0.0,-0.0175628662109375,0.1404571533203125,-0.34239959716796875,-0.40384674072265625,-0.26337432861328125,0.07900238037109375,0.6145401000976562,0.5618743896484375,0.1931304931640625,1.3695526123046875,2.5108413696289062,2.5284042358398438,3.1868438720703125,2.22113037109375,2.7829971313476562,2.9761428833007812,2.9936981201171875,2.5196151733398438,3.52044677734375,3.4502182006835938,3.011260986328125,3.2395172119140625,0.0,0.22826385498046875,-0.7286529541015625,-0.8252334594726562,-0.6057662963867188,-0.7198867797851562,-1.0096054077148438,-0.7637786865234375,-1.78216552734375,-1.2554168701171875,-1.044708251953125,-1.01837158203125,-0.9305877685546875,-1.0622787475585938,2.7830123901367188,3.4414443969726562,1.7909622192382812,2.1860122680664062,1.7295074462890625,0.0,0.37751007080078125,-0.04389190673828125,1.2466506958007812,2.5810775756835938,2.0806655883789062,2.3967132568359375,2.1509017944335938,2.2318344116210938,3.316864013671875,3.441375732421875,4.490837097167969,3.797119140625,3.8149032592773438,4.837684631347656,5.424659729003906,5.904930114746094,6.180625915527344,6.37628173828125,5.922706604003906,6.207313537597656,7.043296813964844,0.0,1.3162460327148438,0.9960784912109375,0.46245574951171875,0.320159912109375,0.3646240234375,-0.9427337646484375,-3.14837646484375,-1.9032516479492188,-1.5386276245117188,-2.58807373046875,-1.1828765869140625,-0.4446868896484375,-1.4141006469726562,-0.7292938232421875,-0.0533905029296875,0.320159912109375,-0.06226348876953125,-0.8360214233398438,-0.19567108154296875,-2.8815689086914062,-2.1789779663085938,0.0,0.48024749755859375,-0.364654541015625,0.15118408203125,1.0583419799804688,0.755950927734375,1.565277099609375,0.9516143798828125,1.6008453369140625,1.5385971069335938,1.191741943359375,2.187835693359375,2.4368515014648438,1.067230224609375,0.5425033569335938,0.7025985717773438,1.938812255859375,1.7787322998046875,2.6503143310546875,2.463531494140625,0.0,-0.6403350830078125,0.09783935546875,0.2668304443359375,-0.40909576416015625,-0.5869522094726562,-1.218414306640625,-2.8904190063476562,-2.3123397827148438,-1.2095184326171875,-1.0405502319335938,-0.8004150390625,-2.2322998046875,-1.992156982421875,-1.8943405151367188,-1.467437744140625,-1.3340301513671875,-2.1789321899414062,-1.7253494262695312,-1.5030059814453125,-2.027740478515625,-2.2500762939453125,-1.876556396484375,0.0,-0.5158233642578125,0.6492538452148438,2.3746109008789062,2.632537841796875,4.313438415527344,4.091094970703125,3.9665908813476562,3.4329605102539062,3.9132156372070312,4.197822570800781,4.437950134277344,4.055511474609375,3.8153915405273438,4.384590148925781,3.2106246948242188,2.2945709228515625,2.347930908203125,3.0772018432617188,3.8331756591796875,0.0,0.33795928955078125,-0.391326904296875,0.320159912109375,0.36463165283203125,1.5563812255859375,1.591949462890625,1.8676681518554688,1.8587722778320312,1.9210281372070312,1.1383895874023438,0.693695068359375,1.0761260986328125,2.5257949829101562,1.3073577880859375,1.565277099609375,1.5474929809570312,1.95660400390625,2.5257949829101562,3.19281005859375,2.8815536499023438,3.2372894287109375,0.0,-0.667022705078125,-1.2095413208007812,-1.1383895874023438,-1.8231964111328125,-1.4852447509765625,-3.2284011840820312,-3.2728805541992188,-3.4685287475585938,-2.8370819091796875,-3.0149612426757812,-2.0722198486328125,-2.2412185668945312,-1.9921875,-0.87158203125,-2.1522674560546875,0.12451171875,-0.47137451171875,-0.667022705078125,-2.9349136352539062,-2.596954345703125,0.0,-0.3023834228515625,-0.4268951416015625,0.37352752685546875,0.5691986083984375,0.684814453125,0.2223358154296875,0.7915267944335938,0.99609375,1.7965316772460938,2.2234115600585938,3.6819686889648438,3.0416183471679688,1.2273178100585938,0.9782943725585938,0.7114944458007812,0.5158309936523438,1.1739654541015625,0.5514068603515625,0.5158309936523438,0.0,0.818206787109375,2.3656997680664062,3.5040969848632812,2.1433563232421875,1.5741806030273438,0.42688751220703125,-2.445770263671875,-2.0099716186523438,-1.5208282470703125,-1.0672454833984375,-0.640350341796875,0.7203750610351562,0.34683990478515625,1.6720046997070312,1.7609329223632812,0.40019989013671875,1.9121322631835938,1.02276611328125,-1.40521240234375,0.7648468017578125,0.0,-2.223419189453125,-5.140533447265625,-2.9260101318359375,-5.8342437744140625,-8.884773254394531,-8.591270446777344,-7.915367126464844,-7.870887756347656,-5.798675537109375,-5.416236877441406,-6.0032196044921875,-6.599090576171875,-7.470680236816406,-6.679145812988281,-6.0032196044921875,-5.638580322265625,-6.74139404296875,-6.3589630126953125,0.0,0.631439208984375,2.3123550415039062,2.7392578125,5.256172180175781,5.638572692871094,6.332298278808594,6.207794189453125,4.9982452392578125,5.407356262207031,5.771995544433594,4.9093017578125,3.7709197998046875,2.5791702270507812,2.7570419311523438,1.7253799438476562,0.4268951416015625,2.51690673828125,0.9160385131835938,1.7609481811523438,2.8104095458984375,0.0,0.33795928955078125,1.0494461059570312,1.9121475219726562,1.8409805297851562,3.4507369995117188,3.9576873779296875,3.2728652954101562,4.10888671875,4.304534912109375,4.1444549560546875,5.469612121582031,5.087181091308594,4.07330322265625,2.410186767578125,2.39239501953125,4.63360595703125,4.980461120605469,5.860931396484375,7.168296813964844,6.705833435058594,0.0,0.23123931884765625,1.262908935546875,2.0455398559570312,2.0188522338867188,2.7392425537109375,2.9793853759765625,4.215606689453125,3.9665756225585938,3.0861053466796875,1.7075881958007812,2.1700668334960938,2.51690673828125,2.8934555053710938,3.3268814086914062,2.7760696411132812,3.2456130981445312,3.6068115234375,3.6068115234375,0.2296600341796875,2.13494873046875,2.48712158203125,0.0,0.7946090698242188,1.7517776489257812,2.8534164428710938,2.8895339965820312,4.532958984375,5.670707702636719,5.833251953125,6.1131744384765625,6.9077911376953125,6.7271881103515625,5.18310546875,4.316230773925781,4.388465881347656,3.801544189453125,3.70220947265625,2.2935562133789062,1.336395263671875,1.0022964477539062,-0.46956634521484375,1.7427597045898438,0.0,-0.1264190673828125,1.0203628540039062,1.6343841552734375,3.6660919189453125,3.9279556274414062,2.2574539184570312,3.7202835083007812,4.144683837890625,4.7406463623046875,5.706825256347656,5.995780944824219,1.8872299194335938,0.9752197265625,1.3454360961914062,1.8601303100585938,3.5667572021484375,3.9550399780273438,3.3681106567382812,1.3093109130859375,0.650146484375,0.0,-0.34313201904296875,-0.21671295166015625,-0.6411209106445312,-0.32508087158203125,0.06320953369140625,-0.23476409912109375,-2.7902069091796875,-1.6705093383789062,-1.6073074340820312,-2.4651336669921875,0.1173858642578125,0.8578414916992188,1.5802154541015625,1.8330535888671875,2.8263320922851562,3.015960693359375,4.469764709472656,5.6526641845703125,5.490119934082031,5.508201599121094,4.767738342285156,3.4222946166992188,0.0,-2.6818389892578125,-2.7540817260742188,-1.6795272827148438,-0.1083526611328125,0.8217239379882812,2.4109725952148438,2.519317626953125,2.7270126342773438,1.2732086181640625,1.7156753540039062,1.0023193359375,1.5802154541015625,2.9437179565429688,3.3049087524414062,7.431541442871094,7.034217834472656,6.3028106689453125,4.171775817871094,0.0,-0.9571609497070312,-0.45149993896484375,-1.0926132202148438,-2.8714828491210938,-5.36370849609375,-3.512603759765625,-9.26458740234375,-9.354888916015625,-7.892051696777344,-9.047874450683594,-5.282447814941406,-6.754295349121094,-14.682464599609375,-12.867485046386719,-13.228668212890625,-14.023292541503906,-17.969322204589844,-15.10687255859375,-16.127235412597656,-17.147605895996094,-15.964706420898438,-14.45672607421875,0.0,0.8668594360351562,0.8578414916992188,0.2076873779296875,2.5464096069335938,0.8487930297851562,1.4808883666992188,-4.7406463623046875,-2.654754638671875,-2.5644683837890625,-1.0745468139648438,-1.869171142578125,-4.596168518066406,-6.040931701660156,-4.659370422363281,-5.128929138183594,-3.5487136840820312,-4.343330383300781,-1.5892333984375,-2.41998291015625,-2.6999053955078125,0.0,-2.1490936279296875,-3.4132614135742188,-4.126617431640625,-3.0611038208007812,-3.3681259155273438,-1.7608108520507812,-1.6524581909179688,-3.8828201293945312,-5.119903564453125,-4.70452880859375,-4.6774444580078125,-4.686470031738281,-8.26226806640625,-9.291664123535156,-6.239601135253906,-5.68878173828125,-5.4991455078125,-5.18310546875,0.0,-3.3590927124023438,-0.39731597900390625,0.4785614013671875,1.8872146606445312,3.133331298828125,3.7563934326171875,2.5283355712890625,1.7427597045898438,2.9346771240234375,2.7721481323242188,4.01824951171875,5.923545837402344,3.7473678588867188,4.442665100097656,5.6165313720703125,6.167350769042969,7.0071258544921875,3.1694564819335938,3.0159530639648438,3.8286209106445312,0.0,0.23476409912109375,2.09490966796875,1.191925048828125,-0.44246673583984375,0.072235107421875,0.12641143798828125,0.6140213012695312,1.1829147338867188,1.7969284057617188,2.5915451049804688,2.5193023681640625,2.6276702880859375,2.7360382080078125,3.946014404296875,3.0520706176757812,3.2687835693359375,2.76312255859375,2.8714828491210938,0.0,-0.9571609497070312,-0.3702239990234375,-0.7133560180664062,-1.8330459594726562,-0.3702239990234375,-0.5959625244140625,-0.3341064453125,0.43343353271484375,1.0294036865234375,3.71124267578125,3.3952178955078125,4.569091796875,5.553337097167969,5.4630279541015625,3.0159530639648438,2.9076004028320312,5.011543273925781,4.6774444580078125,5.264373779296875,6.393104553222656,0.0,-0.00902557373046875,0.550811767578125,0.1173858642578125,-1.0926132202148438,-0.80364990234375,-4.9212493896484375,-3.2055892944335938,-3.1514053344726562,-3.160430908203125,-2.7269973754882812,-4.171775817871094,-3.1694564819335938,-2.5734939575195312,-1.8330459594726562,-0.9210281372070312,11.9735107421875,11.946434020996094,10.528762817382812,11.946434020996094,11.774864196777344,0.0,-1.6975936889648438,-0.41536712646484375,-1.3003082275390625,-3.964080810546875,-3.2146072387695312,-3.1514053344726562,-1.9052886962890625,-4.171775817871094,-2.4019393920898438,-1.5260467529296875,2.71722412109375,1.1154708862304688,-0.870697021484375,0.7035903930664062,2.3419418334960938,0.4198455810546875,1.2527618408203125,-0.12931060791015625,-1.7310638427734375,-1.117828369140625,-2.8019485473632812,0.0,2.7367019653320312,3.1302719116210938,3.340789794921875,6.223930358886719,6.031707763671875,5.070671081542969,5.006599426269531,5.464241027832031,4.402519226074219,5.1439056396484375,8.173492431640625,8.237556457519531,10.580673217773438,10.534927368164062,11.065780639648438,9.308425903320312,10.242027282714844,10.836959838867188,12.777359008789062,0.0,0.9610443115234375,1.7207107543945312,-0.12813568115234375,0.16474151611328125,-0.01833343505859375,-0.585784912109375,-0.8054733276367188,-1.4003753662109375,-1.0708847045898438,-2.910614013671875,-3.7343597412109375,-9.958297729492188,-12.511947631835938,-12.328880310058594,-11.596664428710938,-9.784400939941406,-11.816329956054688,-10.351875305175781,-10.864425659179688,-14.003860473632812,-13.976394653320312,0.0,-1.272247314453125,-3.9723358154296875,-4.960838317871094,-2.3797378540039062,-1.418701171875,-3.0387420654296875,-3.6336822509765625,-1.958709716796875,-5.6747589111328125,-5.409324645996094,-3.7435150146484375,-3.0845184326171875,-4.6496429443359375,-1.6749801635742188,-3.2950210571289062,-5.079833984375,-3.90826416015625,-2.8556900024414062,-4.265220642089844,-2.919769287109375,-3.5879135131835938,0.0,2.0502395629882812,4.5672760009765625,3.3224868774414062,2.9746780395507812,2.2607498168945312,1.4827651977539062,2.3522796630859375,0.5949325561523438,-0.7322235107421875,1.5559844970703125,1.253936767578125,1.3729248046875,0.9976730346679688,0.5400238037109375,0.3386688232421875,-0.9610443115234375,-0.5949249267578125,-0.796295166015625,-0.4027252197265625,0.0,-3.1943359375,-1.8671722412109375,-1.6291961669921875,-2.3980331420898438,-3.88995361328125,-1.0068130493164062,-1.7390289306640625,8.2833251953125,8.146026611328125,9.1802978515625,10.589828491210938,10.480018615722656,10.965110778808594,14.2418212890625,13.408912658691406,13.280776977539062,13.399749755859375,13.472976684570312,14.296737670898438,13.353996276855469,14.717758178710938,14.122833251953125,0.0,0.7139358520507812,-0.11899566650390625,1.2997055053710938,1.272247314453125,2.51702880859375,2.8282241821289062,1.5376815795898438,0.558319091796875,0.6590118408203125,1.6383514404296875,1.3637771606445312,1.8763427734375,1.1990280151367188,1.5925750732421875,1.5742950439453125,1.8763427734375,1.5102081298828125,1.5742950439453125,2.06854248046875,0.0,0.7047805786132812,1.9129409790039062,1.2813949584960938,1.4186935424804688,1.290557861328125,1.14410400390625,1.3363189697265625,2.97467041015625,4.6221771240234375,5.436790466308594,0.540008544921875,-0.0549163818359375,-0.338653564453125,0.8786773681640625,0.29290008544921875,0.13729095458984375,1.034271240234375,1.4003829956054688,-0.0549163818359375,0.4942474365234375,0.0,-2.5902481079101562,-2.388885498046875,-2.9197463989257812,-1.5834426879882812,0.29290008544921875,0.1555938720703125,1.3912353515625,0.40271759033203125,-0.37525177001953125,0.4393310546875,2.8831558227539062,2.4987258911132812,2.5353469848632812,1.2173385620117188,2.05938720703125,-0.5125579833984375,-3.9814834594726562,-4.722877502441406,-5.3452606201171875,-5.5283050537109375,0.0,2.5993881225585938,4.375038146972656,3.5238571166992188,2.2149810791015625,2.370574951171875,3.5787506103515625,5.052375793457031,4.4025115966796875,4.39337158203125,4.6862335205078125,6.4619140625,5.299468994140625,3.6519851684570312,-1.5742950439453125,-4.4482879638671875,-5.253730773925781,-7.166679382324219,-8.301628112792969,0.0,-2.4987258911132812,-0.7962875366210938,-4.805244445800781,-4.613029479980469,-13.7567138671875,-7.816520690917969,-12.731597900390625,-22.96446990966797,-16.639862060546875,-26.579849243164062,-21.57323455810547,-27.07410430908203,-29.655197143554688,-29.499603271484375,-25.820159912109375,-18.8182373046875,-18.424659729003906,-10.324394226074219,-14.873367309570312,-12.475318908691406,-14.6719970703125,0.0,-0.4942626953125,-0.31119537353515625,5.931037902832031,5.7662811279296875,8.686042785644531,14.534706115722656,15.422523498535156,16.29204559326172,12.008522033691406,12.58514404296875,16.365272521972656,15.5872802734375,9.583015441894531,10.589828491210938,8.805015563964844,10.031509399414062,10.370155334472656,10.370155334472656,12.466163635253906,11.907844543457031,0.0,0.2013702392578125,-0.366119384765625,-3.496368408203125,-1.60174560546875,-0.20136260986328125,-1.5468292236328125,-2.3339767456054688,-2.6451644897460938,-3.5146865844726562,-3.4414749145507812,0.46680450439453125,0.23797607421875,3.0479049682617188,0.8213577270507812,0.7099456787109375,5.7238311767578125,7.125862121582031,7.729377746582031,11.879768371582031,0.0,1.8105850219726562,4.6889190673828125,5.413139343261719,6.7873382568359375,7.520843505859375,7.641563415527344,7.49298095703125,0.9192276000976562,1.5134658813476562,1.7734375,4.66107177734375,5.5802764892578125,6.15594482421875,7.9108123779296875,11.578384399414062,11.661941528320312,6.815193176269531,8.495773315429688,7.678680419921875,9.210693359375,10.668441772460938,0.0,2.5719451904296875,6.945159912109375,3.6954193115234375,6.3787841796875,11.689773559570312,12.451156616210938,10.074203491210938,12.785415649414062,15.348068237304688,13.964614868164062,15.041656494140625,18.282119750976562,20.826202392578125,22.64605712890625,19.67486572265625,17.214324951171875,23.0174560546875,18.829925537109375,22.822463989257812,18.653518676757812,17.771453857421875,0.0,-1.754852294921875,-0.4735260009765625,-0.1578521728515625,-0.909942626953125,-2.330535888671875,-2.7855072021484375,0.4271087646484375,-1.20703125,-1.9127044677734375,-1.55059814453125,-0.343536376953125,-0.779937744140625,0.7706451416015625,-1.70843505859375,1.6155853271484375,3.18475341796875,5.85882568359375,3.4354248046875,4.2432403564453125,3.0269012451171875,0.0,2.469818115234375,-4.1225433349609375,-6.434478759765625,-10.835556030273438,-3.63043212890625,-6.833740234375,-6.3044891357421875,-5.2552947998046875,-5.28314208984375,-6.8615875244140625,-5.5059814453125,-5.7659759521484375,-9.730636596679688,-8.477188110351562,-13.231094360351562,-12.089035034179688,-13.277511596679688,-8.616455078125,-9.0899658203125,-9.795623779296875,0.0,-2.3491058349609375,-0.2042694091796875,-2.5719451904296875,-2.321258544921875,-0.64996337890625,0.2971038818359375,1.810577392578125,-0.2042694091796875,0.575653076171875,-2.804046630859375,-1.5784454345703125,-4.0018310546875,-5.7195587158203125,-7.8458251953125,-8.523605346679688,-6.629486083984375,-38.81120300292969,-39.29402160644531,-45.22712707519531,-44.744300842285156,-46.41558837890625,0.0,3.602569580078125,6.146644592285156,9.145698547363281,8.625747680664062,8.718589782714844,10.167045593261719,12.701850891113281,10.77056884765625,13.444633483886719,12.181892395019531,10.362037658691406,11.234817504882812,11.931198120117188,10.389877319335938,10.733421325683594,10.185623168945312,11.383369445800781,12.460441589355469,14.233871459960938,0.0,-0.48282623291015625,-0.5663833618164062,1.5041580200195312,0.18569183349609375,0.900634765625,-0.037139892578125,-0.018585205078125,-2.0148468017578125,-1.587738037109375,0.04642486572265625,1.8384170532226562,5.246009826660156,4.0110931396484375,2.1355361938476562,2.7019271850585938,2.7669219970703125,2.8226242065429688,7.3258514404296875,6.434478759765625,7.075141906738281,6.843017578125,0.0,0.6870803833007812,0.46425628662109375,-0.408538818359375,1.78271484375,0.05570220947265625,0.14855194091796875,-1.0956268310546875,-2.9154891967773438,-3.9368362426757812,-2.00555419921875,-1.4948806762695312,-1.2441864013671875,-1.6341629028320312,0.36212158203125,5.236717224121094,2.73907470703125,1.1141891479492188,-2.8226394653320312,0.0,0.0,0.9749221801757812,2.5533599853515625,0.67779541015625,1.8012847900390625,1.8384246826171875,0.10213470458984375,2.7483673095703125,2.2005386352539062,1.11419677734375,-3.0176162719726562,-0.8170852661132812,-2.5440826416015625,-3.5561447143554688,-4.3639373779296875,-2.785491943359375,-5.450279235839844,-5.765968322753906,0.0,0.8542098999023438,-1.2070465087890625,-2.2098312377929688,-1.2441940307617188,-1.2534713745117188,1.6805801391601562,1.4020309448242188,2.2562484741210938,-0.5571136474609375,-1.5320281982421875,-2.0891265869140625,-0.7427978515625,-2.4419479370117188,-1.1606292724609375,-1.3649063110351562,-1.9498519897460938,-3.0918960571289062,-2.7297897338867188,-1.587738037109375,-1.8291473388671875,-2.6740798950195312,-1.5134506225585938,0.0,5.6174163818359375,2.5069351196289062,3.7511215209960938,6.8987274169921875,7.4651031494140625,6.17449951171875,8.059349060058594,9.489234924316406,12.48828125,12.581146240234375,12.794692993164062,12.40472412109375,14.995208740234375,16.71295166015625,16.889358520507812,16.220870971679688,15.69158935546875,17.019363403320312,16.740814208984375,13.175384521484375,0.0,-3.9925613403320312,-2.664794921875,0.603515625,0.66851806640625,-1.39276123046875,-2.9618988037109375,-5.1253204345703125,-3.3142776489257812,0.0737762451171875,-1.3040924072265625,-0.700103759765625,-1.5494537353515625,1.3478240966796875,1.04583740234375,2.5463714599609375,2.1122589111328125,2.6501922607421875,-0.369781494140625,1.121337890625,0.0,-0.839935302734375,-2.0668182373046875,-0.141571044921875,0.830474853515625,1.5477294921875,-0.056640625,1.811981201171875,3.284210205078125,5.483123779296875,3.95428466796875,2.34991455078125,1.6798553466796875,0.14154052734375,0.707794189453125,1.1419219970703125,-1.2457427978515625,1.132476806640625,0.3114166259765625,1.3589630126953125,2.6424713134765625,0.4058074951171875,0.0,1.141937255859375,1.13250732421875,6.776092529296875,5.28497314453125,7.172454833984375,7.9746551513671875,8.578659057617188,9.144882202148438,6.776092529296875,6.7383270263671875,4.05810546875,3.3880462646484375,-1.557159423828125,-1.113616943359375,-1.6421051025390625,-1.74591064453125,0.85882568359375,2.321624755859375,3.6145477294921875,3.0294342041015625,0.0,2.0950927734375,2.89727783203125,5.3038177490234375,2.878387451171875,3.057708740234375,2.29327392578125,1.811981201171875,4.1807708740234375,4.6998291015625,4.3506317138671875,5.2849578857421875,4.02032470703125,3.4918365478515625,4.2657012939453125,5.3132476806640625,4.6337738037109375,3.4540863037109375,3.59564208984375,5.09619140625,6.1909637451171875,6.436309814453125,0.0,-1.066436767578125,-0.264251708984375,-0.462432861328125,-3.1898651123046875,-4.1807861328125,-4.7564544677734375,-4.567718505859375,-4.68096923828125,-5.53033447265625,-4.95465087890625,-6.4080047607421875,-10.324554443359375,-7.814208984375,-7.851959228515625,-4.9357757568359375,-7.096954345703125,-7.181884765625,-11.83453369140625,-12.995361328125,-14.22222900390625,0.0,-2.057342529296875,-2.3876724243164062,-0.1887359619140625,-0.2736663818359375,-0.4813079833984375,-0.783294677734375,-1.2457199096679688,5.37933349609375,8.578643798828125,9.512939453125,8.89007568359375,7.9935150146484375,7.2668304443359375,3.3125457763671875,5.5020294189453125,8.276641845703125,9.229812622070312,8.427642822265625,10.871932983398438,8.333267211914062,0.0,0.688934326171875,3.010528564453125,2.52923583984375,3.10491943359375,2.3121795654296875,1.9724273681640625,-0.55682373046875,-1.25518798828125,-3.614532470703125,-4.5865936279296875,-3.7561187744140625,-4.02978515625,-3.5484771728515625,-4.992401123046875,-9.701690673828125,-10.16412353515625,-11.872299194335938,-14.684661865234375,-12.561241149902344,-16.79863739013672,0.0,0.33974456787109375,-0.7833099365234375,2.6236038208007812,4.426155090332031,4.4450225830078125,2.87841796875,5.266090393066406,7.682075500488281,5.4642791748046875,8.116188049316406,7.398948669433594,8.323814392089844,6.200401306152344,7.181877136230469,9.050498962402344,9.692237854003906,10.834175109863281,11.041801452636719,9.654487609863281,9.994239807128906,9.720558166503906,0.0,-1.0664215087890625,-1.7176055908203125,-4.1619110107421875,-2.9633636474609375,-2.633026123046875,-2.463165283203125,-1.1796875,-5.181121826171875,-2.3593597412109375,-5.0018310546875,-4.3506622314453125,-4.1430206298828125,-5.2849578857421875,-7.2479400634765625,-8.569175720214844,-8.606941223144531,-17.949996948242188,-18.336929321289062,-15.279197692871094,0.0,-0.5001907348632812,-3.6522903442382812,-1.453369140625,-0.7455520629882812,-1.8780517578125,-1.3118133544921875,-3.6145401000976562,-6.927085876464844,-8.805137634277344,-7.01202392578125,-6.389137268066406,-9.286445617675781,-11.296615600585938,-13.325668334960938,-15.760520935058594,-14.8450927734375,-11.947799682617188,-14.250534057617188,0.0,3.7183456420898438,-0.22650146484375,-2.9728012084960938,-4.039222717285156,-2.8689804077148438,2.4537353515625,-0.6983718872070312,-1.4816818237304688,0.7549972534179688,1.3967437744140625,4.945213317871094,6.096580505371094,5.766273498535156,2.4726104736328125,3.2842254638671875,0.509613037109375,1.8591690063476562,1.9724197387695312,2.4159774780273438,5.181144714355469,3.6805953979492188,1.613800048828125,0.0,1.745941162109375,0.1698760986328125,-0.8682327270507812,-1.3684158325195312,-2.0384750366210938,-2.8972854614257812,-4.916900634765625,-4.4450225830078125,-6.3608245849609375,-6.049385070800781,-5.0867767333984375,-3.539031982421875,-4.0486602783203125,-6.398567199707031,-6.511817932128906,-10.230171203613281,-10.475540161132812,-7.474433898925781,-9.276985168457031,0.0,-2.2744216918945312,0.14156341552734375,-2.4442977905273438,-5.917274475097656,-6.068275451660156,-5.266090393066406,-6.43634033203125,-5.133964538574219,-3.491851806640625,-4.596031188964844,-3.1615447998046875,-8.654136657714844,-4.0202789306640625,-1.9996490478515625,0.33184814453125,-0.765899658203125,-2.10650634765625,-0.9893264770507812,1.6141815185546875,0.34156036376953125,0.0,2.710357666015625,1.0685958862304688,1.4863204956054688,2.584075927734375,0.5148696899414062,-2.4675064086914062,-5.012725830078125,-8.267112731933594,-8.704261779785156,-5.8578948974609375,-6.382484436035156,-6.1493377685546875,-5.090446472167969,-5.177879333496094,-4.944732666015625,-0.8937454223632812,-1.9720611572265625,-3.7498321533203125,-5.245872497558594,-8.3642578125,0.0,-1.4960403442382812,-0.8160247802734375,0.00971221923828125,-0.10686492919921875,-2.3120651245117188,-4.225837707519531,-4.6144256591796875,-5.129295349121094,-2.6229324340820312,-2.5355072021484375,1.5931854248046875,1.5834808349609375,-0.39829254150390625,2.96295166015625,1.2337493896484375,-0.39829254150390625,0.59259033203125,1.039459228515625,2.4383621215820312,0.0,-2.525787353515625,-0.29144287109375,1.457183837890625,0.748016357421875,0.5245895385742188,-0.029144287109375,2.2149200439453125,1.4086151123046875,2.0983428955078125,1.96234130859375,0.39829254150390625,-0.8160247802734375,-1.2920379638671875,-2.108062744140625,-5.2070159912109375,-6.23675537109375,-6.1881866455078125,-5.430450439453125,-9.277427673339844,-8.947128295898438,-9.005416870117188,-8.325401306152344,0.0,-0.6897430419921875,0.1845703125,1.54461669921875,1.2920303344726562,3.001800537109375,4.828132629394531,1.8263397216796875,2.26348876953125,0.417724609375,-0.03885650634765625,0.272003173828125,-1.0200347900390625,-1.59320068359375,-2.5354995727539062,-4.381278991699219,-4.225852966308594,-4.721282958984375,-2.4480819702148438,-3.4001083374023438,-2.6520843505859375,0.0,3.9829788208007812,3.14752197265625,2.3509292602539062,0.573150634765625,0.1068572998046875,-0.9034652709960938,-1.3891830444335938,1.1754608154296875,0.6508712768554688,2.826934814453125,4.93499755859375,2.7103652954101562,2.885223388671875,6.741905212402344,6.868202209472656,12.026641845703125,13.425544738769531,13.114677429199219,13.376968383789062,11.774063110351562,0.0,-1.816619873046875,-3.060089111328125,0.17486572265625,1.6806259155273438,2.0692062377929688,1.66119384765625,11.016334533691406,13.920989990234375,12.619239807128906,13.571266174316406,14.785591125488281,15.523895263671875,12.580375671386719,12.298660278320312,13.386695861816406,13.610130310058594,14.387290954589844,11.812934875488281,10.763755798339844,14.601020812988281,0.0,0.0194244384765625,-1.6903457641601562,-4.118995666503906,-4.0218353271484375,-4.070411682128906,-4.585289001464844,-3.5458221435546875,-2.1372146606445312,-2.2343597412109375,-6.2464752197265625,-6.460205078125,-7.4899444580078125,-7.305366516113281,-7.00421142578125,-7.800811767578125,-8.267112731933594,-8.42254638671875,-9.90887451171875,-7.674522399902344,-8.568260192871094,0.0,2.8269424438476562,2.1177825927734375,4.98358154296875,7.247077941894531,9.170555114746094,10.579177856445312,12.337516784667969,12.658103942871094,11.880928039550781,12.726104736328125,11.356338500976562,12.764961242675781,12.366661071777344,11.861503601074219,11.832359313964844,9.831153869628906,8.966552734375,11.764350891113281,14.13470458984375,0.0,1.8846359252929688,-0.38858795166015625,-1.2726058959960938,-1.156036376953125,-2.3509292602539062,-2.2634963989257812,-3.5749664306640625,-2.4772109985351562,-2.2052001953125,-1.7097702026367188,-2.9823760986328125,-3.5749664306640625,-6.0716094970703125,-5.605308532714844,-4.876716613769531,-7.625946044921875,-5.731597900390625,-7.004203796386719,0.0,0.29143524169921875,2.5937957763671875,5.343017578125,2.5840835571289062,3.0892410278320312,1.7097625732421875,1.19488525390625,0.7771682739257812,3.7789688110351562,1.3308944702148438,5.896751403808594,4.8475799560546875,6.9459228515625,8.985984802246094,7.781379699707031,9.238563537597656,8.801406860351562,8.762550354003906,8.976272583007812,9.802009582519531,11.502059936523438,11.968360900878906,0.0,1.4474716186523438,0.40801239013671875,2.3217926025390625,1.0977401733398438,0.21372222900390625,0.7674560546875,1.6806259155273438,1.068603515625,0.8548812866210938,1.2823257446289062,0.9520339965820312,0.5245895385742188,7.412208557128906,6.042472839355469,6.907066345214844,6.829353332519531,10.035148620605469,8.694541931152344,0.0,-0.1165771484375,1.2628936767578125,-0.378875732421875,0.2719879150390625,1.2628936767578125,0.19427490234375,0.3400115966796875,-0.7674560546875,-0.6923980712890625,-0.9689178466796875,0.8680267333984375,0.334716796875,1.598846435546875,1.9741363525390625,0.99639892578125,-2.4207000732421875,-3.03302001953125,-2.8058700561523438,-0.86029052734375,-2.015777587890625,-1.818267822265625,0.0,0.7900848388671875,-0.6616973876953125,-0.3259124755859375,-0.46417236328125,1.0271148681640625,0.543182373046875,1.580169677734375,3.081329345703125,3.347991943359375,4.8096466064453125,5.0466766357421875,3.7924041748046875,2.5875244140625,2.903564453125,1.2838897705078125,0.25677490234375,0.82958984375,2.073974609375,2.2319793701171875,4.582489013671875,0.0,-0.1481475830078125,-2.0937347412109375,-1.274017333984375,0.3259124755859375,1.7480621337890625,5.95526123046875,9.293380737304688,9.678543090820312,10.31060791015625,10.231597900390625,8.34527587890625,-0.6123199462890625,-0.5234375,-2.13323974609375,-1.91595458984375,-2.1826171875,-0.4740447998046875,2.2319793701171875,1.7776947021484375,0.0,-3.1405792236328125,-4.1380615234375,-3.387481689453125,-0.582672119140625,-1.7381744384765625,-0.8592071533203125,1.481414794921875,1.244384765625,2.5282745361328125,1.283905029296875,1.017242431640625,-2.0245819091796875,-1.0172271728515625,0.3160552978515625,2.054229736328125,3.7035369873046875,-0.799957275390625,1.0567474365234375,1.92584228515625,3.614654541015625,4.1973419189453125,3.2591094970703125,0.0,-0.5135498046875,0.5431976318359375,1.738189697265625,2.24188232421875,0.967864990234375,-2.903564453125,-2.409759521484375,-2.1727294921875,-2.913421630859375,-2.913421630859375,-3.446746826171875,-4.6022491455078125,-6.94287109375,-5.471343994140625,-6.16265869140625,-10.873542785644531,-10.379737854003906,-10.113090515136719,-8.760055541992188,0.0,-0.6123123168945312,0.36540985107421875,0.98760986328125,2.33074951171875,1.333282470703125,2.6072845458984375,3.78253173828125,3.06158447265625,0.22714996337890625,2.1134796142578125,1.906097412109375,-0.9382171630859375,4.7602691650390625,2.1134796142578125,3.5948944091796875,5.0466766357421875,2.1233673095703125,2.627044677734375,2.7949371337890625,5.02691650390625,5.372589111328125,0.0,2.469024658203125,2.8640594482421875,2.43939208984375,4.5232391357421875,6.0145263671875,6.291046142578125,8.908218383789062,8.839080810546875,11.436492919921875,12.28582763671875,12.354949951171875,13.698104858398438,17.006591796875,16.216506958007812,16.868331909179688,17.88555908203125,18.626266479492188,19.969406127929688,22.270538330078125,22.75445556640625,0.0,-0.8098297119140625,-0.720947265625,-1.96533203125,-0.7407073974609375,0.0691375732421875,-0.948089599609375,-1.8073272705078125,-0.3160247802734375,-4.0294342041015625,-6.508331298828125,-5.1256866455078125,-4.947906494140625,-8.839080810546875,-7.8119659423828125,-7.2984161376953125,-6.824371337890625,-4.1380767822265625,-5.6886138916015625,-5.4318389892578125],\"xaxis\":\"x\",\"yaxis\":\"y\",\"type\":\"histogram\"}],                        {\"template\":{\"data\":{\"histogram2dcontour\":[{\"type\":\"histogram2dcontour\",\"colorbar\":{\"outlinewidth\":0,\"ticks\":\"\"},\"colorscale\":[[0.0,\"#0d0887\"],[0.1111111111111111,\"#46039f\"],[0.2222222222222222,\"#7201a8\"],[0.3333333333333333,\"#9c179e\"],[0.4444444444444444,\"#bd3786\"],[0.5555555555555556,\"#d8576b\"],[0.6666666666666666,\"#ed7953\"],[0.7777777777777778,\"#fb9f3a\"],[0.8888888888888888,\"#fdca26\"],[1.0,\"#f0f921\"]]}],\"choropleth\":[{\"type\":\"choropleth\",\"colorbar\":{\"outlinewidth\":0,\"ticks\":\"\"}}],\"histogram2d\":[{\"type\":\"histogram2d\",\"colorbar\":{\"outlinewidth\":0,\"ticks\":\"\"},\"colorscale\":[[0.0,\"#0d0887\"],[0.1111111111111111,\"#46039f\"],[0.2222222222222222,\"#7201a8\"],[0.3333333333333333,\"#9c179e\"],[0.4444444444444444,\"#bd3786\"],[0.5555555555555556,\"#d8576b\"],[0.6666666666666666,\"#ed7953\"],[0.7777777777777778,\"#fb9f3a\"],[0.8888888888888888,\"#fdca26\"],[1.0,\"#f0f921\"]]}],\"heatmap\":[{\"type\":\"heatmap\",\"colorbar\":{\"outlinewidth\":0,\"ticks\":\"\"},\"colorscale\":[[0.0,\"#0d0887\"],[0.1111111111111111,\"#46039f\"],[0.2222222222222222,\"#7201a8\"],[0.3333333333333333,\"#9c179e\"],[0.4444444444444444,\"#bd3786\"],[0.5555555555555556,\"#d8576b\"],[0.6666666666666666,\"#ed7953\"],[0.7777777777777778,\"#fb9f3a\"],[0.8888888888888888,\"#fdca26\"],[1.0,\"#f0f921\"]]}],\"heatmapgl\":[{\"type\":\"heatmapgl\",\"colorbar\":{\"outlinewidth\":0,\"ticks\":\"\"},\"colorscale\":[[0.0,\"#0d0887\"],[0.1111111111111111,\"#46039f\"],[0.2222222222222222,\"#7201a8\"],[0.3333333333333333,\"#9c179e\"],[0.4444444444444444,\"#bd3786\"],[0.5555555555555556,\"#d8576b\"],[0.6666666666666666,\"#ed7953\"],[0.7777777777777778,\"#fb9f3a\"],[0.8888888888888888,\"#fdca26\"],[1.0,\"#f0f921\"]]}],\"contourcarpet\":[{\"type\":\"contourcarpet\",\"colorbar\":{\"outlinewidth\":0,\"ticks\":\"\"}}],\"contour\":[{\"type\":\"contour\",\"colorbar\":{\"outlinewidth\":0,\"ticks\":\"\"},\"colorscale\":[[0.0,\"#0d0887\"],[0.1111111111111111,\"#46039f\"],[0.2222222222222222,\"#7201a8\"],[0.3333333333333333,\"#9c179e\"],[0.4444444444444444,\"#bd3786\"],[0.5555555555555556,\"#d8576b\"],[0.6666666666666666,\"#ed7953\"],[0.7777777777777778,\"#fb9f3a\"],[0.8888888888888888,\"#fdca26\"],[1.0,\"#f0f921\"]]}],\"surface\":[{\"type\":\"surface\",\"colorbar\":{\"outlinewidth\":0,\"ticks\":\"\"},\"colorscale\":[[0.0,\"#0d0887\"],[0.1111111111111111,\"#46039f\"],[0.2222222222222222,\"#7201a8\"],[0.3333333333333333,\"#9c179e\"],[0.4444444444444444,\"#bd3786\"],[0.5555555555555556,\"#d8576b\"],[0.6666666666666666,\"#ed7953\"],[0.7777777777777778,\"#fb9f3a\"],[0.8888888888888888,\"#fdca26\"],[1.0,\"#f0f921\"]]}],\"mesh3d\":[{\"type\":\"mesh3d\",\"colorbar\":{\"outlinewidth\":0,\"ticks\":\"\"}}],\"scatter\":[{\"fillpattern\":{\"fillmode\":\"overlay\",\"size\":10,\"solidity\":0.2},\"type\":\"scatter\"}],\"parcoords\":[{\"type\":\"parcoords\",\"line\":{\"colorbar\":{\"outlinewidth\":0,\"ticks\":\"\"}}}],\"scatterpolargl\":[{\"type\":\"scatterpolargl\",\"marker\":{\"colorbar\":{\"outlinewidth\":0,\"ticks\":\"\"}}}],\"bar\":[{\"error_x\":{\"color\":\"#2a3f5f\"},\"error_y\":{\"color\":\"#2a3f5f\"},\"marker\":{\"line\":{\"color\":\"#E5ECF6\",\"width\":0.5},\"pattern\":{\"fillmode\":\"overlay\",\"size\":10,\"solidity\":0.2}},\"type\":\"bar\"}],\"scattergeo\":[{\"type\":\"scattergeo\",\"marker\":{\"colorbar\":{\"outlinewidth\":0,\"ticks\":\"\"}}}],\"scatterpolar\":[{\"type\":\"scatterpolar\",\"marker\":{\"colorbar\":{\"outlinewidth\":0,\"ticks\":\"\"}}}],\"histogram\":[{\"marker\":{\"pattern\":{\"fillmode\":\"overlay\",\"size\":10,\"solidity\":0.2}},\"type\":\"histogram\"}],\"scattergl\":[{\"type\":\"scattergl\",\"marker\":{\"colorbar\":{\"outlinewidth\":0,\"ticks\":\"\"}}}],\"scatter3d\":[{\"type\":\"scatter3d\",\"line\":{\"colorbar\":{\"outlinewidth\":0,\"ticks\":\"\"}},\"marker\":{\"colorbar\":{\"outlinewidth\":0,\"ticks\":\"\"}}}],\"scattermapbox\":[{\"type\":\"scattermapbox\",\"marker\":{\"colorbar\":{\"outlinewidth\":0,\"ticks\":\"\"}}}],\"scatterternary\":[{\"type\":\"scatterternary\",\"marker\":{\"colorbar\":{\"outlinewidth\":0,\"ticks\":\"\"}}}],\"scattercarpet\":[{\"type\":\"scattercarpet\",\"marker\":{\"colorbar\":{\"outlinewidth\":0,\"ticks\":\"\"}}}],\"carpet\":[{\"aaxis\":{\"endlinecolor\":\"#2a3f5f\",\"gridcolor\":\"white\",\"linecolor\":\"white\",\"minorgridcolor\":\"white\",\"startlinecolor\":\"#2a3f5f\"},\"baxis\":{\"endlinecolor\":\"#2a3f5f\",\"gridcolor\":\"white\",\"linecolor\":\"white\",\"minorgridcolor\":\"white\",\"startlinecolor\":\"#2a3f5f\"},\"type\":\"carpet\"}],\"table\":[{\"cells\":{\"fill\":{\"color\":\"#EBF0F8\"},\"line\":{\"color\":\"white\"}},\"header\":{\"fill\":{\"color\":\"#C8D4E3\"},\"line\":{\"color\":\"white\"}},\"type\":\"table\"}],\"barpolar\":[{\"marker\":{\"line\":{\"color\":\"#E5ECF6\",\"width\":0.5},\"pattern\":{\"fillmode\":\"overlay\",\"size\":10,\"solidity\":0.2}},\"type\":\"barpolar\"}],\"pie\":[{\"automargin\":true,\"type\":\"pie\"}]},\"layout\":{\"autotypenumbers\":\"strict\",\"colorway\":[\"#636efa\",\"#EF553B\",\"#00cc96\",\"#ab63fa\",\"#FFA15A\",\"#19d3f3\",\"#FF6692\",\"#B6E880\",\"#FF97FF\",\"#FECB52\"],\"font\":{\"color\":\"#2a3f5f\"},\"hovermode\":\"closest\",\"hoverlabel\":{\"align\":\"left\"},\"paper_bgcolor\":\"white\",\"plot_bgcolor\":\"#E5ECF6\",\"polar\":{\"bgcolor\":\"#E5ECF6\",\"angularaxis\":{\"gridcolor\":\"white\",\"linecolor\":\"white\",\"ticks\":\"\"},\"radialaxis\":{\"gridcolor\":\"white\",\"linecolor\":\"white\",\"ticks\":\"\"}},\"ternary\":{\"bgcolor\":\"#E5ECF6\",\"aaxis\":{\"gridcolor\":\"white\",\"linecolor\":\"white\",\"ticks\":\"\"},\"baxis\":{\"gridcolor\":\"white\",\"linecolor\":\"white\",\"ticks\":\"\"},\"caxis\":{\"gridcolor\":\"white\",\"linecolor\":\"white\",\"ticks\":\"\"}},\"coloraxis\":{\"colorbar\":{\"outlinewidth\":0,\"ticks\":\"\"}},\"colorscale\":{\"sequential\":[[0.0,\"#0d0887\"],[0.1111111111111111,\"#46039f\"],[0.2222222222222222,\"#7201a8\"],[0.3333333333333333,\"#9c179e\"],[0.4444444444444444,\"#bd3786\"],[0.5555555555555556,\"#d8576b\"],[0.6666666666666666,\"#ed7953\"],[0.7777777777777778,\"#fb9f3a\"],[0.8888888888888888,\"#fdca26\"],[1.0,\"#f0f921\"]],\"sequentialminus\":[[0.0,\"#0d0887\"],[0.1111111111111111,\"#46039f\"],[0.2222222222222222,\"#7201a8\"],[0.3333333333333333,\"#9c179e\"],[0.4444444444444444,\"#bd3786\"],[0.5555555555555556,\"#d8576b\"],[0.6666666666666666,\"#ed7953\"],[0.7777777777777778,\"#fb9f3a\"],[0.8888888888888888,\"#fdca26\"],[1.0,\"#f0f921\"]],\"diverging\":[[0,\"#8e0152\"],[0.1,\"#c51b7d\"],[0.2,\"#de77ae\"],[0.3,\"#f1b6da\"],[0.4,\"#fde0ef\"],[0.5,\"#f7f7f7\"],[0.6,\"#e6f5d0\"],[0.7,\"#b8e186\"],[0.8,\"#7fbc41\"],[0.9,\"#4d9221\"],[1,\"#276419\"]]},\"xaxis\":{\"gridcolor\":\"white\",\"linecolor\":\"white\",\"ticks\":\"\",\"title\":{\"standoff\":15},\"zerolinecolor\":\"white\",\"automargin\":true,\"zerolinewidth\":2},\"yaxis\":{\"gridcolor\":\"white\",\"linecolor\":\"white\",\"ticks\":\"\",\"title\":{\"standoff\":15},\"zerolinecolor\":\"white\",\"automargin\":true,\"zerolinewidth\":2},\"scene\":{\"xaxis\":{\"backgroundcolor\":\"#E5ECF6\",\"gridcolor\":\"white\",\"linecolor\":\"white\",\"showbackground\":true,\"ticks\":\"\",\"zerolinecolor\":\"white\",\"gridwidth\":2},\"yaxis\":{\"backgroundcolor\":\"#E5ECF6\",\"gridcolor\":\"white\",\"linecolor\":\"white\",\"showbackground\":true,\"ticks\":\"\",\"zerolinecolor\":\"white\",\"gridwidth\":2},\"zaxis\":{\"backgroundcolor\":\"#E5ECF6\",\"gridcolor\":\"white\",\"linecolor\":\"white\",\"showbackground\":true,\"ticks\":\"\",\"zerolinecolor\":\"white\",\"gridwidth\":2}},\"shapedefaults\":{\"line\":{\"color\":\"#2a3f5f\"}},\"annotationdefaults\":{\"arrowcolor\":\"#2a3f5f\",\"arrowhead\":0,\"arrowwidth\":1},\"geo\":{\"bgcolor\":\"white\",\"landcolor\":\"#E5ECF6\",\"subunitcolor\":\"white\",\"showland\":true,\"showlakes\":true,\"lakecolor\":\"white\"},\"title\":{\"x\":0.05},\"mapbox\":{\"style\":\"light\"}}},\"xaxis\":{\"anchor\":\"y\",\"domain\":[0.0,1.0],\"title\":{\"text\":\"price\"}},\"yaxis\":{\"anchor\":\"x\",\"domain\":[0.0,1.0],\"title\":{\"text\":\"count\"}},\"legend\":{\"tracegroupgap\":0},\"margin\":{\"t\":60},\"barmode\":\"relative\"},                        {\"responsive\": true}                    )                };                            </script>        </div>"
      ],
      "text/plain": [
       "Figure({\n",
       "    'data': [{'alignmentgroup': 'True',\n",
       "              'bingroup': 'x',\n",
       "              'hovertemplate': 'price=%{x}<br>count=%{y}<extra></extra>',\n",
       "              'legendgroup': '',\n",
       "              'marker': {'color': '#636efa', 'pattern': {'shape': ''}},\n",
       "              'name': '',\n",
       "              'offsetgroup': '',\n",
       "              'orientation': 'v',\n",
       "              'showlegend': False,\n",
       "              'type': 'histogram',\n",
       "              'x': array([ 0.        , -0.48402405, -0.40892029, ..., -4.13807678, -5.68861389,\n",
       "                          -5.43183899]),\n",
       "              'xaxis': 'x',\n",
       "              'yaxis': 'y'}],\n",
       "    'layout': {'barmode': 'relative',\n",
       "               'legend': {'tracegroupgap': 0},\n",
       "               'margin': {'t': 60},\n",
       "               'template': '...',\n",
       "               'xaxis': {'anchor': 'y', 'domain': [0.0, 1.0], 'title': {'text': 'price'}},\n",
       "               'yaxis': {'anchor': 'x', 'domain': [0.0, 1.0], 'title': {'text': 'count'}}}\n",
       "})"
      ]
     },
     "execution_count": 13,
     "metadata": {},
     "output_type": "execute_result"
    }
   ],
   "source": [
    "px.histogram(hist_prices, x=\"price\")"
   ]
  },
  {
   "cell_type": "markdown",
   "metadata": {},
   "source": [
    "We see that during one month, the difference of the stock price to the price at the beginning of the month is usually between -30 and +30 (with some outliers). We do a grid search on a 16x16 grid to find the best combination of `theta_low` and `theta_high`."
   ]
  },
  {
   "cell_type": "code",
   "execution_count": 14,
   "metadata": {},
   "outputs": [
    {
     "name": "stdout",
     "output_type": "stream",
     "text": [
      "Best parameters: {'theta_low': -4.0, 'theta_high': 22.0} with an objective of 1.1821550687154134.\n"
     ]
    }
   ],
   "source": [
    "grid = {\"theta_low\": np.linspace(-30, 0, 16), \"theta_high\": np.linspace(0, 30, 16)}\n",
    "result = util.grid_search(grid, policy_hist, n_iterations=120, ordered=True)\n",
    "\n",
    "print(f\"Best parameters: {result['best_parameters']} with an objective of {result['best_performance']}.\")"
   ]
  },
  {
   "cell_type": "markdown",
   "metadata": {},
   "source": [
    "## Exercise 3\n",
    "Go to https://finance.yahoo.com/ to look up names and historical charts of stocks. Repeat the steps above with a stock of your choice (Tesla? Wirecard? ...?). You should be able to use the function `get_historical_monthly_paths` from above to get the data in the appropriate format.Try to find a policy, i.e. \"sell-low\", \"high-low\", or \"track\", with corresponding parameters that maximizes the expected profit.\n",
    "\n",
    "---"
   ]
  }
 ],
 "metadata": {
  "kernelspec": {
   "display_name": "Python 3",
   "language": "python",
   "name": "python3"
  },
  "language_info": {
   "codemirror_mode": {
    "name": "ipython",
    "version": 3
   },
   "file_extension": ".py",
   "mimetype": "text/x-python",
   "name": "python",
   "nbconvert_exporter": "python",
   "pygments_lexer": "ipython3",
   "version": "3.10.11"
  }
 },
 "nbformat": 4,
 "nbformat_minor": 2
}
